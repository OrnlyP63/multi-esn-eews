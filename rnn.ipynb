{
 "cells": [
  {
   "cell_type": "code",
   "execution_count": 1,
   "id": "115ce1c6-049c-4f12-89d2-3935db19b97a",
   "metadata": {},
   "outputs": [],
   "source": [
    "import torch\n",
    "import torch.nn as nn\n",
    "import torch.optim as optim\n",
    "from torch.utils.data import DataLoader, random_split\n",
    "\n",
    "import numpy as np\n",
    "import pandas as pd\n",
    "from tqdm.auto import tqdm"
   ]
  },
  {
   "cell_type": "code",
   "execution_count": 2,
   "id": "13d41c97-fa9c-45ee-8686-185f6a9843fc",
   "metadata": {},
   "outputs": [],
   "source": [
    "from timeit import default_timer as timer\n",
    "from torch.profiler import profile, record_function, ProfilerActivity"
   ]
  },
  {
   "cell_type": "code",
   "execution_count": 3,
   "id": "c80204c3-655d-4c08-b67f-e1f25b22b430",
   "metadata": {},
   "outputs": [
    {
     "data": {
      "text/plain": [
       "'cuda'"
      ]
     },
     "execution_count": 3,
     "metadata": {},
     "output_type": "execute_result"
    }
   ],
   "source": [
    "# Check device\n",
    "device = \"cuda\" if torch.cuda.is_available() else \"cpu\"\n",
    "device"
   ]
  },
  {
   "cell_type": "markdown",
   "id": "891662b8-2ecf-4062-ab2e-b4c024b15e6d",
   "metadata": {},
   "source": [
    "# Utils Function"
   ]
  },
  {
   "cell_type": "code",
   "execution_count": 4,
   "id": "dcf372e2-797d-4492-bdaa-dec185945a75",
   "metadata": {},
   "outputs": [],
   "source": [
    "def print_train_time(start:float, end:float, device: torch.device = None):\n",
    "    \"\"\"print difference between start and end time\"\"\"\n",
    "    total_time = end - start\n",
    "    print(f\"Train time on {device}: {total_time:.3f} seconds\")\n",
    "    return total_time"
   ]
  },
  {
   "cell_type": "code",
   "execution_count": 5,
   "id": "1945634b-0c48-4176-8777-81ed34e261e7",
   "metadata": {},
   "outputs": [],
   "source": [
    "def accuracy_fn(y_true, y_pred):\n",
    "    correct = torch.eq(y_true, y_pred).sum().item()\n",
    "    acc = (correct / len(y_pred)) * 100\n",
    "    return acc"
   ]
  },
  {
   "cell_type": "code",
   "execution_count": 6,
   "id": "f7b868c5-0420-4722-af99-0a08bed93391",
   "metadata": {},
   "outputs": [],
   "source": [
    "def results(res: str):\n",
    "    res_lst = res.split('\\n')\n",
    "\n",
    "    data = []\n",
    "    for row in res_lst[3:-4]:\n",
    "        row_split = [sp.strip() for sp in row[57:].split('  ') if sp != '']\n",
    "        data.append(row_split)\n",
    "\n",
    "    index = [l[:57].strip() for l in res_lst[3:-4]]\n",
    "\n",
    "    head = [c.strip() for c in res_lst[1].strip().split('  ') if c != '']\n",
    "\n",
    "    df = pd.DataFrame(data, columns=None)\n",
    "    df.columns = head[1:]\n",
    "    df.index = index\n",
    "\n",
    "    return df"
   ]
  },
  {
   "cell_type": "markdown",
   "id": "84a10c04-cb7d-492c-8e9a-9b37c67b3503",
   "metadata": {},
   "source": [
    "# Model RNN"
   ]
  },
  {
   "cell_type": "code",
   "execution_count": 7,
   "id": "c373f735-374e-4d71-9b7f-db494d1e38e7",
   "metadata": {},
   "outputs": [],
   "source": [
    "from training_function import train_step, test_step, accuracy_fn"
   ]
  },
  {
   "cell_type": "code",
   "execution_count": 8,
   "id": "34b683cb-e419-4934-a149-89d57a1a015c",
   "metadata": {},
   "outputs": [],
   "source": [
    "# Define the RNN model\n",
    "class RNNModel(nn.Module):\n",
    "    def __init__(self, input_size, hidden_size, output_size):\n",
    "        super(RNNModel, self).__init__()\n",
    "        self.hidden_size = hidden_size\n",
    "        self.rnn = nn.RNN(input_size, hidden_size, batch_first=True)\n",
    "        self.fc = nn.Linear(hidden_size, output_size)\n",
    "\n",
    "    def forward(self, x):\n",
    "        out, _ = self.rnn(x)\n",
    "        out = self.fc(out[:, -1, :])  # Taking only the last output of the sequence\n",
    "        return out"
   ]
  },
  {
   "cell_type": "markdown",
   "id": "f0f58167-1d1b-48fb-bd25-37b7117833d7",
   "metadata": {},
   "source": [
    "# Data"
   ]
  },
  {
   "cell_type": "code",
   "execution_count": 9,
   "id": "42dcdc48-8b90-4a2f-aa49-b9214db0de89",
   "metadata": {},
   "outputs": [],
   "source": [
    "import joblib\n",
    "from torch.utils import data"
   ]
  },
  {
   "cell_type": "code",
   "execution_count": 10,
   "id": "91782b38-6146-400e-a7d6-8483569dab2a",
   "metadata": {},
   "outputs": [],
   "source": [
    "train_data = 'dataset/trainset_v2_500_label4.jb'\n",
    "valid_data = 'dataset/testset_v2_500_label4.jb'\n",
    "\n",
    "test_data = 'dataset/testing_500_label4.jb'"
   ]
  },
  {
   "cell_type": "code",
   "execution_count": 11,
   "id": "508764e7-0319-4a5b-a17b-d232d1359445",
   "metadata": {},
   "outputs": [],
   "source": [
    "n_workers = 0\n",
    "valid_steps = 1\n",
    "save_steps = 50\n",
    "epochs = 3\n",
    "\n",
    "lr = 0.001\n",
    "batch_size = 128"
   ]
  },
  {
   "cell_type": "code",
   "execution_count": 12,
   "id": "b27866de-6251-4900-9a92-7faacdee8394",
   "metadata": {},
   "outputs": [],
   "source": [
    "train_x, train_y = joblib.load(train_data)\n",
    "val_x, val_y = joblib.load(valid_data)\n",
    "test_x, test_y = joblib.load(test_data)\n",
    "\n",
    "train_y, val_y, test_y = pd.get_dummies(train_y).values, pd.get_dummies(val_y).values,  pd.get_dummies(test_y).values\n",
    "\n",
    "train_set = data.TensorDataset(torch.swapaxes(torch.Tensor(train_x), 1, 2), torch.Tensor(train_y))\n",
    "valid_set = data.TensorDataset(torch.swapaxes(torch.Tensor(val_x), 1, 2), torch.Tensor(val_y))\n",
    "test_set = data.TensorDataset(torch.swapaxes(torch.Tensor(test_x), 1, 2), torch.Tensor(test_y))"
   ]
  },
  {
   "cell_type": "code",
   "execution_count": 13,
   "id": "ed1c228d-f3c8-42be-b2a4-a395cc45a9e2",
   "metadata": {},
   "outputs": [],
   "source": [
    "train_dataloader = DataLoader(\n",
    "    train_set,\n",
    "    batch_size=batch_size,\n",
    "    shuffle=True,\n",
    "    drop_last=True,\n",
    "    num_workers=n_workers,\n",
    "    # pin_memory=True\n",
    "  )\n",
    "valid_dataloader = DataLoader(\n",
    "    valid_set,\n",
    "    batch_size=batch_size,\n",
    "    num_workers=n_workers,\n",
    "    drop_last=True,\n",
    "    # pin_memory=True\n",
    "  )\n",
    "\n",
    "test_dataloader = DataLoader(\n",
    "    test_set,\n",
    "    batch_size=len(test_set),\n",
    "    num_workers=n_workers,\n",
    "    drop_last=True,\n",
    "    # pin_memory=True\n",
    "  )"
   ]
  },
  {
   "cell_type": "markdown",
   "id": "2f73d866-ba73-45d7-aa90-000ac961509d",
   "metadata": {
    "tags": []
   },
   "source": [
    "# Training Model RNN GPU"
   ]
  },
  {
   "cell_type": "code",
   "execution_count": 14,
   "id": "1e4d4397-fcbb-42e6-b1a2-a7f055639291",
   "metadata": {},
   "outputs": [
    {
     "data": {
      "text/plain": [
       "device(type='cuda', index=0)"
      ]
     },
     "execution_count": 14,
     "metadata": {},
     "output_type": "execute_result"
    }
   ],
   "source": [
    "# Define the parameters\n",
    "num_channels = 3\n",
    "sequence_length = 500\n",
    "hidden_units = 128\n",
    "output_units = 2\n",
    "\n",
    "\n",
    "# Create an instance of model_1\n",
    "torch.manual_seed(42)\n",
    "model = RNNModel(num_channels, hidden_units, output_units).to(device)\n",
    "next(model.parameters()).device"
   ]
  },
  {
   "cell_type": "code",
   "execution_count": 15,
   "id": "9222478d-6370-40d9-8afb-b4b38fd20a51",
   "metadata": {},
   "outputs": [],
   "source": [
    "# Define loss function and optimizer\n",
    "optimizer = optim.Adam(model.parameters(), lr=lr)\n",
    "loss_fn = nn.MSELoss()"
   ]
  },
  {
   "cell_type": "code",
   "execution_count": 16,
   "id": "dcc58afc-034e-4b7c-9654-0a00bbed24b0",
   "metadata": {
    "tags": []
   },
   "outputs": [
    {
     "data": {
      "application/vnd.jupyter.widget-view+json": {
       "model_id": "59794570501f4322a75e7c196c7f9503",
       "version_major": 2,
       "version_minor": 0
      },
      "text/plain": [
       "  0%|          | 0/3 [00:00<?, ?it/s]"
      ]
     },
     "metadata": {},
     "output_type": "display_data"
    },
    {
     "name": "stdout",
     "output_type": "stream",
     "text": [
      "Epoch: 0\n",
      "-------------\n",
      "Train loss: 0.25613 | Train acc: 66.38%\n",
      "Test loss: 0.16537 | Test acc: 82.03 %\n",
      "\n",
      "Epoch: 1\n",
      "-------------\n",
      "Train loss: 0.13523 | Train acc: 84.43%\n",
      "Test loss: 0.10710 | Test acc: 88.16 %\n",
      "\n",
      "Epoch: 2\n",
      "-------------\n",
      "Train loss: 0.09721 | Train acc: 89.06%\n",
      "Test loss: 0.09498 | Test acc: 88.70 %\n",
      "\n",
      "Time Consumtion: 4.032567600000002 sec\n"
     ]
    }
   ],
   "source": [
    "with profile(activities=[ProfilerActivity.CPU, ProfilerActivity.CUDA], profile_memory=True) as prof:\n",
    "    start_time = timer()\n",
    "    for epoch in tqdm(range(epochs)):\n",
    "        print(f\"Epoch: {epoch}\\n-------------\")\n",
    "\n",
    "        train_step(model=model,\n",
    "                   data_loader=train_dataloader, \n",
    "                   loss_fn=loss_fn,\n",
    "                   optimizer=optimizer,\n",
    "                   accuracy_fn=accuracy_fn,\n",
    "                   device=device)\n",
    "\n",
    "        test_step(model=model,\n",
    "                   data_loader=valid_dataloader, \n",
    "                   loss_fn=loss_fn,\n",
    "                   accuracy_fn=accuracy_fn,\n",
    "                   device=device)\n",
    "        prof.step()\n",
    "    end_time = timer()\n",
    "print(f'Time Consumtion: {end_time-start_time} sec')"
   ]
  },
  {
   "cell_type": "code",
   "execution_count": 17,
   "id": "02cfbf21-ee40-4db0-81f0-0e120d547810",
   "metadata": {
    "tags": []
   },
   "outputs": [
    {
     "name": "stdout",
     "output_type": "stream",
     "text": [
      "-------------------------------------------------------  ------------  ------------  ------------  ------------  ------------  ------------  ------------  ------------  ------------  ------------  ------------  ------------  ------------  ------------  \n",
      "                                                   Name    Self CPU %      Self CPU   CPU total %     CPU total  CPU time avg     Self CUDA   Self CUDA %    CUDA total  CUDA time avg       CPU Mem  Self CPU Mem      CUDA Mem  Self CUDA Mem    # of Calls  \n",
      "-------------------------------------------------------  ------------  ------------  ------------  ------------  ------------  ------------  ------------  ------------  ------------  ------------  ------------  ------------  ------------  ------------  \n",
      "                                            aten::empty         0.34%      13.159ms         0.34%      13.159ms       2.371us      58.196ms         1.49%      58.196ms      10.486us     461.38 Kb     461.38 Kb     196.95 Gb     196.95 Gb          5550  \n",
      "                                          aten::random_         0.05%       1.797ms         0.05%       1.797ms     199.667us       1.876ms         0.05%       1.876ms     208.444us           0 b           0 b           0 b           0 b             9  \n",
      "                                             aten::item         0.35%      13.379ms         6.07%     233.713ms     200.268us      14.312ms         0.37%      30.306ms      25.969us           0 b           0 b           0 b           0 b          1167  \n",
      "                              aten::_local_scalar_dense         5.72%     220.334ms         5.72%     220.334ms     188.804us      15.994ms         0.41%      15.994ms      13.705us           0 b           0 b           0 b           0 b          1167  \n",
      "                                               [memory]         0.00%       0.000us         0.00%       0.000us       0.000us       0.000us         0.00%       0.000us       0.000us    -145.21 Mb    -145.21 Mb      -1.38 Gb      -1.38 Gb          2455  \n",
      "                                            aten::zeros         0.78%      30.099ms         1.30%      50.124ms      36.965us      23.568ms         0.60%     114.000ms      84.071us       2.04 Kb          36 b       9.74 Gb     199.50 Kb          1356  \n",
      "                                            aten::zero_         0.67%      25.763ms         1.24%      47.625ms      18.081us      34.666ms         0.89%     118.570ms      45.015us           0 b           0 b           0 b           0 b          2634  \n",
      "enumerate(DataLoader)#_SingleProcessDataLoaderIter._...        25.96%     999.204ms        53.27%        2.051s      10.052ms     506.045ms        12.95%        1.676s       8.215ms     145.21 Mb    -374.60 Kb           0 b           0 b           204  \n",
      "                                         aten::randperm         0.06%       2.252ms         0.14%       5.296ms     441.333us       2.058ms         0.05%       5.161ms     430.083us     323.44 Kb         -48 b           0 b           0 b            12  \n",
      "                                    aten::scalar_tensor         0.02%     678.000us         0.02%     678.000us     113.000us     714.000us         0.02%     714.000us     119.000us          48 b          48 b           0 b           0 b             6  \n",
      "                                          aten::resize_         0.02%     880.000us         0.02%     880.000us       1.040us       3.052ms         0.08%       3.052ms       3.608us           0 b           0 b           0 b           0 b           846  \n",
      "                                     aten::resolve_conj         0.00%       5.000us         0.00%       5.000us       0.833us      12.000us         0.00%      12.000us       2.000us           0 b           0 b           0 b           0 b             6  \n",
      "                                      aten::resolve_neg         0.00%       1.000us         0.00%       1.000us       0.167us      36.000us         0.00%      36.000us       6.000us           0 b           0 b           0 b           0 b             6  \n",
      "                                           aten::select        23.13%     890.248ms        23.51%     904.809ms      17.374us     624.379ms        15.98%        1.030s      19.773us           0 b           0 b           0 b           0 b         52077  \n",
      "                                       aten::as_strided         0.43%      16.411ms         0.43%      16.411ms       0.293us     424.493ms        10.86%     424.493ms       7.580us           0 b           0 b           0 b           0 b         56004  \n",
      "                                            aten::stack         0.47%      17.984ms         4.09%     157.510ms     397.753us      10.363ms         0.27%     161.348ms     407.444us     145.21 Mb           0 b           0 b           0 b           396  \n",
      "                                              aten::cat         3.31%     127.552ms         3.61%     138.880ms     350.707us     136.092ms         3.48%     149.300ms     377.020us     145.21 Mb     145.21 Mb           0 b           0 b           396  \n",
      "                                           aten::narrow         0.15%       5.680ms         0.29%      11.328ms      28.606us       5.235ms         0.13%      13.208ms      33.354us           0 b           0 b           0 b           0 b           396  \n",
      "                                            aten::slice         0.36%      14.016ms         0.38%      14.479ms      13.044us      10.870ms         0.28%      14.852ms      13.380us           0 b           0 b           0 b           0 b          1110  \n",
      "                                             aten::view         0.05%       1.746ms         0.05%       1.746ms       2.445us       3.458ms         0.09%       3.458ms       4.843us           0 b           0 b           0 b           0 b           714  \n",
      "                                               aten::to         0.44%      16.943ms         2.54%      97.953ms      63.033us      18.440ms         0.47%     104.832ms      67.459us       3.73 Kb           0 b     145.41 Mb           0 b          1554  \n",
      "                                         aten::_to_copy         0.99%      38.044ms         2.10%      81.010ms      52.332us      29.453ms         0.75%      86.392ms      55.809us       3.73 Kb         120 b     145.41 Mb           0 b          1548  \n",
      "                                    aten::empty_strided         0.11%       4.237ms         0.11%       4.237ms       2.465us      12.928ms         0.33%      12.928ms       7.521us       3.61 Kb       3.61 Kb     145.62 Mb     145.62 Mb          1719  \n",
      "                                            aten::copy_         1.40%      53.739ms         1.40%      53.739ms      19.903us     176.696ms         4.52%     176.696ms      65.443us           0 b           0 b           0 b           0 b          2700  \n",
      "                                            aten::fill_         0.61%      23.402ms         0.61%      23.402ms      10.305us      86.096ms         2.20%      86.096ms      37.911us           0 b           0 b           0 b           0 b          2271  \n",
      "                                         aten::rnn_tanh         0.42%      16.180ms        10.35%     398.470ms       2.012ms      16.615ms         0.43%     620.345ms       3.133ms           0 b           0 b      11.17 Gb           0 b           198  \n",
      "                              aten::cudnn_is_acceptable         0.01%     230.000us         0.01%     230.000us       1.162us       1.189ms         0.03%       1.189ms       6.005us           0 b           0 b           0 b           0 b           198  \n",
      "                                             aten::set_         0.13%       4.886ms         0.13%       4.886ms       5.859us       3.626ms         0.09%       3.626ms       4.348us           0 b           0 b           0 b           0 b           834  \n",
      "                                       aten::_cudnn_rnn         9.07%     349.180ms         9.80%     377.252ms       1.905ms     548.283ms        14.03%     599.228ms       3.026ms           0 b           0 b      11.17 Gb     -66.80 Gb           198  \n",
      "                                        aten::transpose         0.52%      20.204ms         0.56%      21.402ms      11.714us      21.143ms         0.54%      30.488ms      16.687us           0 b           0 b           0 b           0 b          1827  \n",
      "                                       aten::contiguous         0.17%       6.631ms         0.91%      34.958ms      51.790us       5.880ms         0.15%      97.226ms     144.039us           0 b           0 b       5.22 Gb           0 b           675  \n",
      "                                            aten::clone         0.30%      11.674ms         0.74%      28.327ms      41.966us      10.820ms         0.28%      91.346ms     135.327us           0 b           0 b       5.22 Gb           0 b           675  \n",
      "                                       aten::empty_like         0.33%      12.613ms         0.43%      16.386ms      14.077us      18.489ms         0.47%      26.166ms      22.479us           0 b           0 b       5.23 Gb     127.20 Mb          1164  \n",
      "                                       aten::transpose_         0.11%       4.173ms         0.13%       4.901ms      13.728us       1.323ms         0.03%       2.311ms       6.473us           0 b           0 b           0 b           0 b           357  \n",
      "                                      aten::as_strided_         0.02%     728.000us         0.02%     728.000us       2.039us     988.000us         0.03%     988.000us       2.768us           0 b           0 b           0 b           0 b           357  \n",
      "                                           aten::linear         0.09%       3.287ms         0.65%      25.006ms     126.293us       1.888ms         0.05%      21.561ms     108.894us           0 b           0 b     198.00 Kb           0 b           198  \n",
      "                                                aten::t         0.29%      11.179ms         0.55%      21.265ms      25.498us      14.088ms         0.36%      30.843ms      36.982us           0 b           0 b           0 b           0 b           834  \n",
      "                                            aten::addmm         0.39%      15.164ms         0.45%      17.418ms      87.970us       8.967ms         0.23%      10.392ms      52.485us           0 b           0 b     198.00 Kb     198.00 Kb           198  \n",
      "                                           aten::expand         0.06%       2.217ms         0.06%       2.254ms      11.384us     979.000us         0.03%       1.425ms       7.197us           0 b           0 b           0 b           0 b           198  \n",
      "                                aten::broadcast_tensors         0.00%     128.000us         0.00%     128.000us       0.646us       2.296ms         0.06%       2.296ms      11.596us           0 b           0 b           0 b           0 b           198  \n",
      "                                         aten::mse_loss         0.29%      11.321ms         0.48%      18.640ms      94.141us       7.857ms         0.20%      16.086ms      81.242us           0 b           0 b     202.00 Kb       4.00 Kb           198  \n",
      "                                             aten::mean         0.16%       6.323ms         0.17%       6.397ms      32.308us       5.933ms         0.15%       6.747ms      34.076us           0 b           0 b           0 b           0 b           198  \n",
      "                                              aten::add         0.06%       2.234ms         0.06%       2.234ms     372.333us       2.190ms         0.06%       2.190ms     365.000us           0 b           0 b       3.00 Kb       3.00 Kb             6  \n",
      "                                           aten::argmax         0.27%      10.573ms         0.28%      10.628ms      26.838us       8.855ms         0.23%      11.869ms      29.972us           0 b           0 b     396.00 Kb     396.00 Kb           396  \n",
      "                                               aten::eq         0.13%       5.118ms         0.13%       5.118ms      25.848us       4.734ms         0.12%       4.734ms      23.909us           0 b           0 b      99.00 Kb      99.00 Kb           198  \n",
      "                                              aten::sum         0.36%      13.986ms         0.60%      23.283ms      65.218us      12.111ms         0.31%      23.941ms      67.062us           0 b           0 b     178.50 Kb     -19.50 Kb           357  \n",
      "                     Optimizer.zero_grad#Adam.zero_grad         0.57%      22.032ms         1.14%      44.056ms     277.082us      13.588ms         0.35%      46.029ms     289.491us        -636 b     -43.93 Kb           0 b           0 b           159  \n",
      "                                        aten::ones_like         0.13%       4.818ms         0.24%       9.274ms      58.327us       4.159ms         0.11%       9.887ms      62.182us           0 b           0 b      79.50 Kb           0 b           159  \n",
      "autograd::engine::evaluate_function: MseLossBackward...         0.07%       2.695ms         0.72%      27.523ms     173.101us       3.044ms         0.08%      29.106ms     183.057us           0 b           0 b     159.00 Kb           0 b           159  \n",
      "                                       MseLossBackward0         0.09%       3.655ms         0.65%      24.828ms     156.151us       3.536ms         0.09%      26.062ms     163.912us           0 b           0 b     159.00 Kb           0 b           159  \n",
      "                                aten::mse_loss_backward         0.26%      10.167ms         0.68%      26.015ms      81.808us      10.009ms         0.26%      27.719ms      87.167us           0 b           0 b     159.00 Kb           0 b           318  \n",
      "                                       aten::zeros_like         0.20%       7.711ms         0.60%      22.920ms      69.455us       3.889ms         0.10%      21.647ms      65.597us           0 b           0 b      10.23 Mb           0 b           330  \n",
      "    autograd::engine::evaluate_function: AddmmBackward0         0.19%       7.299ms         1.20%      46.253ms     290.899us       5.093ms         0.13%      47.351ms     297.805us           0 b           0 b      10.02 Mb    -159.00 Kb           159  \n",
      "                                         AddmmBackward0         0.28%      10.626ms         0.90%      34.710ms     218.302us       7.437ms         0.19%      35.633ms     224.107us           0 b           0 b      10.09 Mb           0 b           159  \n",
      "                                               aten::mm         0.29%      11.192ms         0.29%      11.192ms      35.195us      12.290ms         0.31%      12.290ms      38.648us           0 b           0 b      10.09 Mb      10.09 Mb           318  \n",
      "autograd::engine::evaluate_function: struct torch::a...         0.27%      10.227ms         0.78%      30.196ms      31.652us       9.965ms         0.25%      34.427ms      36.087us           0 b           0 b     -10.49 Mb      -2.53 Mb           954  \n",
      "                 struct torch::autograd::AccumulateGrad         0.29%      11.007ms         0.52%      19.969ms      20.932us      11.774ms         0.30%      24.462ms      25.642us           0 b           0 b      -7.96 Mb      -7.96 Mb           954  \n",
      "                                           aten::detach         0.00%      41.000us         0.00%      53.000us       8.833us      42.000us         0.00%      94.000us      15.667us           0 b           0 b           0 b           0 b             6  \n",
      "                                                 detach         0.00%      12.000us         0.00%      12.000us       2.000us      52.000us         0.00%      52.000us       8.667us           0 b           0 b           0 b           0 b             6  \n",
      "        autograd::engine::evaluate_function: TBackward0         0.06%       2.157ms         0.22%       8.455ms      53.176us       2.122ms         0.05%      10.259ms      64.522us           0 b           0 b           0 b           0 b           159  \n",
      "                                             TBackward0         0.06%       2.226ms         0.16%       6.298ms      39.610us       2.481ms         0.06%       8.137ms      51.176us           0 b           0 b           0 b           0 b           159  \n",
      "    autograd::engine::evaluate_function: SliceBackward0         0.09%       3.576ms         1.00%      38.318ms     120.497us       2.624ms         0.07%     121.458ms     381.943us           0 b           0 b           0 b      -4.86 Gb           318  \n",
      "                                         SliceBackward0         0.11%       4.246ms         0.90%      34.742ms     109.252us       3.343ms         0.09%     118.834ms     373.692us           0 b           0 b       4.86 Gb           0 b           318  \n",
      "                                   aten::slice_backward         0.27%      10.554ms         0.79%      30.496ms      95.899us       6.603ms         0.17%     115.491ms     363.179us           0 b           0 b       4.86 Gb           0 b           318  \n",
      "autograd::engine::evaluate_function: SelectBackward0...         0.05%       1.880ms         0.52%      20.196ms     127.019us       1.203ms         0.03%      46.168ms     290.365us           0 b           0 b       4.84 Gb      -9.94 Mb           159  \n",
      "                                        SelectBackward0         0.06%       2.360ms         0.48%      18.316ms     115.195us       6.653ms         0.17%      44.965ms     282.799us           0 b           0 b       4.85 Gb           0 b           159  \n",
      "                                  aten::select_backward         0.14%       5.259ms         0.41%      15.956ms     100.352us       2.567ms         0.07%      38.312ms     240.956us           0 b           0 b       4.85 Gb           0 b           159  \n",
      "autograd::engine::evaluate_function: CudnnRnnBackwar...         0.08%       3.036ms        12.35%     475.428ms       2.990ms       1.809ms         0.05%     831.363ms       5.229ms           0 b           0 b     -14.79 Gb     -14.80 Gb           159  \n",
      "                                      CudnnRnnBackward0         0.11%       4.289ms        12.27%     472.392ms       2.971ms       2.604ms         0.07%     829.554ms       5.217ms           0 b           0 b      10.33 Mb    -126.39 Mb           159  \n",
      "                              aten::_cudnn_rnn_backward        10.58%     407.104ms        12.16%     468.103ms       2.944ms     687.236ms        17.59%     826.950ms       5.201ms           0 b           0 b     136.72 Mb    -109.24 Gb           159  \n",
      "                                       aten::resize_as_         0.16%       6.275ms         0.17%       6.488ms      10.201us       4.733ms         0.12%       6.788ms      10.673us           0 b           0 b           0 b           0 b           636  \n",
      "                               Optimizer.step#Adam.step         4.05%     156.060ms         7.86%     302.635ms       1.903ms      70.584ms         1.81%     244.777ms       1.539ms        -612 b     -43.27 Kb     136.00 Kb     -21.12 Mb           159  \n",
      "                                       aten::lift_fresh         0.00%       0.000us         0.00%       0.000us       0.000us      16.000us         0.00%      16.000us       2.667us           0 b           0 b           0 b           0 b             6  \n",
      "                                          aten::detach_         0.00%      71.000us         0.00%      72.000us      12.000us      49.000us         0.00%      71.000us      11.833us           0 b           0 b           0 b           0 b             6  \n",
      "                                                detach_         0.00%       1.000us         0.00%       1.000us       0.167us      22.000us         0.00%      22.000us       3.667us           0 b           0 b           0 b           0 b             6  \n",
      "                                             aten::add_         1.13%      43.516ms         2.04%      78.641ms      19.650us      50.014ms         1.28%      89.062ms      22.254us         472 b      -3.27 Kb           0 b           0 b          4002  \n",
      "                                             aten::mul_         0.49%      19.027ms         0.49%      19.027ms       9.972us      25.939ms         0.66%      25.939ms      13.595us           0 b           0 b           0 b           0 b          1908  \n",
      "                                         aten::addcmul_         0.29%      11.339ms         0.29%      11.339ms      11.886us      14.776ms         0.38%      14.776ms      15.488us           0 b           0 b           0 b           0 b           954  \n",
      "                                             aten::sqrt         0.35%      13.419ms         0.35%      13.419ms      14.066us      13.960ms         0.36%      13.960ms      14.633us           0 b           0 b      10.56 Mb      10.56 Mb           954  \n",
      "                                              aten::div         0.38%      14.743ms         0.38%      14.743ms      15.454us      13.896ms         0.36%      13.896ms      14.566us           0 b           0 b      10.56 Mb      10.56 Mb           954  \n",
      "                                         aten::addcdiv_         0.26%      10.135ms         0.26%      10.135ms      10.624us      12.429ms         0.32%      12.429ms      13.028us           0 b           0 b           0 b           0 b           954  \n",
      "                                             aten::div_         0.02%     655.000us         0.02%     655.000us     109.167us      99.000us         0.00%      99.000us      16.500us           0 b           0 b           0 b           0 b             6  \n",
      "-------------------------------------------------------  ------------  ------------  ------------  ------------  ------------  ------------  ------------  ------------  ------------  ------------  ------------  ------------  ------------  ------------  \n",
      "Self CPU time total: 3.849s\n",
      "Self CUDA time total: 3.908s\n",
      "\n"
     ]
    }
   ],
   "source": [
    "res = prof.key_averages().table()\n",
    "print(res)"
   ]
  },
  {
   "cell_type": "code",
   "execution_count": 18,
   "id": "a40a0758-07b5-4ad7-bd72-dd9ea7f58581",
   "metadata": {},
   "outputs": [],
   "source": [
    "df = results(res)\n",
    "df.to_csv('rnn_cuda.csv')"
   ]
  },
  {
   "cell_type": "markdown",
   "id": "3c0f3ab4-5eba-4ee5-b9d9-30a5fa17cf48",
   "metadata": {
    "tags": []
   },
   "source": [
    "# Training Model RNN CPU"
   ]
  },
  {
   "cell_type": "code",
   "execution_count": 19,
   "id": "637fd07f-ef12-4cde-8ded-869937f1c316",
   "metadata": {},
   "outputs": [
    {
     "data": {
      "text/plain": [
       "device(type='cpu')"
      ]
     },
     "execution_count": 19,
     "metadata": {},
     "output_type": "execute_result"
    }
   ],
   "source": [
    "# Define the parameters\n",
    "num_channels = 3\n",
    "sequence_length = 500\n",
    "hidden_units = 128\n",
    "output_units = 2\n",
    "\n",
    "\n",
    "# Create an instance of model_1\n",
    "device = 'cpu'\n",
    "torch.manual_seed(42)\n",
    "model = RNNModel(num_channels, hidden_units, output_units).to(device)\n",
    "next(model.parameters()).device"
   ]
  },
  {
   "cell_type": "code",
   "execution_count": 20,
   "id": "84a29d3d-f161-40b5-8a99-c4f7729cd996",
   "metadata": {},
   "outputs": [],
   "source": [
    "# Define loss function and optimizer\n",
    "optimizer = optim.Adam(model.parameters(), lr=lr)\n",
    "loss_fn = nn.MSELoss()"
   ]
  },
  {
   "cell_type": "code",
   "execution_count": 21,
   "id": "76283876-26fb-4f16-880e-a5aeccc9a6ee",
   "metadata": {
    "tags": []
   },
   "outputs": [
    {
     "data": {
      "application/vnd.jupyter.widget-view+json": {
       "model_id": "6e3ca9370418463ea3877b9a770dc10e",
       "version_major": 2,
       "version_minor": 0
      },
      "text/plain": [
       "  0%|          | 0/3 [00:00<?, ?it/s]"
      ]
     },
     "metadata": {},
     "output_type": "display_data"
    },
    {
     "name": "stdout",
     "output_type": "stream",
     "text": [
      "Epoch: 0\n",
      "-------------\n",
      "Train loss: 0.25614 | Train acc: 66.38%\n",
      "Test loss: 0.16541 | Test acc: 82.03 %\n",
      "\n",
      "Epoch: 1\n",
      "-------------\n",
      "Train loss: 0.13518 | Train acc: 84.46%\n",
      "Test loss: 0.10707 | Test acc: 88.10 %\n",
      "\n",
      "Epoch: 2\n",
      "-------------\n",
      "Train loss: 0.09719 | Train acc: 89.08%\n",
      "Test loss: 0.09497 | Test acc: 88.70 %\n",
      "\n",
      "Time Consumtion: 223.7397033 sec\n"
     ]
    }
   ],
   "source": [
    "with profile(activities=[ProfilerActivity.CPU, ProfilerActivity.CUDA], profile_memory=True) as prof:\n",
    "    start_time = timer()\n",
    "    for epoch in tqdm(range(epochs)):\n",
    "        print(f\"Epoch: {epoch}\\n-------------\")\n",
    "\n",
    "        train_step(model=model,\n",
    "                   data_loader=train_dataloader, \n",
    "                   loss_fn=loss_fn,\n",
    "                   optimizer=optimizer,\n",
    "                   accuracy_fn=accuracy_fn,\n",
    "                   device=device)\n",
    "\n",
    "        test_step(model=model,\n",
    "                   data_loader=valid_dataloader, \n",
    "                   loss_fn=loss_fn,\n",
    "                   accuracy_fn=accuracy_fn,\n",
    "                   device=device)\n",
    "        prof.step()\n",
    "    end_time = timer()\n",
    "print(f'Time Consumtion: {end_time-start_time} sec')"
   ]
  },
  {
   "cell_type": "code",
   "execution_count": 22,
   "id": "05403faf-e36e-46b5-8cc4-b5044d415864",
   "metadata": {
    "tags": []
   },
   "outputs": [
    {
     "name": "stdout",
     "output_type": "stream",
     "text": [
      "-------------------------------------------------------  ------------  ------------  ------------  ------------  ------------  ------------  ------------  ------------  ------------  ------------  ------------  ------------  \n",
      "                                                   Name    Self CPU %      Self CPU   CPU total %     CPU total  CPU time avg     Self CUDA   Self CUDA %    CUDA total  CUDA time avg       CPU Mem  Self CPU Mem    # of Calls  \n",
      "-------------------------------------------------------  ------------  ------------  ------------  ------------  ------------  ------------  ------------  ------------  ------------  ------------  ------------  ------------  \n",
      "                                            aten::empty         0.03%      71.275ms         0.03%      71.275ms      31.057us      84.601ms         0.04%      84.601ms      36.863us       9.84 Gb       9.84 Gb          2295  \n",
      "                                          aten::random_         0.00%     127.000us         0.00%     127.000us      14.111us      30.000us         0.00%      30.000us       3.333us           0 b           0 b             9  \n",
      "                                             aten::item         0.01%      21.043ms         0.01%      22.523ms      19.300us      19.494ms         0.01%      29.699ms      25.449us           0 b           0 b          1167  \n",
      "                              aten::_local_scalar_dense         0.00%       1.480ms         0.00%       1.480ms       1.268us      10.205ms         0.00%      10.205ms       8.745us           0 b           0 b          1167  \n",
      "                                               [memory]         0.00%       0.000us         0.00%       0.000us       0.000us       0.000us         0.00%       0.000us       0.000us      -1.73 Gb      -1.73 Gb          8639  \n",
      "                                            aten::zeros         0.02%      45.249ms         0.43%     915.703ms     764.998us      26.209ms         0.01%     944.104ms     788.725us       9.73 Gb      31.25 Mb          1197  \n",
      "                                            aten::zero_         0.01%      17.000ms         0.39%     831.395ms     358.979us      24.011ms         0.01%     887.031ms     383.001us           0 b           0 b          2316  \n",
      "enumerate(DataLoader)#_SingleProcessDataLoaderIter._...         0.53%        1.138s         1.10%        2.348s      11.509ms     702.606ms         0.32%        2.344s      11.491ms     145.21 Mb    -377.70 Kb           204  \n",
      "                                         aten::randperm         0.00%     812.000us         0.00%       2.133ms     177.750us     621.000us         0.00%       1.767ms     147.250us     323.44 Kb         -48 b            12  \n",
      "                                    aten::scalar_tensor         0.00%      22.000us         0.00%      22.000us       3.667us      57.000us         0.00%      57.000us       9.500us          48 b          48 b             6  \n",
      "                                          aten::resize_         0.00%     247.000us         0.00%     247.000us       1.176us       1.166ms         0.00%       1.166ms       5.552us           0 b           0 b           210  \n",
      "                                     aten::resolve_conj         0.01%      11.531ms         0.01%      11.531ms       0.019us        3.468s         1.58%        3.468s       5.810us           0 b           0 b        596934  \n",
      "                                      aten::resolve_neg         0.00%       0.000us         0.00%       0.000us       0.000us      18.000us         0.00%      18.000us       3.000us           0 b           0 b             6  \n",
      "                                           aten::select         2.06%        4.405s         2.11%        4.513s      19.643us        4.407s         2.01%        6.390s      27.812us           0 b           0 b        229743  \n",
      "                                       aten::as_strided         0.34%     723.106ms         0.34%     723.106ms       0.964us        5.672s         2.59%        5.672s       7.564us           0 b           0 b        749907  \n",
      "                                            aten::stack         0.06%     138.863ms         1.70%        3.635s       3.823ms      91.991ms         0.04%        3.666s       3.855ms      11.05 Gb           0 b           951  \n",
      "                                              aten::cat         1.62%        3.463s         1.63%        3.493s       3.673ms        3.545s         1.62%        3.570s       3.754ms      11.05 Gb      11.05 Gb           951  \n",
      "                                           aten::narrow         0.01%      13.798ms         0.01%      29.735ms      39.489us       8.674ms         0.00%      24.921ms      33.096us           0 b           0 b           753  \n",
      "                                            aten::slice         0.01%      29.005ms         0.01%      30.980ms      21.118us      19.854ms         0.01%      29.895ms      20.378us           0 b           0 b          1467  \n",
      "                                             aten::view         0.11%     245.075ms         0.11%     245.075ms       3.034us     874.808ms         0.40%     874.808ms      10.831us           0 b           0 b         80769  \n",
      "                                               aten::to         0.04%      91.180ms         0.14%     297.322ms      53.284us     108.736ms         0.05%     356.425ms      63.875us     217.45 Kb           0 b          5580  \n",
      "                                         aten::rnn_tanh         7.85%       16.826s        31.97%       68.501s     345.966ms       11.978s         5.47%       68.518s     346.052ms      11.02 Gb     -13.28 Gb           198  \n",
      "                              aten::cudnn_is_acceptable         0.00%      68.000us         0.00%      68.000us       0.343us       2.374ms         0.00%       2.374ms      11.990us           0 b           0 b           198  \n",
      "                                        aten::transpose         3.19%        6.844s         3.42%        7.330s      17.506us        6.366s         2.91%        9.300s      22.211us           0 b           0 b        418707  \n",
      "                                           aten::unbind         0.93%        1.984s         1.84%        3.933s       9.933ms        1.168s         0.53%        3.930s       9.925ms           0 b           0 b           396  \n",
      "                                           aten::linear         1.60%        3.434s        14.97%       32.073s     322.677us        2.018s         0.92%       32.340s     325.363us      12.20 Gb           0 b         99396  \n",
      "                                                aten::t         3.48%        7.465s         6.90%       14.786s      35.345us        6.825s         3.11%       16.118s      38.528us           0 b           0 b        418350  \n",
      "                                           aten::matmul         0.01%      22.567ms         0.28%     596.120ms       3.011ms       7.191ms         0.00%     636.012ms       3.212ms       6.16 Gb     -28.56 Mb           198  \n",
      "                                          aten::reshape         0.01%      10.847ms         0.04%      95.726ms     268.140us       8.235ms         0.00%     100.706ms     282.090us     145.02 Mb           0 b           357  \n",
      "                                            aten::clone         0.00%       8.095ms         0.04%      82.066ms     414.475us       4.677ms         0.00%      89.430ms     451.667us     145.02 Mb           0 b           198  \n",
      "                                       aten::empty_like         0.00%      10.639ms         0.02%      40.261ms      76.252us       7.921ms         0.00%      49.950ms      94.602us     145.31 Mb          20 b           528  \n",
      "                                            aten::copy_         0.50%        1.081s         0.50%        1.081s      10.293us        1.478s         0.67%        1.478s      14.067us           0 b           0 b        105051  \n",
      "                                     aten::_unsafe_view         0.00%       2.693ms         0.00%       2.693ms       6.801us       2.649ms         0.00%       2.649ms       6.689us           0 b           0 b           396  \n",
      "                                               aten::mm        19.88%       42.610s        19.89%       42.617s     267.162us       43.984s        20.07%       46.225s     289.784us      15.75 Gb      15.75 Gb        159516  \n",
      "                                             aten::add_         0.78%        1.675s         0.83%        1.786s      17.302us        2.336s         1.07%        2.470s      23.930us         492 b      -6.97 Kb        103200  \n",
      "                                            aten::addmm        10.09%       21.614s        11.20%       23.997s     241.906us       21.169s         9.66%       25.443s     256.492us       6.04 Gb       6.04 Gb         99198  \n",
      "                                           aten::expand         0.78%        1.676s         0.84%        1.801s      18.160us        1.397s         0.64%        2.129s      21.461us           0 b           0 b         99198  \n",
      "                                             aten::tanh         5.81%       12.452s         5.81%       12.452s     125.779us       16.420s         7.49%       16.420s     165.863us       6.04 Gb       6.04 Gb         99000  \n",
      "                                       aten::transpose_         0.00%       4.780ms         0.00%       5.144ms      25.980us       3.535ms         0.00%       4.594ms      23.202us           0 b           0 b           198  \n",
      "                                      aten::as_strided_         0.00%     364.000us         0.00%     364.000us       1.838us       1.059ms         0.00%       1.059ms       5.348us           0 b           0 b           198  \n",
      "                                aten::broadcast_tensors         0.00%     290.000us         0.00%     290.000us       1.465us       1.086ms         0.00%       1.086ms       5.485us           0 b           0 b           198  \n",
      "                                         aten::mse_loss         0.01%      16.522ms         0.03%      55.071ms     278.136us      12.126ms         0.01%      52.256ms     263.919us     202.00 Kb       6.00 Kb           198  \n",
      "                                             aten::mean         0.00%       6.902ms         0.02%      37.504ms     189.414us       8.447ms         0.00%      36.745ms     185.581us           0 b        -376 b           198  \n",
      "                                              aten::sum         1.82%        3.897s         1.90%        4.071s      50.750us        3.730s         1.70%        4.284s      53.401us      38.90 Mb      38.71 Mb         80214  \n",
      "                                            aten::fill_         0.46%     976.378ms         0.46%     976.378ms      12.100us        1.403s         0.64%        1.403s      17.383us           0 b           0 b         80691  \n",
      "                                             aten::div_         0.00%       9.462ms         0.01%      21.142ms     103.637us       4.325ms         0.00%      18.823ms      92.270us         380 b        -436 b           204  \n",
      "                                         aten::_to_copy         0.09%     184.560ms         0.10%     206.142ms      39.811us     146.559ms         0.07%     247.689ms      47.835us     217.45 Kb      10.47 Kb          5178  \n",
      "                                    aten::empty_strided         0.00%      10.286ms         0.00%      10.286ms       1.923us      51.137ms         0.02%      51.137ms       9.560us     342.60 Kb     342.60 Kb          5349  \n",
      "                                              aten::add         9.33%       19.998s         9.33%       19.998s      84.015us       25.688s        11.72%       25.689s     107.924us       9.72 Gb       9.72 Gb        238029  \n",
      "                                           aten::argmax         0.01%      12.610ms         0.01%      12.921ms      32.629us      12.529ms         0.01%      23.770ms      60.025us     396.00 Kb     396.00 Kb           396  \n",
      "                                               aten::eq         0.00%       2.731ms         0.00%       2.731ms      13.793us       3.958ms         0.00%       3.958ms      19.990us      24.75 Kb      24.75 Kb           198  \n",
      "                     Optimizer.zero_grad#Adam.zero_grad         0.01%      28.635ms         0.01%      30.091ms     189.252us      21.697ms         0.01%      30.376ms     191.044us        -636 b     -43.93 Kb           159  \n",
      "                                        aten::ones_like         0.00%       5.571ms         0.00%      10.119ms      63.642us       3.506ms         0.00%      11.403ms      71.717us         636 b           0 b           159  \n",
      "autograd::engine::evaluate_function: MseLossBackward...         0.00%       3.286ms         0.01%      24.041ms     151.201us       1.613ms         0.00%      14.244ms      89.585us     159.00 Kb           0 b           159  \n",
      "                                       MseLossBackward0         0.00%       4.255ms         0.01%      20.755ms     130.535us       1.960ms         0.00%      12.631ms      79.440us     159.00 Kb           0 b           159  \n",
      "                                aten::mse_loss_backward         0.00%       8.435ms         0.01%      18.995ms      59.733us       5.115ms         0.00%      12.939ms      40.689us     159.00 Kb           0 b           318  \n",
      "                                       aten::zeros_like         0.00%       5.051ms         0.00%       8.624ms      50.433us       2.726ms         0.00%       6.278ms      36.713us     294.02 Kb           0 b           171  \n",
      "    autograd::engine::evaluate_function: AddmmBackward0         4.18%        8.955s        35.95%       77.047s     967.214us        5.011s         2.29%       79.294s     995.417us     257.76 Mb     -14.37 Gb         79659  \n",
      "                                         AddmmBackward0         3.37%        7.223s        25.03%       53.647s     673.462us        4.179s         1.91%       54.906s     689.260us       9.70 Gb           0 b         79659  \n",
      "autograd::engine::evaluate_function: struct torch::a...         0.01%      16.885ms         0.03%      63.599ms      66.666us      11.111ms         0.01%      43.853ms      45.968us     -10.42 Mb     -56.18 Kb           954  \n",
      "                 struct torch::autograd::AccumulateGrad         0.02%      36.521ms         0.02%      46.714ms      48.966us      23.922ms         0.01%      32.742ms      34.321us     -10.36 Mb     -10.36 Mb           954  \n",
      "                                           aten::detach         0.00%      74.000us         0.00%      92.000us      15.333us      46.000us         0.00%      65.000us      10.833us           0 b           0 b             6  \n",
      "                                                 detach         0.00%      18.000us         0.00%      18.000us       3.000us      19.000us         0.00%      19.000us       3.167us           0 b           0 b             6  \n",
      "        autograd::engine::evaluate_function: TBackward0         4.26%        9.134s        10.53%       22.570s     282.772us        7.345s         3.35%       22.727s     284.738us      -4.72 Gb      -9.56 Gb         79818  \n",
      "                                             TBackward0         0.63%        1.343s         1.93%        4.127s      51.709us        1.314s         0.60%        4.479s      56.113us           0 b           0 b         79818  \n",
      "    autograd::engine::evaluate_function: SliceBackward0         0.17%     357.167ms         0.60%        1.292s       4.064ms     359.181ms         0.16%        1.313s       4.128ms           0 b      -4.86 Gb           318  \n",
      "                                         SliceBackward0         0.00%       5.021ms         0.44%     935.227ms       2.941ms       3.011ms         0.00%     953.543ms       2.999ms       4.86 Gb           0 b           318  \n",
      "                                   aten::slice_backward         0.01%      20.672ms         0.43%     930.206ms       2.925ms      21.583ms         0.01%     950.532ms       2.989ms       4.86 Gb           0 b           318  \n",
      "autograd::engine::evaluate_function: SelectBackward0...         0.00%       3.593ms         0.20%     425.441ms       2.676ms       1.939ms         0.00%     435.369ms       2.738ms       4.84 Gb      -9.94 Mb           159  \n",
      "                                        SelectBackward0         0.00%       2.421ms         0.20%     421.848ms       2.653ms       1.687ms         0.00%     433.430ms       2.726ms       4.85 Gb           0 b           159  \n",
      "                                  aten::select_backward         0.00%       8.340ms         0.20%     419.427ms       2.638ms       3.765ms         0.00%     431.743ms       2.715ms       4.85 Gb           0 b           159  \n",
      "autograd::engine::evaluate_function: TransposeBackwa...         0.00%       2.659ms         0.00%       9.466ms      59.535us       1.668ms         0.00%       4.835ms      30.409us           0 b           0 b           159  \n",
      "                                     TransposeBackward1         0.00%       2.749ms         0.00%       6.807ms      42.811us       1.290ms         0.00%       3.167ms      19.918us           0 b           0 b           159  \n",
      "    autograd::engine::evaluate_function: StackBackward0         0.02%      38.918ms         1.41%        3.013s      18.947ms      34.115ms         0.02%        3.004s      18.892ms           0 b           0 b           159  \n",
      "                                         StackBackward0         0.66%        1.408s         1.39%        2.974s      18.702ms     767.387ms         0.35%        2.970s      18.678ms           0 b           0 b           159  \n",
      "     autograd::engine::evaluate_function: TanhBackward0         4.96%       10.635s        10.62%       22.768s     286.391us       11.099s         5.07%       25.178s     316.707us      -4.84 Gb      -9.69 Gb         79500  \n",
      "                                          TanhBackward0         0.94%        2.011s         5.66%       12.134s     152.623us        1.123s         0.51%       14.079s     177.093us       4.85 Gb           0 b         79500  \n",
      "                                    aten::tanh_backward         4.72%       10.122s         4.72%       10.122s     127.325us       12.956s         5.91%       12.956s     162.969us       4.85 Gb       4.85 Gb         79500  \n",
      "      autograd::engine::evaluate_function: AddBackward0         0.94%        2.024s         1.23%        2.626s      32.960us        1.571s         0.72%        2.555s      32.070us      79.50 Kb           0 b         79659  \n",
      "                                           AddBackward0         0.04%      83.597ms         0.04%      83.597ms       1.049us     456.709ms         0.21%     456.709ms       5.733us           0 b           0 b         79659  \n",
      "autograd::engine::evaluate_function: UnbindBackward0...         3.05%        6.534s         3.74%        8.004s      50.342ms        6.553s         2.99%        8.054s      50.655ms           0 b      -4.85 Gb           159  \n",
      "                                        UnbindBackward0         0.00%      10.691ms         0.69%        1.470s       9.248ms      10.304ms         0.00%        1.501s       9.439ms       4.85 Gb           0 b           159  \n",
      "autograd::engine::evaluate_function: UnsafeViewBackw...         0.00%       2.741ms         0.01%      10.758ms      67.660us       1.660ms         0.00%       7.503ms      47.189us           0 b           0 b           159  \n",
      "                                    UnsafeViewBackward0         0.00%       2.580ms         0.00%       8.017ms      50.421us       1.757ms         0.00%       5.843ms      36.748us           0 b           0 b           159  \n",
      "                                   aten::_reshape_alias         0.00%       1.657ms         0.00%       1.657ms      10.421us       1.685ms         0.00%       1.685ms      10.597us           0 b           0 b           159  \n",
      "       autograd::engine::evaluate_function: MmBackward0         0.24%     513.265ms         2.11%        4.521s      28.431ms     524.991ms         0.24%        4.552s      28.629ms      -4.97 Gb      -4.97 Gb           159  \n",
      "                                            MmBackward0         0.01%      21.353ms         1.87%        4.007s      25.203ms       7.119ms         0.00%        4.027s      25.327ms     238.50 Kb           0 b           159  \n",
      "                               Optimizer.step#Adam.step         0.15%     313.956ms         0.38%     811.896ms       5.106ms     209.097ms         0.10%     803.466ms       5.053ms     134.42 Kb     -21.01 Mb           159  \n",
      "                                       aten::lift_fresh         0.00%       0.000us         0.00%       0.000us       0.000us      22.000us         0.00%      22.000us       3.667us           0 b           0 b             6  \n",
      "                                          aten::detach_         0.00%     145.000us         0.00%     150.000us      25.000us      48.000us         0.00%     202.000us      33.667us           0 b           0 b             6  \n",
      "                                                detach_         0.00%       5.000us         0.00%       5.000us       0.833us     154.000us         0.00%     154.000us      25.667us           0 b           0 b             6  \n",
      "                                             aten::mul_         0.02%      48.380ms         0.07%     153.566ms      80.485us      58.778ms         0.03%     188.530ms      98.810us         328 b      -7.13 Kb          1908  \n",
      "                                         aten::addcmul_         0.00%       9.402ms         0.00%       9.402ms       9.855us      13.514ms         0.01%      13.514ms      14.166us           0 b           0 b           954  \n",
      "                                             aten::sqrt         0.02%      42.064ms         0.02%      42.064ms      44.092us      55.969ms         0.03%      55.969ms      58.668us      10.48 Mb      10.48 Mb           954  \n",
      "                                              aten::div         0.02%      45.011ms         0.05%     102.722ms     107.675us      42.133ms         0.02%     105.682ms     110.778us      10.48 Mb      10.48 Mb           954  \n",
      "                                         aten::addcdiv_         0.01%      11.063ms         0.01%      11.063ms      11.596us      17.026ms         0.01%      17.026ms      17.847us           0 b           0 b           954  \n",
      "-------------------------------------------------------  ------------  ------------  ------------  ------------  ------------  ------------  ------------  ------------  ------------  ------------  ------------  ------------  \n",
      "Self CPU time total: 214.297s\n",
      "Self CUDA time total: 219.123s\n",
      "\n"
     ]
    }
   ],
   "source": [
    "res = prof.key_averages().table()\n",
    "print(res)"
   ]
  },
  {
   "cell_type": "code",
   "execution_count": 23,
   "id": "35340c24-7ca3-4845-aeb0-95b314773937",
   "metadata": {},
   "outputs": [],
   "source": [
    "df = results(res)\n",
    "df.to_csv('rnn_cpu.csv')"
   ]
  },
  {
   "cell_type": "markdown",
   "id": "0ba5d37d-f8d1-408c-a896-f091309f53d6",
   "metadata": {},
   "source": [
    "# Resource Consumtions of the Model"
   ]
  },
  {
   "cell_type": "code",
   "execution_count": 24,
   "id": "dadac5db-5e1f-4b43-a4e7-624e5fee40a4",
   "metadata": {},
   "outputs": [],
   "source": [
    "def count_parameters(model):\n",
    "    return sum(p.numel() for p in model.parameters() if p.requires_grad)"
   ]
  },
  {
   "cell_type": "code",
   "execution_count": 25,
   "id": "146f4913-04f7-46db-8269-4df7aa5c6d61",
   "metadata": {},
   "outputs": [
    {
     "data": {
      "text/plain": [
       "17282"
      ]
     },
     "execution_count": 25,
     "metadata": {},
     "output_type": "execute_result"
    }
   ],
   "source": [
    "count_parameters(model)"
   ]
  },
  {
   "cell_type": "code",
   "execution_count": 26,
   "id": "94480c56-07de-4cb6-8a85-ac6be47f298e",
   "metadata": {},
   "outputs": [
    {
     "name": "stdout",
     "output_type": "stream",
     "text": [
      "Time Consumtion: 5.111104800000021 sec\n"
     ]
    }
   ],
   "source": [
    "device = 'cpu'\n",
    "model.to(device)\n",
    "\n",
    "with profile(activities=[ProfilerActivity.CPU, ProfilerActivity.CUDA], profile_memory=True) as prof:\n",
    "    with torch.inference_mode():\n",
    "        start_time = timer()\n",
    "        for X, y in test_dataloader:\n",
    "            # Send the data to the target device\n",
    "            X, y = X.to(device), y.to(device)\n",
    "\n",
    "            test_pred = model(X)\n",
    "            \n",
    "        end_time = timer()\n",
    "print(f'Time Consumtion: {end_time-start_time} sec')"
   ]
  },
  {
   "cell_type": "code",
   "execution_count": 27,
   "id": "9b8abf40-8bd2-43cd-8e8d-2aac3b32bfb2",
   "metadata": {
    "tags": []
   },
   "outputs": [
    {
     "name": "stdout",
     "output_type": "stream",
     "text": [
      "-------------------------------------------------------  ------------  ------------  ------------  ------------  ------------  ------------  ------------  ------------  ------------  ------------  ------------  ------------  \n",
      "                                                   Name    Self CPU %      Self CPU   CPU total %     CPU total  CPU time avg     Self CUDA   Self CUDA %    CUDA total  CUDA time avg       CPU Mem  Self CPU Mem    # of Calls  \n",
      "-------------------------------------------------------  ------------  ------------  ------------  ------------  ------------  ------------  ------------  ------------  ------------  ------------  ------------  ------------  \n",
      "                                            aten::empty         0.17%       8.543ms         0.17%       8.543ms       1.220ms       8.887ms         0.18%       8.887ms       1.270ms      10.87 Mb      10.87 Mb             7  \n",
      "                                          aten::random_         0.11%       5.664ms         0.11%       5.664ms       5.664ms       5.696ms         0.11%       5.696ms       5.696ms           0 b           0 b             1  \n",
      "                                             aten::item         0.03%       1.457ms         0.04%       2.105ms       2.105ms       1.370ms         0.03%       2.027ms       2.027ms           0 b           0 b             1  \n",
      "                              aten::_local_scalar_dense         0.01%     648.000us         0.01%     648.000us     648.000us     657.000us         0.01%     657.000us     657.000us           0 b           0 b             1  \n",
      "                                               [memory]         0.00%       0.000us         0.00%       0.000us       0.000us       0.000us         0.00%       0.000us       0.000us    -429.20 Mb    -429.20 Mb             4  \n",
      "                                            aten::zeros         0.05%       2.442ms         0.24%      12.194ms       4.065ms       1.678ms         0.03%      11.574ms       3.858ms     875.51 Kb           0 b             3  \n",
      "                                            aten::zero_         0.02%       1.191ms         0.13%       6.563ms       2.188ms     789.000us         0.02%       6.438ms       2.146ms           0 b           0 b             3  \n",
      "enumerate(DataLoader)#_SingleProcessDataLoaderIter._...         8.52%     428.823ms        23.30%        1.172s     586.081ms     244.570ms         4.86%        1.172s     586.131ms      10.03 Mb        -584 b             2  \n",
      "                                           aten::select        14.49%     728.880ms        14.60%     734.377ms     183.411us     705.414ms        14.02%     950.398ms     237.362us           0 b           0 b          4004  \n",
      "                                       aten::as_strided         0.20%      10.226ms         0.20%      10.226ms       2.039us     294.795ms         5.86%     294.795ms      58.794us           0 b           0 b          5014  \n",
      "                                            aten::stack         0.09%       4.277ms         3.92%     197.062ms      49.266ms       1.628ms         0.03%     197.058ms      49.264ms     438.38 Mb           0 b             4  \n",
      "                                              aten::cat         3.75%     188.530ms         3.81%     191.659ms      47.915ms     191.072ms         3.80%     193.761ms      48.440ms     438.38 Mb     438.38 Mb             4  \n",
      "                                           aten::narrow         0.03%       1.577ms         0.06%       3.129ms     782.250us       1.192ms         0.02%       2.689ms     672.250us           0 b           0 b             4  \n",
      "                                            aten::slice         0.04%       2.091ms         0.04%       2.112ms     352.000us       1.785ms         0.04%       2.054ms     342.333us           0 b           0 b             6  \n",
      "                                             aten::view         0.02%       1.126ms         0.02%       1.126ms     281.500us       1.669ms         0.03%       1.669ms     417.250us           0 b           0 b             4  \n",
      "                                               aten::to         0.02%       1.143ms         0.02%       1.143ms     571.500us       1.219ms         0.02%       1.219ms     609.500us           0 b           0 b             2  \n",
      "                                            aten::fill_         0.11%       5.372ms         0.11%       5.372ms       5.372ms       5.649ms         0.11%       5.649ms       5.649ms           0 b           0 b             1  \n",
      "                                         aten::rnn_tanh        18.22%     916.632ms        76.11%        3.829s        3.829s     694.877ms        13.81%        3.829s        3.829s     428.35 Mb      -1.25 Gb             1  \n",
      "                              aten::cudnn_is_acceptable         0.00%       5.000us         0.00%       5.000us       5.000us       3.000us         0.00%       3.000us       3.000us           0 b           0 b             1  \n",
      "                                        aten::transpose         1.85%      93.093ms         1.88%      94.629ms     188.129us      91.257ms         1.81%     131.886ms     262.199us           0 b           0 b           503  \n",
      "                                           aten::unbind         1.46%      73.280ms         2.96%     149.110ms      74.555ms      41.633ms         0.83%     148.911ms      74.456ms           0 b           0 b             2  \n",
      "                                           aten::linear         4.00%     201.128ms        44.59%        2.243s       4.468ms      76.266ms         1.52%        2.258s       4.498ms     854.99 Mb           0 b           502  \n",
      "                                                aten::t         1.86%      93.650ms         3.73%     187.591ms     373.687us      78.806ms         1.57%     210.078ms     418.482us           0 b           0 b           502  \n",
      "                                           aten::matmul         0.08%       3.836ms         2.25%     113.073ms     113.073ms       3.177ms         0.06%     113.153ms     113.153ms     427.49 Mb     -10.02 Mb             1  \n",
      "                                          aten::reshape         0.04%       2.017ms         0.13%       6.716ms       6.716ms       1.873ms         0.04%       6.648ms       6.648ms      10.02 Mb           0 b             1  \n",
      "                                            aten::clone         0.02%       1.044ms         0.09%       4.693ms       4.693ms     682.000us         0.01%       4.772ms       4.772ms      10.02 Mb           0 b             1  \n",
      "                                       aten::empty_like         0.00%     134.000us         0.00%     159.000us     159.000us     215.000us         0.00%     262.000us     262.000us      10.02 Mb           0 b             1  \n",
      "                                            aten::copy_         0.59%      29.686ms         0.59%      29.686ms      59.135us      88.570ms         1.76%      88.570ms     176.434us           0 b           0 b           502  \n",
      "                                     aten::_unsafe_view         0.00%      15.000us         0.00%      15.000us       7.500us       6.000us         0.00%       6.000us       3.000us           0 b           0 b             2  \n",
      "                                               aten::mm         2.04%     102.509ms         2.04%     102.512ms     102.512ms     103.177ms         2.05%     103.325ms     103.325ms     427.49 Mb     427.49 Mb             1  \n",
      "                                     aten::resolve_conj         0.00%     158.000us         0.00%     158.000us       0.157us      91.143ms         1.81%      91.143ms      90.780us           0 b           0 b          1004  \n",
      "                                             aten::add_         1.19%      59.635ms         1.19%      59.635ms     119.032us     100.141ms         1.99%     100.141ms     199.882us           0 b           0 b           501  \n",
      "                                            aten::addmm        31.28%        1.574s        33.91%        1.706s       3.404ms        1.613s        32.07%        1.822s       3.637ms     427.50 Mb     427.50 Mb           501  \n",
      "                                           aten::expand         2.03%     102.354ms         2.10%     105.526ms     210.631us      24.427ms         0.49%      33.340ms      66.547us           0 b           0 b           501  \n",
      "                                             aten::tanh         7.41%     372.723ms         7.41%     372.723ms     745.446us     540.088ms        10.74%     540.088ms       1.080ms     427.49 Mb     427.49 Mb           500  \n",
      "                                       aten::transpose_         0.24%      12.075ms         0.25%      12.697ms      12.697ms      11.851ms         0.24%      12.571ms      12.571ms           0 b           0 b             1  \n",
      "                                      aten::as_strided_         0.01%     622.000us         0.01%     622.000us     622.000us     720.000us         0.01%     720.000us     720.000us           0 b           0 b             1  \n",
      "-------------------------------------------------------  ------------  ------------  ------------  ------------  ------------  ------------  ------------  ------------  ------------  ------------  ------------  ------------  \n",
      "Self CPU time total: 5.030s\n",
      "Self CUDA time total: 5.030s\n",
      "\n"
     ]
    }
   ],
   "source": [
    "res = prof.key_averages().table()\n",
    "print(res)\n",
    "df = results(res)\n",
    "df.to_csv('run_test_rnn_cpu.csv')"
   ]
  },
  {
   "cell_type": "code",
   "execution_count": 29,
   "id": "b52c43f5-ee98-461d-b4dc-19aca743985c",
   "metadata": {},
   "outputs": [],
   "source": [
    "# device = 'cuda'\n",
    "# model.to(device)\n",
    "\n",
    "# with profile(activities=[ProfilerActivity.CPU, ProfilerActivity.CUDA], profile_memory=True) as prof:\n",
    "#     with torch.inference_mode():\n",
    "#         start_time = timer()\n",
    "#         for X, y in test_dataloader:\n",
    "#             # Send the data to the target device\n",
    "#             X, y = X.to(device), y.to(device)\n",
    "\n",
    "#             test_pred = model(X)\n",
    "            \n",
    "#         end_time = timer()\n",
    "# print(f'Time Consumtion: {end_time-start_time} sec')"
   ]
  },
  {
   "cell_type": "code",
   "execution_count": 30,
   "id": "81527064-25fd-42d1-96d8-ff72e3254540",
   "metadata": {
    "tags": []
   },
   "outputs": [],
   "source": [
    "# res = prof.key_averages().table()\n",
    "# print(res)\n",
    "# df = results(res)\n",
    "# df.to_csv('run_test_rnn_gpu.csv')"
   ]
  },
  {
   "cell_type": "code",
   "execution_count": 31,
   "id": "e30241be-019e-4afe-bbec-8c257a01d821",
   "metadata": {},
   "outputs": [],
   "source": [
    "from sklearn.metrics import precision_recall_fscore_support\n",
    "from sklearn.metrics import confusion_matrix\n",
    "import numpy as np\n",
    "import seaborn as sns\n",
    "import matplotlib.pyplot as plt"
   ]
  },
  {
   "cell_type": "code",
   "execution_count": 32,
   "id": "e0b98f2d-87fc-416c-baa3-813b0d444622",
   "metadata": {},
   "outputs": [
    {
     "data": {
      "text/plain": [
       "(array([1.        , 0.25984252]),\n",
       " array([0.94528522, 1.        ]),\n",
       " array([0.97187313, 0.4125    ]),\n",
       " array([1718,   33], dtype=int64))"
      ]
     },
     "execution_count": 32,
     "metadata": {},
     "output_type": "execute_result"
    }
   ],
   "source": [
    "y_pred = test_pred.argmax(dim=1).cpu().numpy()\n",
    "y_true = y.argmax(dim=1).cpu().numpy()\n",
    "precision_recall_fscore_support(y_true, y_pred)"
   ]
  },
  {
   "cell_type": "code",
   "execution_count": 33,
   "id": "4dbc6dce-e1f8-4896-989a-0c39ee6a484d",
   "metadata": {},
   "outputs": [],
   "source": [
    "cf_matrix = confusion_matrix(y_true, y_pred)"
   ]
  },
  {
   "cell_type": "code",
   "execution_count": 34,
   "id": "81c707ac-f639-4a3d-8a04-13b071e2d3dd",
   "metadata": {},
   "outputs": [
    {
     "data": {
      "image/png": "[encoded data removed]",
      "text/plain": [
       "<Figure size 640x480 with 2 Axes>"
      ]
     },
     "metadata": {},
     "output_type": "display_data"
    }
   ],
   "source": [
    "group_names = ['True Neg','False Pos','False Neg','True Pos']\n",
    "group_counts = [\"{0:0.0f}\".format(value) for value in cf_matrix.flatten()]\n",
    "labels = [f\"{v1}\\n{v2}\" for v1, v2 in zip(group_names, group_counts)]\n",
    "labels = np.asarray(labels).reshape(2,2)\n",
    "\n",
    "categories = [\"weak\", \"strong\"]\n",
    "sns.heatmap(cf_matrix, annot=labels, fmt='', cmap='Blues',xticklabels=categories, yticklabels=categories)\n",
    "plt.savefig('cf_mat_rnn.png')"
   ]
  },
  {
   "cell_type": "code",
   "execution_count": null,
   "id": "ce6c80ef-11aa-4422-bf7f-3f34c8fd359a",
   "metadata": {},
   "outputs": [],
   "source": []
  }
 ],
 "metadata": {
  "kernelspec": {
   "display_name": "AIML",
   "language": "python",
   "name": "aiml"
  },
  "language_info": {
   "codemirror_mode": {
    "name": "ipython",
    "version": 3
   },
   "file_extension": ".py",
   "mimetype": "text/x-python",
   "name": "python",
   "nbconvert_exporter": "python",
   "pygments_lexer": "ipython3",
   "version": "3.8.17"
  }
 },
 "nbformat": 4,
 "nbformat_minor": 5
}
