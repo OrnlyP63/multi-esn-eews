{
 "cells": [
  {
   "cell_type": "code",
   "execution_count": 1,
   "id": "4ff1c449-a8ec-4714-a6f7-cf1e1d90e7ff",
   "metadata": {},
   "outputs": [],
   "source": [
    "import numpy as np\n",
    "import torch\n",
    "import torch.nn as nn\n",
    "import torch.nn.functional as F\n",
    "from torch.optim import AdamW, Adam, SGD\n",
    "from torch.optim.lr_scheduler import LambdaLR\n",
    "from torch.utils.data import Dataset, DataLoader\n",
    "\n",
    "from torch.autograd import Variable\n",
    "import time\n",
    "from scipy import sparse\n",
    "import joblib"
   ]
  },
  {
   "cell_type": "code",
   "execution_count": 2,
   "id": "129da0a4-e972-499b-ade3-2b060a5bb3ff",
   "metadata": {},
   "outputs": [],
   "source": [
    "import pandas as pd\n",
    "from tqdm.auto import tqdm\n",
    "\n",
    "from timeit import default_timer as timer\n",
    "from torch.profiler import profile, record_function, ProfilerActivity"
   ]
  },
  {
   "cell_type": "code",
   "execution_count": 3,
   "id": "70c17dfc-60e2-496c-adfa-4a7037f9bd2b",
   "metadata": {},
   "outputs": [
    {
     "data": {
      "text/plain": [
       "'cuda'"
      ]
     },
     "execution_count": 3,
     "metadata": {},
     "output_type": "execute_result"
    }
   ],
   "source": [
    "# Check device\n",
    "device = \"cuda\" if torch.cuda.is_available() else \"cpu\"\n",
    "device"
   ]
  },
  {
   "cell_type": "code",
   "execution_count": 4,
   "id": "415d3239-de9b-4367-9690-a75cd4d62a53",
   "metadata": {},
   "outputs": [],
   "source": [
    "def accuracy_fn(y_true, y_pred):\n",
    "    correct = torch.eq(y_true, y_pred).sum().item()\n",
    "    acc = (correct / len(y_pred)) * 100\n",
    "    return acc"
   ]
  },
  {
   "cell_type": "markdown",
   "id": "d07aa200-44ed-4c17-997d-4fcc1fda74c8",
   "metadata": {},
   "source": [
    "# Utils Function"
   ]
  },
  {
   "cell_type": "code",
   "execution_count": 5,
   "id": "1be568cb-17de-46be-aa74-cd58c6eefd19",
   "metadata": {},
   "outputs": [],
   "source": [
    "def print_train_time(start:float, end:float, device: torch.device = None):\n",
    "    \"\"\"print difference between start and end time\"\"\"\n",
    "    total_time = end - start\n",
    "    print(f\"Train time on {device}: {total_time:.3f} seconds\")\n",
    "    return total_time"
   ]
  },
  {
   "cell_type": "code",
   "execution_count": 6,
   "id": "a585967b-6aea-46e8-9cc7-2ade2d6169c0",
   "metadata": {},
   "outputs": [],
   "source": [
    "def accuracy_fn(y_true, y_pred):\n",
    "    correct = torch.eq(y_true, y_pred).sum().item()\n",
    "    acc = (correct / len(y_pred)) * 100\n",
    "    return acc"
   ]
  },
  {
   "cell_type": "code",
   "execution_count": 7,
   "id": "4dd26cfb-c837-48cc-9cff-079bc4394fb9",
   "metadata": {},
   "outputs": [],
   "source": [
    "def results(res: str):\n",
    "    res_lst = res.split('\\n')\n",
    "\n",
    "    data = []\n",
    "    for row in res_lst[3:-4]:\n",
    "        row_split = [sp.strip() for sp in row[57:].split('  ') if sp != '']\n",
    "        data.append(row_split)\n",
    "\n",
    "    index = [l[:57].strip() for l in res_lst[3:-4]]\n",
    "\n",
    "    head = [c.strip() for c in res_lst[1].strip().split('  ') if c != '']\n",
    "\n",
    "    df = pd.DataFrame(data, columns=None)\n",
    "    df.columns = head[1:]\n",
    "    df.index = index\n",
    "\n",
    "    return df"
   ]
  },
  {
   "cell_type": "markdown",
   "id": "2676cd6d-0386-4755-9260-da765d1f7781",
   "metadata": {},
   "source": [
    "# Data"
   ]
  },
  {
   "cell_type": "code",
   "execution_count": 8,
   "id": "2c1500ea-123a-48e2-8586-7291aa06e532",
   "metadata": {},
   "outputs": [],
   "source": [
    "import joblib\n",
    "from torch.utils import data"
   ]
  },
  {
   "cell_type": "code",
   "execution_count": 9,
   "id": "fec5fd64-cf7c-41eb-bf59-babdcd234544",
   "metadata": {},
   "outputs": [],
   "source": [
    "train_data = 'train.jb'\n",
    "valid_data = 'test.jb'"
   ]
  },
  {
   "cell_type": "code",
   "execution_count": 10,
   "id": "f7ed314d-7e68-47b1-82db-72275943eabe",
   "metadata": {},
   "outputs": [],
   "source": [
    "n_workers = 0\n",
    "batch_size = 128"
   ]
  },
  {
   "cell_type": "code",
   "execution_count": 11,
   "id": "9f50bd72-00cb-44c3-9b2e-b462a78ddcf7",
   "metadata": {},
   "outputs": [],
   "source": [
    "train_x, train_y = joblib.load(train_data)\n",
    "val_x, val_y = joblib.load(valid_data)\n",
    "\n",
    "train_x = np.swapaxes(train_x, 1 , 2)\n",
    "val_x = np.swapaxes(val_x, 1 , 2)\n",
    "\n",
    "\n",
    "train_y, val_y = pd.get_dummies(train_y).values, pd.get_dummies(val_y).values\n",
    "\n",
    "train_set = data.TensorDataset(torch.Tensor(train_x), torch.Tensor(train_y))\n",
    "valid_set = data.TensorDataset(torch.Tensor(val_x), torch.Tensor(val_y))"
   ]
  },
  {
   "cell_type": "code",
   "execution_count": 12,
   "id": "07259551-26d8-4dfe-a784-bd3144862c71",
   "metadata": {},
   "outputs": [],
   "source": [
    "train_dataloader = DataLoader(\n",
    "    train_set,\n",
    "    batch_size=len(train_set),\n",
    "    shuffle=True,\n",
    "    drop_last=True,\n",
    "    num_workers=n_workers,\n",
    "    pin_memory=True\n",
    "  )\n",
    "\n",
    "val_dataloader = DataLoader(\n",
    "    valid_set,\n",
    "    batch_size=len(valid_set),\n",
    "    num_workers=n_workers,\n",
    "    drop_last=True,\n",
    "    pin_memory=True\n",
    "  )"
   ]
  },
  {
   "cell_type": "markdown",
   "id": "0eb24e82-7522-49dc-bade-9d0e86236658",
   "metadata": {},
   "source": [
    "# Experiament"
   ]
  },
  {
   "cell_type": "code",
   "execution_count": 13,
   "id": "2464ecac-11dc-453a-b7cb-31bd94155d98",
   "metadata": {},
   "outputs": [],
   "source": [
    "from model import RCModel\n",
    "from training_function import seq_learning, learning"
   ]
  },
  {
   "cell_type": "code",
   "execution_count": 14,
   "id": "8662dc25-533d-429d-8b96-1f4514d248a5",
   "metadata": {},
   "outputs": [],
   "source": [
    "device = 'cpu'"
   ]
  },
  {
   "cell_type": "code",
   "execution_count": 15,
   "id": "152d311a-7bfb-40dd-ad24-f4cabd72104d",
   "metadata": {},
   "outputs": [
    {
     "data": {
      "text/plain": [
       "device(type='cpu')"
      ]
     },
     "execution_count": 15,
     "metadata": {},
     "output_type": "execute_result"
    }
   ],
   "source": [
    "model = RCModel(n=20).to(device)\n",
    "next(model.parameters()).device"
   ]
  },
  {
   "cell_type": "markdown",
   "id": "f2b73a7e-e412-4432-8732-5a8dcab39e1b",
   "metadata": {},
   "source": [
    "### Freezing layers"
   ]
  },
  {
   "cell_type": "code",
   "execution_count": 16,
   "id": "902dca1d-00e6-4e1f-90d1-0187c5a6dfa2",
   "metadata": {},
   "outputs": [
    {
     "data": {
      "text/plain": [
       "odict_keys(['L1.internal_weights', 'L1._input_weights', 'lin_output.weight'])"
      ]
     },
     "execution_count": 16,
     "metadata": {},
     "output_type": "execute_result"
    }
   ],
   "source": [
    "params = model.state_dict()\n",
    "params.keys()"
   ]
  },
  {
   "cell_type": "code",
   "execution_count": 17,
   "id": "b3b89f79-2b9b-470e-93ee-9f94ba0a8a59",
   "metadata": {
    "tags": []
   },
   "outputs": [],
   "source": [
    "for name, param in model.named_parameters():  \n",
    "    if param.requires_grad and 'lin_output' not in name:  \n",
    "        param.requires_grad = False"
   ]
  },
  {
   "cell_type": "markdown",
   "id": "1da2a3a8-cc43-46ce-b402-16196aa518bb",
   "metadata": {},
   "source": [
    "## ELM part"
   ]
  },
  {
   "cell_type": "code",
   "execution_count": 18,
   "id": "5dfc8621-e72f-4dcd-8f4a-30fbf40a8418",
   "metadata": {},
   "outputs": [],
   "source": [
    "optimizer = learning(params=model.parameters())"
   ]
  },
  {
   "cell_type": "code",
   "execution_count": 19,
   "id": "24715f06-2818-46b5-bc36-ebad58d423d9",
   "metadata": {},
   "outputs": [
    {
     "name": "stdout",
     "output_type": "stream",
     "text": [
      "Train acc: 92.59%\n",
      "Time Consumtion: 2.0598034000000007 sec\n"
     ]
    }
   ],
   "source": [
    "start_time = timer()\n",
    "for batch_idx, (X_train, y_train) in enumerate(train_dataloader):\n",
    "    #X_train, y_train = X_train.cuda(), y_train.cuda()\n",
    "    if batch_idx == 0:\n",
    "        H = model.forward_to_hidden(X_train)\n",
    "        P, Beta = optimizer.init_train(H, y_train)\n",
    "        \n",
    "    y_pred = model(X_train)\n",
    "    acc = accuracy_fn(y_true = y_train.argmax(dim = 1), y_pred = y_pred.argmax(dim = 1))\n",
    "    print(f'Train acc: {acc:.2f}%')\n",
    "end_time = timer()\n",
    "print(f'Time Consumtion: {end_time-start_time} sec')"
   ]
  },
  {
   "cell_type": "code",
   "execution_count": 20,
   "id": "db0e1816-081c-4632-af89-a94f5ace9f20",
   "metadata": {},
   "outputs": [
    {
     "name": "stdout",
     "output_type": "stream",
     "text": [
      "Validate acc: 93.82%\n",
      "Time Consumtion: 0.6012626000000001 sec\n"
     ]
    }
   ],
   "source": [
    "start_time = timer()\n",
    "model.eval()\n",
    "for batch_idx, (X_train, y_train) in enumerate(val_dataloader):\n",
    "        \n",
    "    y_pred = model(X_train)\n",
    "    acc = accuracy_fn(y_true = y_train.argmax(dim = 1), y_pred = y_pred.argmax(dim = 1))\n",
    "    print(f'Validate acc: {acc:.2f}%')\n",
    "end_time = timer()\n",
    "print(f'Time Consumtion: {end_time-start_time} sec')"
   ]
  },
  {
   "cell_type": "markdown",
   "id": "987a0c40-0d53-4065-941c-72c67c8acc6c",
   "metadata": {},
   "source": [
    "# Resource Consumtions of the Model"
   ]
  },
  {
   "cell_type": "code",
   "execution_count": 21,
   "id": "7e3337ba-dbad-45e9-be78-7970d0aa92c1",
   "metadata": {},
   "outputs": [],
   "source": [
    "def count_parameters(model):\n",
    "    return sum(p.numel() for p in model.parameters() if p.requires_grad)"
   ]
  },
  {
   "cell_type": "code",
   "execution_count": 22,
   "id": "c0620814-3e1f-470e-bdf1-1522fc97c529",
   "metadata": {},
   "outputs": [
    {
     "data": {
      "text/plain": [
       "882"
      ]
     },
     "execution_count": 22,
     "metadata": {},
     "output_type": "execute_result"
    }
   ],
   "source": [
    "count_parameters(model)"
   ]
  },
  {
   "cell_type": "code",
   "execution_count": 23,
   "id": "122f085e-ee89-4416-95ce-09a3f63f825e",
   "metadata": {},
   "outputs": [],
   "source": [
    "device = 'cpu'\n",
    "model.to(device)\n",
    "model.eval()\n",
    "with torch.inference_mode():\n",
    "    for X, y in val_dataloader:\n",
    "        # Send the data to the target device\n",
    "        X, y = X.to(device), y.to(device)\n",
    "\n",
    "        test_pred = model(X)"
   ]
  },
  {
   "cell_type": "code",
   "execution_count": 24,
   "id": "ee713d28-8bb8-4050-a015-d4c2b7190e22",
   "metadata": {},
   "outputs": [],
   "source": [
    "from sklearn.metrics import precision_recall_fscore_support\n",
    "from sklearn.metrics import confusion_matrix\n",
    "import numpy as np\n",
    "import seaborn as sns\n",
    "import matplotlib.pyplot as plt"
   ]
  },
  {
   "cell_type": "code",
   "execution_count": 25,
   "id": "1dca498d-1f9c-41b1-af0e-e49ab74328ac",
   "metadata": {},
   "outputs": [],
   "source": [
    "def metrices(y_true, y_pred):\n",
    "    # y_true is the ground truth labels\n",
    "    # y_pred is the predicted labels\n",
    "\n",
    "    cf_matrix = confusion_matrix(y_true, y_pred)\n",
    "\n",
    "    # Extract the relevant statistics from the confusion matrix\n",
    "    true_positives = cf_matrix[1, 1]\n",
    "    false_positives = cf_matrix[0, 1]\n",
    "    true_negatives = cf_matrix[0, 0]\n",
    "    false_negatives = cf_matrix[1, 0]\n",
    "\n",
    "    # Calculate accuracy\n",
    "    accuracy = (true_positives + true_negatives) / (true_positives + true_negatives + false_positives + false_negatives)\n",
    "\n",
    "    # Calculate true positive rate (sensitivity or recall)\n",
    "    true_positive_rate = true_positives / (true_positives + false_negatives)\n",
    "\n",
    "    # Calculate true negative rate (specificity)\n",
    "    true_negative_rate = true_negatives / (true_negatives + false_positives)\n",
    "\n",
    "    # Calculate precision\n",
    "    precision = true_positives / (true_positives + false_positives)\n",
    "\n",
    "    # Calculate false positive rate (fall-out)\n",
    "    false_positive_rate = false_positives / (false_positives + true_negatives)\n",
    "\n",
    "    # Calculate F1 score\n",
    "    f1_score = 2 * (precision * true_positive_rate) / (precision + true_positive_rate)\n",
    "\n",
    "    # print(f'accuracy: {100*accuracy:.2f} | true_positive_rate: {100*true_positive_rate:.2f} | true_negative_rate: {100*true_negative_rate:.2f} | precision: {100*precision:.2f} | false_positive_rate: {100*false_positive_rate:.2f} | f1_score: {100*f1_score:.2f}')\n",
    "    return [accuracy, true_positive_rate, true_negative_rate, precision, false_positive_rate, f1_score]"
   ]
  },
  {
   "cell_type": "code",
   "execution_count": 26,
   "id": "8360cee3-39ca-47b8-9926-b0e1ff5818e5",
   "metadata": {},
   "outputs": [
    {
     "name": "stdout",
     "output_type": "stream",
     "text": [
      "accuracy: 93.76 | true_positive_rate: 96.99 | true_negative_rate: 92.64 | precision: 82.06 | false_positive_rate: 7.36 | f1_score: 88.90\n"
     ]
    }
   ],
   "source": [
    "y_pred = test_pred.argmax(dim=1).cpu().numpy()\n",
    "y_true = y.argmax(dim=1).cpu().numpy()\n",
    "accuracy, true_positive_rate, true_negative_rate, precision, false_positive_rate, f1_score = met_test = metrices(y_true, y_pred)\n",
    "print(f'accuracy: {100*accuracy:.2f} | true_positive_rate: {100*true_positive_rate:.2f} | true_negative_rate: {100*true_negative_rate:.2f} | precision: {100*precision:.2f} | false_positive_rate: {100*false_positive_rate:.2f} | f1_score: {100*f1_score:.2f}')"
   ]
  },
  {
   "cell_type": "code",
   "execution_count": 27,
   "id": "6b9219ee-f0cc-4069-8e58-b57358b99902",
   "metadata": {},
   "outputs": [],
   "source": [
    "cf_matrix = confusion_matrix(y_true, y_pred)"
   ]
  },
  {
   "cell_type": "code",
   "execution_count": 28,
   "id": "2ac1706a-eeeb-4575-b3e5-4180ef5cea1a",
   "metadata": {},
   "outputs": [
    {
     "data": {
      "image/png": "[encoded data removed]",
      "text/plain": [
       "<Figure size 640x480 with 2 Axes>"
      ]
     },
     "metadata": {},
     "output_type": "display_data"
    }
   ],
   "source": [
    "group_names = ['True Neg','False Pos','False Neg','True Pos']\n",
    "group_counts = [\"{0:0.0f}\".format(value) for value in cf_matrix.flatten()]\n",
    "labels = [f\"{v1}\\n{v2}\" for v1, v2 in zip(group_names, group_counts)]\n",
    "labels = np.asarray(labels).reshape(2,2)\n",
    "\n",
    "categories = [\"weak\", \"strong\"]\n",
    "sns.heatmap(cf_matrix, annot=labels, fmt='', cmap='Blues',xticklabels=categories, yticklabels=categories)\n",
    "plt.savefig('cf_mat_cnn.png')"
   ]
  },
  {
   "cell_type": "code",
   "execution_count": 29,
   "id": "88f7592a-acb5-4c5d-925a-6470ef7a28f9",
   "metadata": {},
   "outputs": [
    {
     "data": {
      "application/vnd.jupyter.widget-view+json": {
       "model_id": "fa9e08e020364882a16eb8942dfdf97d",
       "version_major": 2,
       "version_minor": 0
      },
      "text/plain": [
       "  0%|          | 0/20 [00:00<?, ?it/s]"
      ]
     },
     "metadata": {},
     "output_type": "display_data"
    }
   ],
   "source": [
    "device = 'cuda'\n",
    "Metrice_list = []\n",
    "for _ in tqdm(range(20)):\n",
    "    for i in np.arange(5, 55, 5):\n",
    "        torch.manual_seed(42)\n",
    "        model = RCModel(n=i).to(device)\n",
    "        n_params = count_parameters(model)\n",
    "        optimizer = learning(params=model.parameters())\n",
    "\n",
    "        for name, param in model.named_parameters():  \n",
    "            if param.requires_grad and 'lin_output' not in name:  \n",
    "                param.requires_grad = False\n",
    "\n",
    "        model.train()\n",
    "        start_time = timer()\n",
    "        for batch_idx, (X_train, y_train) in enumerate(train_dataloader):\n",
    "            if device == 'cuda':\n",
    "                X_train, y_train = X_train.cuda(), y_train.cuda()\n",
    "            if batch_idx == 0:\n",
    "                H = model.forward_to_hidden(X_train)\n",
    "                P, Beta = optimizer.init_train(H, y_train)\n",
    "\n",
    "            y_pred = model(X_train)\n",
    "            acc = accuracy_fn(y_true = y_train.argmax(dim = 1), y_pred = y_pred.argmax(dim = 1))\n",
    "        end_time = timer()\n",
    "        time_consume_train = end_time - start_time\n",
    "        \n",
    "        model.eval()\n",
    "        start_time = timer()\n",
    "        with torch.inference_mode():\n",
    "            for X, y in val_dataloader:\n",
    "                if device == 'cuda':\n",
    "                    X, y = X.cuda(), y.cuda()\n",
    "\n",
    "                test_pred = model(X)\n",
    "        end_time = timer()\n",
    "        time_consume_pred = end_time - start_time\n",
    "\n",
    "        y_pred = test_pred.argmax(dim=1).cpu().numpy()\n",
    "        y_true = y.argmax(dim=1).cpu().numpy()\n",
    "        met_test = metrices(y_true, y_pred)\n",
    "        Metrice_list.append(met_test + [time_consume_train, time_consume_pred, i, n_params])\n",
    "        # print('='*150)\n",
    "\n",
    "df = pd.DataFrame(Metrice_list)\n",
    "df.columns = ['accuracy','true_positive_rate','true_negative_rate','precision','false_positive_rate','f1_score', 'time spent(training)', 'time spent(testing)', 'n_internal', 'n_params']\n",
    "df.head()\n",
    "df.to_csv(f'{device}_rc_metrice.csv')"
   ]
  },
  {
   "cell_type": "code",
   "execution_count": 30,
   "id": "7e32d372-5845-4fed-9f95-87c5029b2718",
   "metadata": {},
   "outputs": [
    {
     "data": {
      "application/vnd.jupyter.widget-view+json": {
       "model_id": "8f9e7e3f3af3462c846e7e591c2cdccc",
       "version_major": 2,
       "version_minor": 0
      },
      "text/plain": [
       "  0%|          | 0/20 [00:00<?, ?it/s]"
      ]
     },
     "metadata": {},
     "output_type": "display_data"
    }
   ],
   "source": [
    "device = 'cpu'\n",
    "Metrice_list = []\n",
    "for _ in tqdm(range(20)):\n",
    "    for i in np.arange(5, 55, 5):\n",
    "        torch.manual_seed(42)\n",
    "        model = RCModel(n=i).to(device)\n",
    "        n_params = count_parameters(model)\n",
    "        optimizer = learning(params=model.parameters())\n",
    "\n",
    "        for name, param in model.named_parameters():  \n",
    "            if param.requires_grad and 'lin_output' not in name:  \n",
    "                param.requires_grad = False\n",
    "\n",
    "        model.train()\n",
    "        start_time = timer()\n",
    "        for batch_idx, (X_train, y_train) in enumerate(train_dataloader):\n",
    "            if device == 'cuda':\n",
    "                X_train, y_train = X_train.cuda(), y_train.cuda()\n",
    "            if batch_idx == 0:\n",
    "                H = model.forward_to_hidden(X_train)\n",
    "                P, Beta = optimizer.init_train(H, y_train)\n",
    "\n",
    "            y_pred = model(X_train)\n",
    "            acc = accuracy_fn(y_true = y_train.argmax(dim = 1), y_pred = y_pred.argmax(dim = 1))\n",
    "        end_time = timer()\n",
    "        time_consume_train = end_time - start_time\n",
    "        \n",
    "        model.eval()\n",
    "        start_time = timer()\n",
    "        with torch.inference_mode():\n",
    "            for X, y in val_dataloader:\n",
    "                if device == 'cuda':\n",
    "                    X, y = X.cuda(), y.cuda()\n",
    "\n",
    "                test_pred = model(X)\n",
    "        end_time = timer()\n",
    "        time_consume_pred = end_time - start_time\n",
    "\n",
    "        y_pred = test_pred.argmax(dim=1).cpu().numpy()\n",
    "        y_true = y.argmax(dim=1).cpu().numpy()\n",
    "        met_test = metrices(y_true, y_pred)\n",
    "        Metrice_list.append(met_test + [time_consume_train, time_consume_pred, i, n_params])\n",
    "        # print('='*150)\n",
    "\n",
    "df = pd.DataFrame(Metrice_list)\n",
    "df.columns = ['accuracy','true_positive_rate','true_negative_rate','precision','false_positive_rate','f1_score', 'time spent(training)', 'time spent(testing)', 'n_internal', 'n_params']\n",
    "df.head()\n",
    "df.to_csv(f'{device}_rc_metrice.csv')"
   ]
  },
  {
   "cell_type": "markdown",
   "id": "cf96c802-10b5-4a8b-9bc7-bbe372e8c68a",
   "metadata": {},
   "source": [
    "There are several metrics that are commonly used to measure the performance of binary classifiers:\n",
    "\n",
    "1. Accuracy: This is the proportion of correct predictions made by the classifier, and is calculated as the number of true positive and true negative predictions divided by the total number of predictions made.\n",
    "\n",
    "2. True positive rate (TPR) or sensitivity: This is the proportion of positive instances that were correctly predicted by the classifier, and is calculated as the number of true positive predictions divided by the total number of positive instances.\n",
    "\n",
    "3. True negative rate (TNR) or specificity: This is the proportion of negative instances that were correctly predicted by the classifier, and is calculated as the number of true negative predictions divided by the total number of negative instances.\n",
    "\n",
    "4. Precision: This is the proportion of positive predictions that were actually correct, and is calculated as the number of true positive predictions divided by the total number of positive predictions made by the classifier.\n",
    "\n",
    "5. False positive rate (FPR) or fall-out: This is the proportion of negative instances that were incorrectly predicted as positive, and is calculated as the number of false positive predictions divided by the total number of negative instances.\n",
    "\n",
    "6. F1 score: This is a balance between precision and recall, and is calculated as the harmonic mean of precision and recall.\n",
    "\n",
    "Overall, the choice of which performance metric to use will depend on the specific requirements of the application. Some metrics, such as accuracy and F1 score, provide a general overview of classifier performance, while others, such as true positive rate and false positive rate, are more specialized and may be more relevant in certain situations."
   ]
  },
  {
   "cell_type": "code",
   "execution_count": null,
   "id": "4e77a423-7c61-471a-bf46-654fb4091d9a",
   "metadata": {},
   "outputs": [],
   "source": []
  }
 ],
 "metadata": {
  "kernelspec": {
   "display_name": "AIML",
   "language": "python",
   "name": "aiml"
  },
  "language_info": {
   "codemirror_mode": {
    "name": "ipython",
    "version": 3
   },
   "file_extension": ".py",
   "mimetype": "text/x-python",
   "name": "python",
   "nbconvert_exporter": "python",
   "pygments_lexer": "ipython3",
   "version": "3.8.12"
  }
 },
 "nbformat": 4,
 "nbformat_minor": 5
}
