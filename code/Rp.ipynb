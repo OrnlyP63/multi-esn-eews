{
 "cells": [
  {
   "cell_type": "code",
   "execution_count": 1,
   "id": "701aadec-2524-4b13-9c6a-4a20dcb8a4fe",
   "metadata": {},
   "outputs": [],
   "source": [
    "import torch\n",
    "import torch.nn as nn\n",
    "from torch.optim import AdamW, Adam, SGD\n",
    "from torch.utils.data import DataLoader, random_split\n",
    "from torch.optim.lr_scheduler import LambdaLR\n",
    "import torch.nn.functional as F\n",
    "\n",
    "import pandas as pd\n",
    "from tqdm.auto import tqdm"
   ]
  },
  {
   "cell_type": "code",
   "execution_count": 2,
   "id": "c66af9c0-02d2-44e8-a2fe-6a36191d3e5b",
   "metadata": {},
   "outputs": [],
   "source": [
    "from timeit import default_timer as timer\n",
    "from torch.profiler import profile, record_function, ProfilerActivity"
   ]
  },
  {
   "cell_type": "code",
   "execution_count": 3,
   "id": "99ccc393-e919-40d2-b795-a019bdaf6378",
   "metadata": {},
   "outputs": [
    {
     "data": {
      "text/plain": [
       "'cuda'"
      ]
     },
     "execution_count": 3,
     "metadata": {},
     "output_type": "execute_result"
    }
   ],
   "source": [
    "# Check device\n",
    "device = \"cuda\" if torch.cuda.is_available() else \"cpu\"\n",
    "device"
   ]
  },
  {
   "cell_type": "markdown",
   "id": "80031687-818d-4530-8c8e-01429074861c",
   "metadata": {},
   "source": [
    "# Utils Function"
   ]
  },
  {
   "cell_type": "code",
   "execution_count": 4,
   "id": "777d65b8-b9f7-4ab0-8d5e-9d2b9a00a939",
   "metadata": {},
   "outputs": [],
   "source": [
    "def print_train_time(start:float, end:float, device: torch.device = None):\n",
    "    \"\"\"print difference between start and end time\"\"\"\n",
    "    total_time = end - start\n",
    "    print(f\"Train time on {device}: {total_time:.3f} seconds\")\n",
    "    return total_time"
   ]
  },
  {
   "cell_type": "code",
   "execution_count": 5,
   "id": "eaa6b527-df2c-4d9f-a787-a650b5f4dceb",
   "metadata": {},
   "outputs": [],
   "source": [
    "def accuracy_fn(y_true, y_pred):\n",
    "    correct = torch.eq(y_true, y_pred).sum().item()\n",
    "    acc = (correct / len(y_pred)) * 100\n",
    "    return acc"
   ]
  },
  {
   "cell_type": "code",
   "execution_count": 6,
   "id": "2e03a019-d7b7-40ef-9408-80b571041a1b",
   "metadata": {},
   "outputs": [],
   "source": [
    "def results(res: str):\n",
    "    res_lst = res.split('\\n')\n",
    "\n",
    "    data = []\n",
    "    for row in res_lst[3:-4]:\n",
    "        row_split = [sp.strip() for sp in row[57:].split('  ') if sp != '']\n",
    "        data.append(row_split)\n",
    "\n",
    "    index = [l[:57].strip() for l in res_lst[3:-4]]\n",
    "\n",
    "    head = [c.strip() for c in res_lst[1].strip().split('  ') if c != '']\n",
    "\n",
    "    df = pd.DataFrame(data, columns=None)\n",
    "    df.columns = head[1:]\n",
    "    df.index = index\n",
    "\n",
    "    return df"
   ]
  },
  {
   "cell_type": "markdown",
   "id": "4dc13b10-5e79-401c-a94d-44cf27a557bb",
   "metadata": {},
   "source": [
    "# Model CNN"
   ]
  },
  {
   "cell_type": "code",
   "execution_count": 7,
   "id": "e40aef60-50f7-46e0-a8c7-a3fd5aa3ad35",
   "metadata": {},
   "outputs": [],
   "source": [
    "from model import CNNModel\n",
    "from training_function import train_step, test_step, accuracy_fn"
   ]
  },
  {
   "cell_type": "markdown",
   "id": "f1510170-ba1f-4fe9-a707-20b924aea5fd",
   "metadata": {},
   "source": [
    "# Data"
   ]
  },
  {
   "cell_type": "code",
   "execution_count": 8,
   "id": "b4084a1b-12b6-4ec7-9a3e-4b8a81109dd2",
   "metadata": {},
   "outputs": [],
   "source": [
    "import joblib\n",
    "from torch.utils import data"
   ]
  },
  {
   "cell_type": "code",
   "execution_count": 9,
   "id": "2c956f7e-921b-42a4-b288-3546552e1999",
   "metadata": {},
   "outputs": [],
   "source": [
    "train_data = 'train.jb'\n",
    "valid_data = 'test.jb'"
   ]
  },
  {
   "cell_type": "code",
   "execution_count": 10,
   "id": "bb1608c4-7d69-475b-a770-e0e377c1ec46",
   "metadata": {},
   "outputs": [],
   "source": [
    "n_workers = 0\n",
    "valid_steps = 1\n",
    "save_steps = 50\n",
    "epochs = 25\n",
    "\n",
    "lr = 3e-05\n",
    "batch_size = 128"
   ]
  },
  {
   "cell_type": "code",
   "execution_count": 11,
   "id": "1b4a4647-87b8-493d-b92b-2ead4069297f",
   "metadata": {},
   "outputs": [],
   "source": [
    "train_x, train_y = joblib.load(train_data)\n",
    "val_x, val_y = joblib.load(valid_data)\n",
    "\n",
    "train_y, val_y = pd.get_dummies(train_y).values, pd.get_dummies(val_y).values\n",
    "\n",
    "train_set = data.TensorDataset(torch.Tensor(train_x), torch.Tensor(train_y))\n",
    "valid_set = data.TensorDataset(torch.Tensor(val_x), torch.Tensor(val_y))"
   ]
  },
  {
   "cell_type": "code",
   "execution_count": 12,
   "id": "0d5e06c3-039c-4e08-b168-a0bb63c5eca4",
   "metadata": {},
   "outputs": [
    {
     "data": {
      "text/plain": [
       "((6900, 3, 500), (3477, 3, 500))"
      ]
     },
     "execution_count": 12,
     "metadata": {},
     "output_type": "execute_result"
    }
   ],
   "source": [
    "train_x.shape, val_x.shape"
   ]
  },
  {
   "cell_type": "code",
   "execution_count": 13,
   "id": "74f3e5dc-76c8-45cb-9670-1a7f2d777875",
   "metadata": {},
   "outputs": [],
   "source": [
    "train_dataloader = DataLoader(\n",
    "    train_set,\n",
    "    batch_size=batch_size,\n",
    "    shuffle=True,\n",
    "    drop_last=True,\n",
    "    num_workers=n_workers,\n",
    "    pin_memory=True\n",
    "  )\n",
    "\n",
    "valid_dataloader = DataLoader(\n",
    "    valid_set,\n",
    "    batch_size=len(valid_set),\n",
    "    num_workers=n_workers,\n",
    "    drop_last=True,\n",
    "    pin_memory=True\n",
    "  )"
   ]
  },
  {
   "cell_type": "markdown",
   "id": "964e8b63-0d77-44fd-8a9f-e19610a54bb7",
   "metadata": {
    "tags": []
   },
   "source": [
    "# Training Model CNN GPU"
   ]
  },
  {
   "cell_type": "code",
   "execution_count": 14,
   "id": "e662889d-71de-48c7-bd34-0fdd168d582e",
   "metadata": {},
   "outputs": [
    {
     "data": {
      "text/plain": [
       "device(type='cuda', index=0)"
      ]
     },
     "execution_count": 14,
     "metadata": {},
     "output_type": "execute_result"
    }
   ],
   "source": [
    "# Create an instance of model_1\n",
    "torch.manual_seed(42)\n",
    "model = CNNModel().to(device)\n",
    "next(model.parameters()).device"
   ]
  },
  {
   "cell_type": "code",
   "execution_count": 15,
   "id": "3bc706bd-f179-4b3d-aa9a-cf9129f6c841",
   "metadata": {},
   "outputs": [],
   "source": [
    "optimizer = AdamW(model.parameters(), lr=lr)\n",
    "scheduler = LambdaLR(optimizer=optimizer, lr_lambda=lambda epoch:0.9**epoch)\n",
    "loss_fn = nn.CrossEntropyLoss()"
   ]
  },
  {
   "cell_type": "code",
   "execution_count": 16,
   "id": "c89a3d4a-c5f8-4be9-b4a7-3a181d048167",
   "metadata": {
    "collapsed": true,
    "jupyter": {
     "outputs_hidden": true
    },
    "tags": []
   },
   "outputs": [
    {
     "data": {
      "application/vnd.jupyter.widget-view+json": {
       "model_id": "f064bf23fc124b918d8b80b8ef9e2695",
       "version_major": 2,
       "version_minor": 0
      },
      "text/plain": [
       "  0%|          | 0/25 [00:00<?, ?it/s]"
      ]
     },
     "metadata": {},
     "output_type": "display_data"
    },
    {
     "name": "stdout",
     "output_type": "stream",
     "text": [
      "Epoch: 0\n",
      "-------------\n",
      "Train loss: 0.43773 | Train acc: 85.35%\n",
      "Test loss: 0.31934 | Test acc: 93.13 %\n",
      "\n",
      "Epoch: 1\n",
      "-------------\n",
      "Train loss: 0.31105 | Train acc: 87.93%\n",
      "Test loss: 0.21773 | Test acc: 93.18 %\n",
      "\n",
      "Epoch: 2\n",
      "-------------\n",
      "Train loss: 0.27246 | Train acc: 88.24%\n",
      "Test loss: 0.21439 | Test acc: 94.13 %\n",
      "\n",
      "Epoch: 3\n",
      "-------------\n",
      "Train loss: 0.25471 | Train acc: 88.94%\n",
      "Test loss: 0.20503 | Test acc: 93.67 %\n",
      "\n",
      "Epoch: 4\n",
      "-------------\n",
      "Train loss: 0.24158 | Train acc: 89.55%\n",
      "Test loss: 0.18686 | Test acc: 94.13 %\n",
      "\n",
      "Epoch: 5\n",
      "-------------\n",
      "Train loss: 0.23409 | Train acc: 89.96%\n",
      "Test loss: 0.17100 | Test acc: 94.16 %\n",
      "\n",
      "Epoch: 6\n",
      "-------------\n",
      "Train loss: 0.22222 | Train acc: 90.54%\n",
      "Test loss: 0.15398 | Test acc: 94.28 %\n",
      "\n",
      "Epoch: 7\n",
      "-------------\n",
      "Train loss: 0.21497 | Train acc: 90.68%\n",
      "Test loss: 0.17188 | Test acc: 94.56 %\n",
      "\n",
      "Epoch: 8\n",
      "-------------\n",
      "Train loss: 0.21074 | Train acc: 90.89%\n",
      "Test loss: 0.15181 | Test acc: 94.51 %\n",
      "\n",
      "Epoch: 9\n",
      "-------------\n",
      "Train loss: 0.20626 | Train acc: 91.16%\n",
      "Test loss: 0.17723 | Test acc: 94.02 %\n",
      "\n",
      "Epoch: 10\n",
      "-------------\n",
      "Train loss: 0.20243 | Train acc: 91.24%\n",
      "Test loss: 0.15300 | Test acc: 94.54 %\n",
      "\n",
      "Epoch: 11\n",
      "-------------\n",
      "Train loss: 0.19813 | Train acc: 91.39%\n",
      "Test loss: 0.16939 | Test acc: 94.33 %\n",
      "\n",
      "Epoch: 12\n",
      "-------------\n",
      "Train loss: 0.19563 | Train acc: 91.64%\n",
      "Test loss: 0.16019 | Test acc: 94.36 %\n",
      "\n",
      "Epoch: 13\n",
      "-------------\n",
      "Train loss: 0.19386 | Train acc: 91.60%\n",
      "Test loss: 0.15269 | Test acc: 94.39 %\n",
      "\n",
      "Epoch: 14\n",
      "-------------\n",
      "Train loss: 0.19246 | Train acc: 91.89%\n",
      "Test loss: 0.15521 | Test acc: 94.51 %\n",
      "\n",
      "Epoch: 15\n",
      "-------------\n",
      "Train loss: 0.19150 | Train acc: 91.88%\n",
      "Test loss: 0.17124 | Test acc: 94.05 %\n",
      "\n",
      "Epoch: 16\n",
      "-------------\n",
      "Train loss: 0.19192 | Train acc: 92.00%\n",
      "Test loss: 0.18349 | Test acc: 93.79 %\n",
      "\n",
      "Epoch: 17\n",
      "-------------\n",
      "Train loss: 0.18575 | Train acc: 92.22%\n",
      "Test loss: 0.14048 | Test acc: 94.82 %\n",
      "\n",
      "Epoch: 18\n",
      "-------------\n",
      "Train loss: 0.18517 | Train acc: 92.22%\n",
      "Test loss: 0.14808 | Test acc: 95.08 %\n",
      "\n",
      "Epoch: 19\n",
      "-------------\n",
      "Train loss: 0.18839 | Train acc: 92.03%\n",
      "Test loss: 0.14960 | Test acc: 94.91 %\n",
      "\n",
      "Epoch: 20\n",
      "-------------\n",
      "Train loss: 0.18646 | Train acc: 92.39%\n",
      "Test loss: 0.13616 | Test acc: 95.00 %\n",
      "\n",
      "Epoch: 21\n",
      "-------------\n",
      "Train loss: 0.18567 | Train acc: 92.26%\n",
      "Test loss: 0.15060 | Test acc: 94.48 %\n",
      "\n",
      "Epoch: 22\n",
      "-------------\n",
      "Train loss: 0.18301 | Train acc: 92.28%\n",
      "Test loss: 0.14961 | Test acc: 94.74 %\n",
      "\n",
      "Epoch: 23\n",
      "-------------\n",
      "Train loss: 0.18291 | Train acc: 92.11%\n",
      "Test loss: 0.14321 | Test acc: 94.65 %\n",
      "\n",
      "Epoch: 24\n",
      "-------------\n",
      "Train loss: 0.18418 | Train acc: 92.33%\n",
      "Test loss: 0.14637 | Test acc: 95.02 %\n",
      "\n",
      "Time Consumtion: 34.7830511 sec\n"
     ]
    }
   ],
   "source": [
    "with profile(activities=[ProfilerActivity.CPU, ProfilerActivity.CUDA], profile_memory=True) as prof:\n",
    "    start_time = timer()\n",
    "    for epoch in tqdm(range(epochs)):\n",
    "        print(f\"Epoch: {epoch}\\n-------------\")\n",
    "\n",
    "        train_step(model=model,\n",
    "                   data_loader=train_dataloader, \n",
    "                   loss_fn=loss_fn,\n",
    "                   optimizer=optimizer,\n",
    "                   accuracy_fn=accuracy_fn,\n",
    "                   device=device)\n",
    "\n",
    "        test_step(model=model,\n",
    "                   data_loader=valid_dataloader, \n",
    "                   loss_fn=loss_fn,\n",
    "                   accuracy_fn=accuracy_fn,\n",
    "                   device=device)\n",
    "        scheduler.step()\n",
    "        prof.step()\n",
    "    end_time = timer()\n",
    "print(f'Time Consumtion: {end_time-start_time} sec')"
   ]
  },
  {
   "cell_type": "code",
   "execution_count": 17,
   "id": "16a42c20-d709-48ef-b509-4596045890d8",
   "metadata": {
    "collapsed": true,
    "jupyter": {
     "outputs_hidden": true
    },
    "tags": []
   },
   "outputs": [
    {
     "name": "stdout",
     "output_type": "stream",
     "text": [
      "-------------------------------------------------------  ------------  ------------  ------------  ------------  ------------  ------------  ------------  ------------  ------------  ------------  ------------  ------------  ------------  ------------  \n",
      "                                                   Name    Self CPU %      Self CPU   CPU total %     CPU total  CPU time avg     Self CUDA   Self CUDA %    CUDA total  CUDA time avg       CPU Mem  Self CPU Mem      CUDA Mem  Self CUDA Mem    # of Calls  \n",
      "-------------------------------------------------------  ------------  ------------  ------------  ------------  ------------  ------------  ------------  ------------  ------------  ------------  ------------  ------------  ------------  ------------  \n",
      "                                            aten::empty         0.45%     136.058ms         0.45%     136.058ms       3.270us      61.369ms         0.19%      61.369ms       1.475us       3.74 Mb       3.74 Mb      32.86 Gb      32.86 Gb         41612  \n",
      "                                          aten::random_         0.00%       1.324ms         0.00%       1.324ms      17.653us      81.000us         0.00%      81.000us       1.080us           0 b           0 b           0 b           0 b            75  \n",
      "                                             aten::item         0.36%     110.048ms         2.42%     736.100ms      42.365us     902.266ms         2.80%        2.380s     136.961us           0 b           0 b           0 b           0 b         17375  \n",
      "                              aten::_local_scalar_dense         2.06%     626.052ms         2.06%     626.052ms      36.034us        1.478s         4.58%        1.478s      85.043us           0 b           0 b           0 b           0 b         17374  \n",
      "                                               [memory]         0.00%       0.000us         0.00%       0.000us       0.000us       0.000us         0.00%       0.000us       0.000us        -400 b        -400 b     -27.11 Gb     -27.11 Gb         21926  \n",
      "                                            aten::zeros         0.20%      61.147ms         0.26%      78.020ms      19.264us      23.628ms         0.07%      34.769ms       8.585us      15.82 Kb          52 b           0 b           0 b          4050  \n",
      "                                            aten::zero_         0.39%     119.932ms         0.70%     214.068ms      10.724us      54.536ms         0.17%     133.807ms       6.703us           0 b           0 b           0 b           0 b         19962  \n",
      "enumerate(DataLoader)#_SingleProcessDataLoaderIter._...        18.72%        5.693s        37.09%       11.282s       8.059ms        2.455s         7.61%       11.069s       7.907ms      -5.47 Kb      -1.44 Gb           0 b           0 b          1400  \n",
      "                                         aten::randperm         0.02%       5.710ms         0.04%      11.311ms     113.110us     608.000us         0.00%       1.433ms      14.330us       2.63 Mb        -400 b           0 b           0 b           100  \n",
      "                                    aten::scalar_tensor         0.00%     223.000us         0.00%     223.000us       4.460us      78.000us         0.00%      78.000us       1.560us         400 b         400 b           0 b           0 b            50  \n",
      "                                          aten::resize_         0.00%      24.000us         0.00%      24.000us       0.240us     128.000us         0.00%     128.000us       1.280us           0 b           0 b           0 b           0 b           100  \n",
      "                                     aten::resolve_conj         0.00%      18.000us         0.00%      18.000us       0.360us      66.000us         0.00%      66.000us       1.320us           0 b           0 b           0 b           0 b            50  \n",
      "                                      aten::resolve_neg         0.00%       1.000us         0.00%       1.000us       0.020us      70.000us         0.00%      70.000us       1.400us           0 b           0 b           0 b           0 b            50  \n",
      "                                           aten::select        12.57%        3.825s        13.13%        3.994s       7.785us        3.956s        12.26%        8.498s      16.564us           0 b           0 b           0 b           0 b        513050  \n",
      "                                       aten::as_strided         0.74%     224.428ms         0.74%     224.428ms       0.400us        4.615s        14.30%        4.615s       8.223us           0 b           0 b           0 b           0 b        561150  \n",
      "                                            aten::stack         0.54%     164.549ms         3.96%        1.203s     445.623us      36.744ms         0.11%      69.332ms      25.679us       1.44 Gb           0 b           0 b           0 b          2700  \n",
      "                                              aten::cat         3.22%     978.992ms         3.39%        1.030s     381.590us       8.181ms         0.03%      28.547ms      10.573us       1.44 Gb       1.44 Gb           0 b           0 b          2700  \n",
      "                                           aten::narrow         0.08%      24.172ms         0.17%      51.301ms      19.000us       8.211ms         0.03%      20.366ms       7.543us           0 b           0 b           0 b           0 b          2700  \n",
      "                                            aten::slice         0.08%      23.778ms         0.09%      27.129ms      10.048us       8.135ms         0.03%      12.155ms       4.502us           0 b           0 b           0 b           0 b          2700  \n",
      "                                             aten::view         0.15%      46.208ms         0.15%      46.208ms       3.835us      19.768ms         0.06%      19.768ms       1.640us           0 b           0 b           0 b           0 b         12050  \n",
      "                                       aten::pin_memory         0.12%      36.334ms         1.26%     382.292ms     141.590us      13.958ms         0.04%      43.176ms      15.991us           0 b           0 b           0 b           0 b          2700  \n",
      "                                        aten::is_pinned         0.12%      37.828ms         0.12%      37.828ms      14.010us       4.062ms         0.01%       4.062ms       1.504us           0 b           0 b           0 b           0 b          2700  \n",
      "                                      aten::_pin_memory         0.27%      82.449ms         1.01%     308.130ms     114.122us      13.346ms         0.04%      25.156ms       9.317us           0 b           0 b           0 b           0 b          2700  \n",
      "                                             aten::set_         0.02%       6.188ms         0.02%       6.188ms       2.292us       4.009ms         0.01%       4.009ms       1.485us           0 b           0 b           0 b           0 b          2700  \n",
      "                                            aten::copy_         3.71%        1.128s         3.71%        1.128s      49.785us        2.084s         6.46%        2.084s      92.020us           0 b           0 b           0 b           0 b         22650  \n",
      "                                               aten::to         0.40%     123.074ms         4.62%        1.405s      65.905us      65.396ms         0.20%        2.707s     127.034us      62.11 Kb           0 b       1.44 Gb           0 b         21312  \n",
      "                                         aten::_to_copy         1.01%     307.794ms         4.21%        1.282s      64.236us      93.958ms         0.29%        2.642s     132.429us      62.11 Kb         728 b       1.44 Gb           0 b         19950  \n",
      "                                    aten::empty_strided         0.25%      76.180ms         0.25%      76.180ms       3.577us     473.644ms         1.47%     473.644ms      22.238us      61.40 Kb      61.40 Kb       1.44 Gb       1.44 Gb         21299  \n",
      "                                           aten::conv1d         0.08%      24.601ms        24.06%        7.317s       2.710ms       8.596ms         0.03%        7.464s       2.764ms           0 b           0 b      15.24 Gb           0 b          2700  \n",
      "                                      aten::convolution         0.21%      62.810ms        23.98%        7.293s       2.701ms       8.660ms         0.03%        7.455s       2.761ms           0 b           0 b      15.24 Gb           0 b          2700  \n",
      "                                     aten::_convolution         0.48%     146.446ms        23.77%        7.230s       2.678ms      34.072ms         0.11%        7.447s       2.758ms           0 b           0 b      15.24 Gb           0 b          2700  \n",
      "                                        aten::unsqueeze         0.27%      82.489ms         0.32%      97.326ms       7.290us      42.894ms         0.13%      62.026ms       4.646us           0 b           0 b           0 b           0 b         13350  \n",
      "                                aten::cudnn_convolution        22.51%        6.846s        22.56%        6.861s       2.541ms        6.658s        20.64%        6.662s       2.467ms           0 b           0 b      15.24 Gb       7.69 Gb          2700  \n",
      "                                          aten::reshape         0.15%      45.529ms         0.19%      58.881ms      14.629us      12.237ms         0.04%      18.331ms       4.554us           0 b           0 b           0 b           0 b          4025  \n",
      "                                   aten::_reshape_alias         0.04%      13.352ms         0.04%      13.352ms       3.317us       6.094ms         0.02%       6.094ms       1.514us           0 b           0 b           0 b           0 b          4025  \n",
      "                                             aten::add_         2.67%     811.029ms         4.03%        1.226s      17.452us        1.514s         4.69%        2.127s      30.285us       2.78 Kb     -59.33 Kb           0 b           0 b         70238  \n",
      "                                          aten::squeeze         0.16%      47.403ms         0.19%      56.535ms       8.470us      20.295ms         0.06%      30.291ms       4.538us           0 b           0 b           0 b           0 b          6675  \n",
      "                                       aten::batch_norm         0.07%      20.775ms         1.82%     553.096ms     204.850us       8.307ms         0.03%     555.150ms     205.611us           0 b           0 b      15.23 Gb           0 b          2700  \n",
      "                           aten::_batch_norm_impl_index         0.11%      34.493ms         1.75%     532.321ms     197.156us       8.776ms         0.03%     546.843ms     202.534us           0 b           0 b      15.23 Gb           0 b          2700  \n",
      "                                 aten::cudnn_batch_norm         1.39%     423.273ms         1.64%     497.828ms     184.381us     505.270ms         1.57%     538.067ms     199.284us           0 b           0 b      15.23 Gb         512 b          2700  \n",
      "                                       aten::empty_like         0.11%      32.327ms         0.21%      62.638ms      15.470us      12.176ms         0.04%      18.385ms       4.541us           0 b           0 b      15.23 Gb           0 b          4049  \n",
      "                                             aten::relu         0.21%      64.748ms         0.48%     144.787ms      35.750us      12.457ms         0.04%     205.574ms      50.759us           0 b           0 b      15.29 Gb           0 b          4050  \n",
      "                                        aten::clamp_min         0.26%      80.039ms         0.26%      80.039ms      19.763us     193.117ms         0.60%     193.117ms      47.683us           0 b           0 b      15.29 Gb      15.29 Gb          4050  \n",
      "                                           aten::linear         0.13%      40.476ms         1.37%     415.475ms     153.880us      13.062ms         0.04%     201.883ms      74.771us           0 b           0 b      64.60 Mb           0 b          2700  \n",
      "                                                aten::t         0.39%     118.058ms         0.73%     221.572ms      16.660us      78.388ms         0.24%     138.886ms      10.443us           0 b           0 b           0 b           0 b         13300  \n",
      "                                        aten::transpose         0.29%      87.924ms         0.34%     103.514ms       7.783us      40.319ms         0.12%      60.491ms       4.548us           0 b           0 b           0 b           0 b         13300  \n",
      "                                            aten::addmm         0.97%     296.352ms         1.04%     316.747ms     117.314us     155.873ms         0.48%     168.256ms      62.317us           0 b           0 b      64.60 Mb      64.60 Mb          2700  \n",
      "                                           aten::expand         0.12%      34.996ms         0.13%      39.891ms       9.911us      12.346ms         0.04%      18.427ms       4.578us           0 b           0 b           0 b           0 b          4025  \n",
      "                               aten::cross_entropy_loss         0.19%      58.835ms         1.02%     311.207ms     230.524us      22.318ms         0.07%     136.407ms     101.042us           0 b          -8 b       1.98 Mb      -3.93 Mb          1350  \n",
      "                                      aten::log_softmax         0.07%      22.098ms         0.19%      58.615ms      43.419us       6.233ms         0.02%      13.588ms      10.065us           0 b           0 b       1.97 Mb           0 b          1350  \n",
      "                                     aten::_log_softmax         0.12%      36.137ms         0.12%      36.137ms      26.768us       5.305ms         0.02%       5.305ms       3.930us           0 b           0 b       1.97 Mb       1.97 Mb          1350  \n",
      "                                              aten::mul         0.38%     114.426ms         0.38%     114.426ms      42.776us     610.924ms         1.89%     610.924ms     228.383us           0 b           0 b       3.26 Mb       3.26 Mb          2675  \n",
      "                                              aten::sum         0.87%     265.650ms         1.08%     327.153ms      40.894us     206.236ms         0.64%     232.355ms      29.044us           0 b           0 b       3.91 Mb       1.94 Mb          8000  \n",
      "                                              aten::neg         0.16%      50.080ms         0.16%      50.080ms      18.721us      10.416ms         0.03%      10.416ms       3.894us           0 b           0 b       1.31 Mb       1.31 Mb          2675  \n",
      "                                              aten::div         0.95%     287.648ms         0.95%     287.648ms      15.486us     106.459ms         0.33%     106.459ms       5.731us           8 b           8 b       2.55 Gb       2.55 Gb         18575  \n",
      "                                              aten::add         0.00%       1.393ms         0.00%       1.393ms      27.860us     428.000us         0.00%     428.000us       8.560us           0 b           0 b      25.00 Kb      25.00 Kb            50  \n",
      "                                           aten::argmax         0.21%      65.166ms         0.22%      67.618ms      25.044us      19.989ms         0.06%      24.163ms       8.949us           0 b           0 b       3.93 Mb       3.93 Mb          2700  \n",
      "                                               aten::eq         0.08%      25.285ms         0.08%      25.285ms      18.730us       5.560ms         0.02%       5.560ms       4.119us           0 b           0 b     750.00 Kb     750.00 Kb          1350  \n",
      "                    Optimizer.zero_grad#AdamW.zero_grad         0.72%     218.696ms         1.43%     433.793ms     327.391us      32.559ms         0.10%     155.884ms     117.648us      -5.18 Kb    -373.05 Kb           0 b           0 b          1325  \n",
      "                                        aten::ones_like         0.06%      17.657ms         0.16%      48.956ms      36.948us       6.232ms         0.02%      16.598ms      12.527us           0 b           0 b     662.50 Kb           0 b          1325  \n",
      "                                            aten::fill_         0.34%     104.598ms         0.34%     104.598ms       6.068us      83.527ms         0.26%      83.527ms       4.846us           0 b           0 b           0 b           0 b         17237  \n",
      "      autograd::engine::evaluate_function: DivBackward1         0.06%      18.778ms         0.32%      96.602ms      72.907us       4.064ms         0.01%      17.446ms      13.167us           0 b        -464 b     662.50 Kb           0 b          1325  \n",
      "                                           DivBackward1         0.11%      34.270ms         0.26%      77.824ms      58.735us       6.002ms         0.02%      13.382ms      10.100us         464 b         464 b     662.50 Kb           0 b          1325  \n",
      "                                       aten::lift_fresh         0.01%       3.057ms         0.01%       3.057ms       2.286us       1.988ms         0.01%       1.988ms       1.487us           0 b           0 b           0 b           0 b          1337  \n",
      "      autograd::engine::evaluate_function: NegBackward0         0.04%      12.969ms         0.14%      42.507ms      32.081us       4.085ms         0.01%      13.568ms      10.240us           0 b           0 b         512 b    -662.00 Kb          1325  \n",
      "                                           NegBackward0         0.03%       9.871ms         0.10%      29.538ms      22.293us       3.976ms         0.01%       9.483ms       7.157us           0 b           0 b     662.50 Kb           0 b          1325  \n",
      "      autograd::engine::evaluate_function: SumBackward0         0.03%      10.476ms         0.13%      38.899ms      29.358us       4.090ms         0.01%      14.130ms      10.664us           0 b           0 b           0 b           0 b          1325  \n",
      "                                           SumBackward0         0.03%       8.927ms         0.09%      28.423ms      21.451us       3.994ms         0.01%      10.040ms       7.577us           0 b           0 b           0 b           0 b          1325  \n",
      "      autograd::engine::evaluate_function: MulBackward0         0.06%      16.743ms         0.37%     112.358ms      84.798us       4.204ms         0.01%     614.191ms     463.540us           0 b           0 b     662.50 Kb    -662.50 Kb          1325  \n",
      "                                           MulBackward0         0.05%      13.691ms         0.31%      95.615ms      72.162us       4.411ms         0.01%     609.987ms     460.368us           0 b           0 b       1.29 Mb           0 b          1325  \n",
      "autograd::engine::evaluate_function: LogSoftmaxBackw...         0.05%      15.362ms         0.19%      57.592ms      43.466us       4.079ms         0.01%      13.174ms       9.943us           0 b           0 b      -1.29 Mb      -2.59 Mb          1325  \n",
      "                                    LogSoftmaxBackward0         0.05%      16.454ms         0.14%      42.230ms      31.872us       4.014ms         0.01%       9.095ms       6.864us           0 b           0 b       1.29 Mb           0 b          1325  \n",
      "                       aten::_log_softmax_backward_data         0.08%      25.776ms         0.08%      25.776ms      19.454us       5.081ms         0.02%       5.081ms       3.835us           0 b           0 b       1.29 Mb       1.29 Mb          1325  \n",
      "    autograd::engine::evaluate_function: AddmmBackward0         0.30%      91.413ms         2.14%     650.397ms     245.433us      17.338ms         0.05%        1.300s     490.468us           0 b           0 b       7.52 Gb     -42.70 Mb          2650  \n",
      "                                         AddmmBackward0         0.32%      98.645ms         1.62%     491.553ms     185.492us      27.419ms         0.08%        1.251s     472.022us           0 b           0 b       7.56 Gb           0 b          2650  \n",
      "                                               aten::mm         0.89%     269.517ms         0.89%     269.517ms      50.852us        1.125s         3.49%        1.125s     212.293us           0 b           0 b       7.56 Gb       7.56 Gb          5300  \n",
      "autograd::engine::evaluate_function: struct torch::a...         0.38%     116.540ms         1.45%     440.024ms      27.674us      50.809ms         0.16%     446.582ms      28.087us           0 b           0 b      -2.54 Gb    -548.53 Mb         15900  \n",
      "                 struct torch::autograd::AccumulateGrad         0.49%     149.697ms         1.06%     323.484ms      20.345us      49.606ms         0.15%     395.773ms      24.891us           0 b           0 b      -2.01 Gb      -2.01 Gb         15900  \n",
      "                                           aten::detach         0.00%      74.000us         0.00%     112.000us       9.333us      37.000us         0.00%      54.000us       4.500us           0 b           0 b           0 b           0 b            12  \n",
      "                                                 detach         0.00%      38.000us         0.00%      38.000us       3.167us      17.000us         0.00%      17.000us       1.417us           0 b           0 b           0 b           0 b            12  \n",
      "        autograd::engine::evaluate_function: TBackward0         0.08%      22.948ms         0.26%      79.108ms      29.852us       8.409ms         0.03%      36.603ms      13.812us           0 b           0 b           0 b           0 b          2650  \n",
      "                                             TBackward0         0.05%      16.231ms         0.18%      56.160ms      21.192us       8.161ms         0.03%      28.194ms      10.639us           0 b           0 b           0 b           0 b          2650  \n",
      "     autograd::engine::evaluate_function: ReluBackward0         0.15%      45.024ms         0.52%     159.125ms      40.031us      12.183ms         0.04%     208.401ms      52.428us           0 b           0 b     -10.08 Gb     -20.17 Gb          3975  \n",
      "                                          ReluBackward0         0.14%      41.456ms         0.38%     114.101ms      28.705us      12.136ms         0.04%     196.218ms      49.363us           0 b           0 b      10.09 Gb           0 b          3975  \n",
      "                               aten::threshold_backward         0.24%      72.645ms         0.24%      72.645ms      18.275us     184.082ms         0.57%     184.082ms      46.310us           0 b           0 b      10.09 Gb      10.09 Gb          3975  \n",
      "     autograd::engine::evaluate_function: ViewBackward0         0.03%      10.579ms         0.13%      38.787ms      29.273us       4.198ms         0.01%      14.246ms      10.752us           0 b           0 b           0 b           0 b          1325  \n",
      "                                          ViewBackward0         0.03%       8.371ms         0.09%      28.208ms      21.289us       4.043ms         0.01%      10.048ms       7.583us           0 b           0 b           0 b           0 b          1325  \n",
      "autograd::engine::evaluate_function: CudnnBatchNormB...         0.17%      52.912ms         0.97%     293.595ms     110.791us       8.403ms         0.03%     392.978ms     148.294us           0 b           0 b     -10.07 Gb     -20.12 Gb          2650  \n",
      "                                CudnnBatchNormBackward0         0.10%      29.674ms         0.79%     240.683ms      90.824us       8.297ms         0.03%     384.575ms     145.123us           0 b           0 b      10.05 Gb           0 b          2650  \n",
      "                        aten::cudnn_batch_norm_backward         0.58%     175.529ms         0.69%     211.009ms      79.626us     354.935ms         1.10%     376.278ms     141.992us           0 b           0 b      10.05 Gb       3.00 Kb          2650  \n",
      "autograd::engine::evaluate_function: ConvolutionBack...         0.15%      44.510ms         4.77%        1.452s     547.949us       8.662ms         0.03%        1.516s     572.086us           0 b           0 b      -4.98 Gb     -10.05 Gb          2650  \n",
      "                                   ConvolutionBackward0         0.08%      23.062ms         4.63%        1.408s     531.152us       8.482ms         0.03%        1.507s     568.817us           0 b           0 b       5.07 Gb           0 b          2650  \n",
      "                             aten::convolution_backward         3.96%        1.203s         4.55%        1.384s     522.450us        1.347s         4.18%        1.499s     565.617us           0 b           0 b       5.07 Gb       5.03 Gb          2650  \n",
      "                              Optimizer.step#AdamW.step         7.69%        2.339s        14.86%        4.520s       3.411ms     306.945ms         0.95%        4.220s       3.185ms      -5.13 Kb    -374.98 Kb       3.93 Mb      -5.09 Gb          1325  \n",
      "                                          aten::detach_         0.00%      74.000us         0.00%      82.000us       6.833us     329.000us         0.00%     353.000us      29.417us           0 b           0 b           0 b           0 b            12  \n",
      "                                                detach_         0.00%       8.000us         0.00%       8.000us       0.667us      24.000us         0.00%      24.000us       2.000us           0 b           0 b           0 b           0 b            12  \n",
      "                                       aten::zeros_like         0.00%     231.000us         0.00%     802.000us      33.417us     112.000us         0.00%       6.563ms     273.458us           0 b           0 b       3.93 Mb           0 b            24  \n",
      "                                             aten::mul_         1.44%     439.467ms         1.44%     439.467ms       9.213us        1.128s         3.50%        1.128s      23.658us           0 b           0 b           0 b           0 b         47700  \n",
      "                                         aten::addcmul_         0.51%     155.718ms         0.51%     155.718ms       9.794us     111.488ms         0.35%     111.488ms       7.012us           0 b           0 b           0 b           0 b         15900  \n",
      "                                             aten::sqrt         0.80%     243.335ms         0.80%     243.335ms      15.304us     442.769ms         1.37%     442.769ms      27.847us           0 b           0 b       2.54 Gb       2.54 Gb         15900  \n",
      "-------------------------------------------------------  ------------  ------------  ------------  ------------  ------------  ------------  ------------  ------------  ------------  ------------  ------------  ------------  ------------  ------------  \n",
      "Self CPU time total: 30.417s\n",
      "Self CUDA time total: 32.260s\n",
      "\n"
     ]
    }
   ],
   "source": [
    "res = prof.key_averages().table()\n",
    "print(res)"
   ]
  },
  {
   "cell_type": "code",
   "execution_count": 18,
   "id": "62aef64d-737e-44b9-b131-6cce12c3e3fd",
   "metadata": {},
   "outputs": [],
   "source": [
    "df = results(res)\n",
    "df.to_csv('cnn_cuda.csv')"
   ]
  },
  {
   "cell_type": "markdown",
   "id": "5ad66dde-7f50-4eb5-8234-82aa4e985b94",
   "metadata": {},
   "source": [
    "# Training Model CNN CPU"
   ]
  },
  {
   "cell_type": "code",
   "execution_count": 19,
   "id": "0c67c77c-bc17-4e61-8b08-ca75ee745a45",
   "metadata": {},
   "outputs": [
    {
     "data": {
      "text/plain": [
       "device(type='cpu')"
      ]
     },
     "execution_count": 19,
     "metadata": {},
     "output_type": "execute_result"
    }
   ],
   "source": [
    "# Create an instance of model_1\n",
    "torch.manual_seed(42)\n",
    "device = 'cpu'\n",
    "model = CNNModel().to(device)\n",
    "next(model.parameters()).device"
   ]
  },
  {
   "cell_type": "code",
   "execution_count": 20,
   "id": "05093fae-716d-42fc-a5bb-c26b3d09c2b3",
   "metadata": {},
   "outputs": [],
   "source": [
    "optimizer = AdamW(model.parameters(), lr=lr)\n",
    "scheduler = LambdaLR(optimizer=optimizer, lr_lambda=lambda epoch:0.9**epoch)\n",
    "loss_fn = nn.CrossEntropyLoss()"
   ]
  },
  {
   "cell_type": "code",
   "execution_count": 21,
   "id": "bf9b0c51-6041-4184-8b0f-175121fc56db",
   "metadata": {
    "collapsed": true,
    "jupyter": {
     "outputs_hidden": true
    },
    "tags": []
   },
   "outputs": [
    {
     "data": {
      "application/vnd.jupyter.widget-view+json": {
       "model_id": "4fd82f05c6fa42d0b1dec7e3bed2b47b",
       "version_major": 2,
       "version_minor": 0
      },
      "text/plain": [
       "  0%|          | 0/25 [00:00<?, ?it/s]"
      ]
     },
     "metadata": {},
     "output_type": "display_data"
    },
    {
     "name": "stdout",
     "output_type": "stream",
     "text": [
      "Epoch: 0\n",
      "-------------\n",
      "Train loss: 0.43772 | Train acc: 85.35%\n",
      "Test loss: 0.31929 | Test acc: 93.13 %\n",
      "\n",
      "Epoch: 1\n",
      "-------------\n",
      "Train loss: 0.31105 | Train acc: 87.93%\n",
      "Test loss: 0.21772 | Test acc: 93.18 %\n",
      "\n",
      "Epoch: 2\n",
      "-------------\n",
      "Train loss: 0.27247 | Train acc: 88.24%\n",
      "Test loss: 0.21417 | Test acc: 94.13 %\n",
      "\n",
      "Epoch: 3\n",
      "-------------\n",
      "Train loss: 0.25473 | Train acc: 88.93%\n",
      "Test loss: 0.20503 | Test acc: 93.67 %\n",
      "\n",
      "Epoch: 4\n",
      "-------------\n",
      "Train loss: 0.24160 | Train acc: 89.55%\n",
      "Test loss: 0.18687 | Test acc: 94.13 %\n",
      "\n",
      "Epoch: 5\n",
      "-------------\n",
      "Train loss: 0.23411 | Train acc: 89.95%\n",
      "Test loss: 0.17100 | Test acc: 94.16 %\n",
      "\n",
      "Epoch: 6\n",
      "-------------\n",
      "Train loss: 0.22224 | Train acc: 90.54%\n",
      "Test loss: 0.15399 | Test acc: 94.28 %\n",
      "\n",
      "Epoch: 7\n",
      "-------------\n",
      "Train loss: 0.21499 | Train acc: 90.68%\n",
      "Test loss: 0.17191 | Test acc: 94.56 %\n",
      "\n",
      "Epoch: 8\n",
      "-------------\n",
      "Train loss: 0.21076 | Train acc: 90.89%\n",
      "Test loss: 0.15181 | Test acc: 94.51 %\n",
      "\n",
      "Epoch: 9\n",
      "-------------\n",
      "Train loss: 0.20627 | Train acc: 91.16%\n",
      "Test loss: 0.17724 | Test acc: 94.02 %\n",
      "\n",
      "Epoch: 10\n",
      "-------------\n",
      "Train loss: 0.20244 | Train acc: 91.24%\n",
      "Test loss: 0.15301 | Test acc: 94.54 %\n",
      "\n",
      "Epoch: 11\n",
      "-------------\n",
      "Train loss: 0.19814 | Train acc: 91.39%\n",
      "Test loss: 0.16940 | Test acc: 94.33 %\n",
      "\n",
      "Epoch: 12\n",
      "-------------\n",
      "Train loss: 0.19564 | Train acc: 91.64%\n",
      "Test loss: 0.16016 | Test acc: 94.36 %\n",
      "\n",
      "Epoch: 13\n",
      "-------------\n",
      "Train loss: 0.19387 | Train acc: 91.60%\n",
      "Test loss: 0.15270 | Test acc: 94.39 %\n",
      "\n",
      "Epoch: 14\n",
      "-------------\n",
      "Train loss: 0.19247 | Train acc: 91.89%\n",
      "Test loss: 0.15522 | Test acc: 94.51 %\n",
      "\n",
      "Epoch: 15\n",
      "-------------\n",
      "Train loss: 0.19151 | Train acc: 91.88%\n",
      "Test loss: 0.17125 | Test acc: 94.05 %\n",
      "\n",
      "Epoch: 16\n",
      "-------------\n",
      "Train loss: 0.19192 | Train acc: 92.00%\n",
      "Test loss: 0.18348 | Test acc: 93.79 %\n",
      "\n",
      "Epoch: 17\n",
      "-------------\n",
      "Train loss: 0.18576 | Train acc: 92.22%\n",
      "Test loss: 0.14048 | Test acc: 94.82 %\n",
      "\n",
      "Epoch: 18\n",
      "-------------\n",
      "Train loss: 0.18518 | Train acc: 92.22%\n",
      "Test loss: 0.14808 | Test acc: 95.05 %\n",
      "\n",
      "Epoch: 19\n",
      "-------------\n",
      "Train loss: 0.18840 | Train acc: 92.03%\n",
      "Test loss: 0.14961 | Test acc: 94.91 %\n",
      "\n",
      "Epoch: 20\n",
      "-------------\n",
      "Train loss: 0.18646 | Train acc: 92.39%\n",
      "Test loss: 0.13616 | Test acc: 95.00 %\n",
      "\n",
      "Epoch: 21\n",
      "-------------\n",
      "Train loss: 0.18567 | Train acc: 92.26%\n",
      "Test loss: 0.15060 | Test acc: 94.48 %\n",
      "\n",
      "Epoch: 22\n",
      "-------------\n",
      "Train loss: 0.18302 | Train acc: 92.28%\n",
      "Test loss: 0.14962 | Test acc: 94.74 %\n",
      "\n",
      "Epoch: 23\n",
      "-------------\n",
      "Train loss: 0.18292 | Train acc: 92.11%\n",
      "Test loss: 0.14322 | Test acc: 94.65 %\n",
      "\n",
      "Epoch: 24\n",
      "-------------\n",
      "Train loss: 0.18418 | Train acc: 92.33%\n",
      "Test loss: 0.14637 | Test acc: 95.02 %\n",
      "\n",
      "Time Consumtion: 75.53855739999995 sec\n"
     ]
    }
   ],
   "source": [
    "with profile(activities=[ProfilerActivity.CPU, ProfilerActivity.CUDA], profile_memory=True) as prof:\n",
    "    start_time = timer()\n",
    "    for epoch in tqdm(range(epochs)):\n",
    "        print(f\"Epoch: {epoch}\\n-------------\")\n",
    "\n",
    "        train_step(model=model,\n",
    "                   data_loader=train_dataloader, \n",
    "                   loss_fn=loss_fn,\n",
    "                   optimizer=optimizer,\n",
    "                   accuracy_fn=accuracy_fn,\n",
    "                   device=device)\n",
    "\n",
    "        test_step(model=model,\n",
    "                   data_loader=valid_dataloader, \n",
    "                   loss_fn=loss_fn,\n",
    "                   accuracy_fn=accuracy_fn,\n",
    "                   device=device)\n",
    "        scheduler.step()\n",
    "        prof.step()\n",
    "    end_time = timer()\n",
    "print(f'Time Consumtion: {end_time-start_time} sec')"
   ]
  },
  {
   "cell_type": "code",
   "execution_count": 22,
   "id": "c22e7936-4801-4412-a566-481d559cb7cd",
   "metadata": {
    "collapsed": true,
    "jupyter": {
     "outputs_hidden": true
    },
    "tags": []
   },
   "outputs": [
    {
     "name": "stdout",
     "output_type": "stream",
     "text": [
      "-------------------------------------------------------  ------------  ------------  ------------  ------------  ------------  ------------  ------------  ------------  ------------  ------------  ------------  ------------  \n",
      "                                                   Name    Self CPU %      Self CPU   CPU total %     CPU total  CPU time avg     Self CUDA   Self CUDA %    CUDA total  CUDA time avg       CPU Mem  Self CPU Mem    # of Calls  \n",
      "-------------------------------------------------------  ------------  ------------  ------------  ------------  ------------  ------------  ------------  ------------  ------------  ------------  ------------  ------------  \n",
      "                                            aten::empty         0.50%     355.782ms         0.50%     355.782ms       6.627us        2.007s         2.90%        2.007s      37.389us      55.31 Gb      55.31 Gb         53687  \n",
      "                                          aten::random_         0.00%     632.000us         0.00%     632.000us       8.427us     225.000us         0.00%     225.000us       3.000us           0 b           0 b            75  \n",
      "                                             aten::item         0.18%     127.140ms         0.20%     139.343ms       8.020us     394.068ms         0.57%     601.817ms      34.637us           0 b           0 b         17375  \n",
      "                              aten::_local_scalar_dense         0.02%      12.203ms         0.02%      12.203ms       0.702us     208.498ms         0.30%     208.498ms      12.000us           0 b           0 b         17375  \n",
      "                                               [memory]         0.00%       0.000us         0.00%       0.000us       0.000us       0.000us         0.00%       0.000us       0.000us     -25.59 Gb     -25.59 Gb         19296  \n",
      "                                            aten::zeros         0.09%      65.401ms         0.11%      75.966ms      18.757us      39.073ms         0.06%     440.485ms     108.762us      15.82 Kb         176 b          4050  \n",
      "                                            aten::zero_         0.02%      16.233ms         0.19%     132.388ms       6.632us        2.446s         3.54%        2.450s     122.735us           0 b           0 b         19962  \n",
      "enumerate(DataLoader)#_SingleProcessDataLoaderIter._...         8.17%        5.757s        16.20%       11.419s       8.156ms        1.943s         2.81%       29.513s      21.081ms      -5.47 Kb      -1.44 Gb          1400  \n",
      "                                         aten::randperm         0.04%      31.198ms         0.11%      74.909ms     749.090us       1.777ms         0.00%       3.498ms      34.980us       2.63 Mb        -400 b           100  \n",
      "                                    aten::scalar_tensor         0.00%     192.000us         0.00%     192.000us       3.840us     150.000us         0.00%     150.000us       3.000us         400 b         400 b            50  \n",
      "                                          aten::resize_         0.00%      27.000us         0.00%      27.000us       0.270us     319.000us         0.00%     319.000us       3.190us           0 b           0 b           100  \n",
      "                                     aten::resolve_conj         0.00%     457.000us         0.00%     457.000us       0.024us        1.788s         2.59%        1.788s      95.623us           0 b           0 b         18700  \n",
      "                                      aten::resolve_neg         0.00%       1.000us         0.00%       1.000us       0.020us     164.000us         0.00%     164.000us       3.280us           0 b           0 b            50  \n",
      "                                           aten::select         5.03%        3.542s         5.22%        3.679s       7.170us       22.250s        32.18%       23.842s      46.471us           0 b           0 b        513050  \n",
      "                                       aten::as_strided         0.28%     194.305ms         0.28%     194.305ms       0.348us        2.997s         4.33%        2.997s       5.365us           0 b           0 b        558500  \n",
      "                                            aten::stack         0.19%     135.690ms         2.34%        1.649s     610.556us     658.228ms         0.95%        2.132s     789.792us       1.44 Gb           0 b          2700  \n",
      "                                              aten::cat         2.07%        1.460s         2.14%        1.506s     557.595us      17.998ms         0.03%        1.466s     542.883us       1.44 Gb       1.44 Gb          2700  \n",
      "                                           aten::narrow         0.03%      19.778ms         0.06%      45.271ms      16.767us     942.729ms         1.36%        1.448s     536.217us           0 b           0 b          2700  \n",
      "                                            aten::slice         0.03%      21.963ms         0.04%      25.493ms       9.442us      16.929ms         0.02%     505.057ms     187.058us           0 b           0 b          2700  \n",
      "                                             aten::view         0.06%      44.047ms         0.06%      44.047ms       6.574us     323.968ms         0.47%     323.968ms      48.353us           0 b           0 b          6700  \n",
      "                                       aten::pin_memory         0.05%      35.039ms         0.40%     285.128ms     105.603us     877.098ms         1.27%        1.583s     586.158us           0 b           0 b          2700  \n",
      "                                        aten::is_pinned         0.07%      48.320ms         0.07%      48.320ms      17.896us       8.419ms         0.01%       8.419ms       3.118us           0 b           0 b          2700  \n",
      "                                      aten::_pin_memory         0.10%      68.968ms         0.29%     201.769ms      74.729us      25.964ms         0.04%     697.109ms     258.189us           0 b           0 b          2700  \n",
      "                                             aten::set_         0.01%       4.227ms         0.01%       4.227ms       1.566us     464.326ms         0.67%     464.326ms     171.973us           0 b           0 b          2700  \n",
      "                                            aten::copy_         0.48%     337.695ms         0.48%     337.695ms       3.218us     796.566ms         1.15%     796.566ms       7.592us           0 b           0 b        104925  \n",
      "                                               aten::to         0.88%     617.707ms         3.34%        2.354s      22.728us        1.389s         2.01%        6.487s      62.627us       2.33 Mb           0 b        103587  \n",
      "                                           aten::conv1d         0.04%      25.036ms        14.45%       10.186s       3.773ms      17.755ms         0.03%        2.019s     747.910us      15.20 Gb           0 b          2700  \n",
      "                                      aten::convolution         0.10%      72.644ms        14.42%       10.161s       3.763ms     322.090ms         0.47%        2.002s     741.334us      15.20 Gb           0 b          2700  \n",
      "                                     aten::_convolution         0.17%     117.224ms        14.31%       10.088s       3.736ms      48.148ms         0.07%        1.680s     622.042us      15.20 Gb           0 b          2700  \n",
      "                                        aten::unsqueeze         0.15%     107.813ms         0.18%     126.682ms       9.489us        1.514s         2.19%        1.555s     116.466us           0 b           0 b         13350  \n",
      "                               aten::mkldnn_convolution        13.96%        9.838s        14.03%        9.890s       3.663ms     669.856ms         0.97%     694.800ms     257.333us      15.20 Gb           0 b          2700  \n",
      "                                      aten::as_strided_         0.02%      15.072ms         0.02%      15.072ms       1.616us     265.214ms         0.38%     265.214ms      28.441us           0 b           0 b          9325  \n",
      "                                          aten::squeeze         0.08%      57.961ms         0.10%      67.745ms      10.149us     575.278ms         0.83%     595.950ms      89.281us           0 b           0 b          6675  \n",
      "                                             aten::add_         1.28%     905.280ms         2.37%        1.669s      24.714us        1.009s         1.46%        2.539s      37.593us       9.89 Kb    -114.33 Kb         67538  \n",
      "                                       aten::batch_norm         0.03%      22.228ms         5.63%        3.971s       1.471ms      17.866ms         0.03%        1.627s     602.600us      15.20 Gb           0 b          2700  \n",
      "                           aten::_batch_norm_impl_index         0.09%      64.743ms         5.60%        3.949s       1.463ms     394.883ms         0.57%        1.609s     595.983us      15.20 Gb           0 b          2700  \n",
      "                                aten::native_batch_norm         5.37%        3.787s         5.51%        3.880s       1.437ms      73.715ms         0.11%        1.206s     446.607us      15.20 Gb      -1.76 Mb          2700  \n",
      "                                       aten::empty_like         0.11%      75.145ms         0.28%     195.374ms      20.898us        1.393s         2.01%        1.422s     152.091us      35.30 Gb     260.14 Mb          9349  \n",
      "                                             aten::relu         0.13%      89.754ms         3.76%        2.653s     655.141us      25.512ms         0.04%     216.869ms      53.548us      15.26 Gb           0 b          4050  \n",
      "                                        aten::clamp_min         3.64%        2.564s         3.64%        2.564s     632.980us     191.357ms         0.28%     191.357ms      47.249us      15.26 Gb      15.26 Gb          4050  \n",
      "                                           aten::linear         0.06%      43.574ms         2.37%        1.667s     617.404us      28.358ms         0.04%        1.248s     462.236us      64.59 Mb           0 b          2700  \n",
      "                                                aten::t         0.18%     129.656ms         0.35%     249.872ms      18.787us     324.003ms         0.47%        3.075s     231.217us           0 b           0 b         13300  \n",
      "                                        aten::transpose         0.14%     101.729ms         0.17%     120.216ms       9.039us        2.590s         3.75%        2.751s     206.846us           0 b           0 b         13300  \n",
      "                                            aten::addmm         2.14%        1.506s         2.21%        1.561s     578.009us     656.662ms         0.95%     818.030ms     302.974us      64.59 Mb      64.59 Mb          2700  \n",
      "                                           aten::expand         0.05%      31.808ms         0.05%      35.729ms       8.877us      25.416ms         0.04%     335.312ms      83.307us           0 b           0 b          4025  \n",
      "                               aten::cross_entropy_loss         0.07%      49.948ms         0.42%     298.360ms     221.007us     527.702ms         0.76%        1.751s       1.297ms       1.34 Mb      -2.59 Mb          1350  \n",
      "                                      aten::log_softmax         0.03%      21.724ms         0.11%      77.388ms      57.324us     233.838ms         0.34%     242.248ms     179.443us       1.96 Mb           0 b          1350  \n",
      "                                     aten::_log_softmax         0.08%      54.505ms         0.08%      54.505ms      40.374us       4.233ms         0.01%       4.233ms       3.136us       1.96 Mb       1.96 Mb          1350  \n",
      "                                              aten::mul         0.04%      28.257ms         0.04%      28.257ms      10.563us     106.922ms         0.15%     106.922ms      39.971us       3.25 Mb       3.25 Mb          2675  \n",
      "                                              aten::sum         0.22%     153.572ms         0.29%     202.514ms      37.853us        1.331s         1.93%        2.096s     391.769us     357.42 Kb      -1.61 Mb          5350  \n",
      "                                            aten::fill_         0.18%     124.597ms         0.18%     124.597ms      15.573us     321.889ms         0.47%     321.889ms      40.231us           0 b           0 b          8001  \n",
      "                                              aten::neg         0.04%      25.375ms         0.04%      25.375ms       9.486us     111.455ms         0.16%     111.455ms      41.665us      10.45 Kb      10.45 Kb          2675  \n",
      "                                              aten::div         1.06%     749.153ms         1.76%        1.240s      66.743us     361.861ms         0.52%        2.391s     128.730us       2.54 Gb       2.54 Gb         18575  \n",
      "                                         aten::_to_copy         2.02%        1.421s         2.46%        1.737s      17.450us        3.929s         5.68%        5.098s      51.225us       2.33 Mb     150.34 Kb         99525  \n",
      "                                    aten::empty_strided         0.21%     146.664ms         0.21%     146.664ms       1.454us     592.407ms         0.86%     592.407ms       5.873us       6.12 Mb       6.12 Mb        100874  \n",
      "                                              aten::add         0.00%       1.133ms         0.00%       2.037ms      40.740us     332.000us         0.00%      59.089ms       1.182ms         208 b           8 b            50  \n",
      "                                           aten::argmax         0.07%      51.167ms         0.07%      52.385ms      19.402us      17.120ms         0.02%     276.105ms     102.261us       3.91 Mb       3.91 Mb          2700  \n",
      "                                               aten::eq         0.01%       8.920ms         0.01%       8.920ms       6.607us       4.199ms         0.01%       4.199ms       3.110us     250.51 Kb     250.51 Kb          1350  \n",
      "                    Optimizer.zero_grad#AdamW.zero_grad         0.30%     211.729ms         0.49%     345.089ms     260.445us      64.441ms         0.09%        2.468s       1.862ms      -5.18 Kb    -361.52 Kb          1325  \n",
      "                                        aten::ones_like         0.03%      18.762ms         0.05%      31.837ms      24.028us      13.524ms         0.02%     558.313ms     421.368us       5.18 Kb           0 b          1325  \n",
      "      autograd::engine::evaluate_function: DivBackward1         0.02%      14.737ms         0.15%     104.882ms      79.156us       8.858ms         0.01%        1.373s       1.036ms       5.18 Kb      -1.08 Kb          1325  \n",
      "                                           DivBackward1         0.04%      25.673ms         0.13%      90.145ms      68.034us     561.545ms         0.81%        1.364s       1.029ms       6.25 Kb       1.01 Kb          1325  \n",
      "                                       aten::lift_fresh         0.00%       2.361ms         0.00%       2.361ms       1.766us       4.099ms         0.01%       4.099ms       3.066us           0 b           0 b          1337  \n",
      "      autograd::engine::evaluate_function: NegBackward0         0.02%      12.898ms         0.04%      28.683ms      21.648us       8.606ms         0.01%     356.512ms     269.066us          88 b      -5.09 Kb          1325  \n",
      "                                           NegBackward0         0.01%       8.736ms         0.02%      15.785ms      11.913us     343.793ms         0.50%     347.906ms     262.571us       5.18 Kb           0 b          1325  \n",
      "      autograd::engine::evaluate_function: SumBackward0         0.01%       7.967ms         0.05%      33.650ms      25.396us       8.926ms         0.01%     629.065ms     474.766us           0 b           0 b          1325  \n",
      "                                           SumBackward0         0.01%       9.170ms         0.04%      25.683ms      19.383us     420.972ms         0.61%     620.139ms     468.029us           0 b           0 b          1325  \n",
      "      autograd::engine::evaluate_function: MulBackward0         0.02%      10.899ms         0.05%      37.024ms      27.943us       8.571ms         0.01%     330.677ms     249.568us       1.29 Mb      -5.18 Kb          1325  \n",
      "                                           MulBackward0         0.02%      15.975ms         0.04%      26.125ms      19.717us     317.958ms         0.46%     322.106ms     243.099us       1.29 Mb           0 b          1325  \n",
      "autograd::engine::evaluate_function: LogSoftmaxBackw...         0.02%      13.541ms         0.08%      56.838ms      42.897us       8.549ms         0.01%     398.153ms     300.493us      -1.27 Mb      -2.56 Mb          1325  \n",
      "                                    LogSoftmaxBackward0         0.02%      14.347ms         0.06%      43.297ms      32.677us     385.489ms         0.56%     389.604ms     294.041us       1.29 Mb           0 b          1325  \n",
      "                       aten::_log_softmax_backward_data         0.04%      28.950ms         0.04%      28.950ms      21.849us       4.115ms         0.01%       4.115ms       3.106us       1.29 Mb       1.29 Mb          1325  \n",
      "    autograd::engine::evaluate_function: AddmmBackward0         0.20%     141.339ms         4.57%        3.221s       1.215ms      36.585ms         0.05%        7.034s       2.654ms       7.52 Gb     -42.70 Mb          2650  \n",
      "                                         AddmmBackward0         0.18%     128.321ms         4.25%        2.997s       1.131ms        2.150s         3.11%        6.013s       2.269ms       7.56 Gb           0 b          2650  \n",
      "                                               aten::mm         3.87%        2.724s         3.87%        2.725s     514.088us      60.462ms         0.09%        1.832s     345.604us       7.56 Gb       7.56 Gb          5300  \n",
      "autograd::engine::evaluate_function: struct torch::a...         0.18%     123.930ms         1.29%     909.551ms      57.204us     102.141ms         0.15%        2.417s     152.004us      -2.54 Gb    -727.27 Kb         15900  \n",
      "                 struct torch::autograd::AccumulateGrad         0.76%     534.154ms         1.11%     785.621ms      49.410us        2.265s         3.28%        2.315s     145.580us      -2.54 Gb      -2.54 Gb         15900  \n",
      "                                           aten::detach         0.00%     308.000us         0.00%     349.000us      29.083us      72.000us         0.00%     108.000us       9.000us           0 b           0 b            12  \n",
      "                                                 detach         0.00%      41.000us         0.00%      41.000us       3.417us      36.000us         0.00%      36.000us       3.000us           0 b           0 b            12  \n",
      "        autograd::engine::evaluate_function: TBackward0         0.03%      19.985ms         0.12%      83.924ms      31.669us      17.788ms         0.03%        1.298s     489.709us           0 b           0 b          2650  \n",
      "                                             TBackward0         0.03%      21.304ms         0.09%      63.939ms      24.128us     637.943ms         0.92%        1.280s     482.996us           0 b           0 b          2650  \n",
      "     autograd::engine::evaluate_function: ReluBackward0         3.48%        2.450s        10.71%        7.549s       1.899ms      25.532ms         0.04%     789.676ms     198.661us     -10.09 Gb     -20.18 Gb          3975  \n",
      "                                          ReluBackward0         0.11%      79.056ms         7.23%        5.098s       1.283ms     751.844ms         1.09%     764.144ms     192.237us      10.09 Gb           0 b          3975  \n",
      "                               aten::threshold_backward         7.12%        5.019s         7.12%        5.019s       1.263ms      12.300ms         0.02%      12.300ms       3.094us      10.09 Gb      10.09 Gb          3975  \n",
      "     autograd::engine::evaluate_function: ViewBackward0         0.02%      12.244ms         0.08%      53.498ms      40.376us       8.758ms         0.01%     523.152ms     394.832us           0 b           0 b          1325  \n",
      "                                          ViewBackward0         0.02%      11.128ms         0.06%      41.254ms      31.135us     317.322ms         0.46%     514.394ms     388.222us           0 b           0 b          1325  \n",
      "                                          aten::reshape         0.03%      20.868ms         0.04%      30.126ms      22.737us       8.341ms         0.01%     197.072ms     148.734us           0 b           0 b          1325  \n",
      "                                   aten::_reshape_alias         0.01%       9.258ms         0.01%       9.258ms       6.987us     188.731ms         0.27%     188.731ms     142.438us           0 b           0 b          1325  \n",
      "autograd::engine::evaluate_function: NativeBatchNorm...         3.34%        2.356s         8.95%        6.305s       2.379ms      17.476ms         0.03%        1.534s     578.947us     -10.05 Gb     -20.10 Gb          2650  \n",
      "                               NativeBatchNormBackward0         0.09%      66.310ms         5.60%        3.948s       1.490ms     383.347ms         0.55%        1.517s     572.352us      10.05 Gb           0 b          2650  \n",
      "                       aten::native_batch_norm_backward         5.34%        3.763s         5.51%        3.882s       1.465ms      45.210ms         0.07%        1.133s     427.693us      10.05 Gb     -10.05 Gb          2650  \n",
      "autograd::engine::evaluate_function: ConvolutionBack...         1.66%        1.172s        17.23%       12.146s       4.583ms      17.264ms         0.02%        2.184s     824.294us      -4.98 Gb     -10.05 Gb          2650  \n",
      "                                   ConvolutionBackward0         0.04%      29.879ms        15.57%       10.973s       4.141ms     197.619ms         0.29%        2.167s     817.779us       5.07 Gb           0 b          2650  \n",
      "                             aten::convolution_backward        15.18%       10.695s        15.53%       10.943s       4.130ms     101.501ms         0.15%        1.969s     743.206us       5.07 Gb     126.75 Kb          2650  \n",
      "                              Optimizer.step#AdamW.step         4.18%        2.948s        12.85%        9.057s       6.836ms     640.104ms         0.93%        8.748s       6.602ms       3.92 Mb      -5.08 Gb          1325  \n",
      "                                          aten::detach_         0.00%      46.000us         0.00%      50.000us       4.167us      72.000us         0.00%     108.000us       9.000us           0 b           0 b            12  \n",
      "                                                detach_         0.00%       4.000us         0.00%       4.000us       0.333us      36.000us         0.00%      36.000us       3.000us           0 b           0 b            12  \n",
      "                                       aten::zeros_like         0.00%     860.000us         0.00%       2.507ms     104.458us       2.005ms         0.00%       2.302ms      95.917us       3.93 Mb           0 b            24  \n",
      "                                             aten::mul_         1.27%     897.033ms         2.77%        1.954s      40.973us        1.169s         1.69%        3.543s      74.286us      13.24 Kb    -173.09 Kb         47700  \n",
      "                                         aten::addcmul_         0.36%     251.994ms         0.36%     251.994ms      15.849us     178.024ms         0.26%     178.024ms      11.196us           0 b           0 b         15900  \n",
      "-------------------------------------------------------  ------------  ------------  ------------  ------------  ------------  ------------  ------------  ------------  ------------  ------------  ------------  ------------  \n",
      "Self CPU time total: 70.475s\n",
      "Self CUDA time total: 69.133s\n",
      "\n"
     ]
    }
   ],
   "source": [
    "res = prof.key_averages().table()\n",
    "print(res)"
   ]
  },
  {
   "cell_type": "code",
   "execution_count": 23,
   "id": "25096c78-7e2d-454d-8d1a-f5f91311213e",
   "metadata": {},
   "outputs": [],
   "source": [
    "df = results(res)\n",
    "df.to_csv('cnn_cpu.csv')"
   ]
  },
  {
   "cell_type": "markdown",
   "id": "b7a6a8e7-420d-4670-bfb3-1f5ae983056d",
   "metadata": {},
   "source": [
    "# Resource Consumtions of the Model"
   ]
  },
  {
   "cell_type": "code",
   "execution_count": 24,
   "id": "2bde1985-cd92-4237-8886-b1e4113c529d",
   "metadata": {},
   "outputs": [],
   "source": [
    "def count_parameters(model):\n",
    "    return sum(p.numel() for p in model.parameters() if p.requires_grad)"
   ]
  },
  {
   "cell_type": "code",
   "execution_count": 25,
   "id": "4b1badd5-6c91-4bef-a366-9262eb00098c",
   "metadata": {},
   "outputs": [
    {
     "data": {
      "text/plain": [
       "638850"
      ]
     },
     "execution_count": 25,
     "metadata": {},
     "output_type": "execute_result"
    }
   ],
   "source": [
    "count_parameters(model)"
   ]
  },
  {
   "cell_type": "code",
   "execution_count": 26,
   "id": "43ffdc2f-6bab-4f67-8010-47cb80828664",
   "metadata": {},
   "outputs": [
    {
     "name": "stdout",
     "output_type": "stream",
     "text": [
      "Time Consumtion: 1.0582348000000366 sec\n"
     ]
    }
   ],
   "source": [
    "device = 'cpu'\n",
    "model.to(device)\n",
    "\n",
    "with profile(activities=[ProfilerActivity.CPU, ProfilerActivity.CUDA], profile_memory=True) as prof:\n",
    "    with torch.inference_mode():\n",
    "        start_time = timer()\n",
    "        for X, y in valid_dataloader:\n",
    "            # Send the data to the target device\n",
    "            X, y = X.to(device), y.to(device)\n",
    "\n",
    "            test_pred = model(X)\n",
    "            \n",
    "        end_time = timer()\n",
    "print(f'Time Consumtion: {end_time-start_time} sec')"
   ]
  },
  {
   "cell_type": "code",
   "execution_count": 27,
   "id": "13afbb71-37ea-4d1b-8508-64e8f08c8ae8",
   "metadata": {
    "collapsed": true,
    "jupyter": {
     "outputs_hidden": true
    },
    "tags": []
   },
   "outputs": [
    {
     "name": "stdout",
     "output_type": "stream",
     "text": [
      "-------------------------------------------------------  ------------  ------------  ------------  ------------  ------------  ------------  ------------  ------------  ------------  ------------  ------------  ------------  \n",
      "                                                   Name    Self CPU %      Self CPU   CPU total %     CPU total  CPU time avg     Self CUDA   Self CUDA %    CUDA total  CUDA time avg       CPU Mem  Self CPU Mem    # of Calls  \n",
      "-------------------------------------------------------  ------------  ------------  ------------  ------------  ------------  ------------  ------------  ------------  ------------  ------------  ------------  ------------  \n",
      "                                            aten::empty         0.09%     896.000us         0.09%     896.000us      42.667us      89.000us         0.01%      89.000us       4.238us     421.89 Mb     421.89 Mb            21  \n",
      "                                          aten::random_         0.16%       1.517ms         0.16%       1.517ms       1.517ms       3.000us         0.00%       3.000us       3.000us           0 b           0 b             1  \n",
      "                                             aten::item         0.00%      29.000us         0.00%      35.000us      35.000us       6.000us         0.00%       9.000us       9.000us           0 b           0 b             1  \n",
      "                              aten::_local_scalar_dense         0.00%       6.000us         0.00%       6.000us       6.000us       3.000us         0.00%       3.000us       3.000us           0 b           0 b             1  \n",
      "                                               [memory]         0.00%       0.000us         0.00%       0.000us       0.000us       0.000us         0.00%       0.000us       0.000us    -634.54 Mb    -634.54 Mb             9  \n",
      "                                            aten::zeros         0.01%     111.000us         0.01%     133.000us      66.500us      19.000us         0.00%      31.000us      15.500us           8 b           0 b             2  \n",
      "                                            aten::zero_         0.00%       4.000us         0.00%       4.000us       2.000us       6.000us         0.00%       6.000us       3.000us           0 b           0 b             2  \n",
      "enumerate(DataLoader)#_SingleProcessDataLoaderIter._...        33.64%     325.310ms        73.36%     709.495ms     354.748ms      25.887ms         2.51%        1.032s     516.024ms          -8 b     -19.92 Mb             2  \n",
      "                                           aten::select        27.88%     269.608ms        28.01%     270.890ms      38.955us     984.406ms        95.34%        1.006s     144.665us           0 b           0 b          6954  \n",
      "                                       aten::as_strided         0.14%       1.335ms         0.14%       1.335ms       0.192us      21.660ms         2.10%      21.660ms       3.109us           0 b           0 b          6966  \n",
      "                                            aten::stack         0.12%       1.135ms        10.77%     104.199ms      52.099ms      19.000us         0.00%      68.000us      34.000us      19.92 Mb           0 b             2  \n",
      "                                              aten::cat        10.51%     101.624ms        10.61%     102.650ms      51.325ms      13.000us         0.00%      43.000us      21.500us      19.92 Mb      19.92 Mb             2  \n",
      "                                           aten::narrow         0.04%     416.000us         0.11%       1.026ms     513.000us      12.000us         0.00%      30.000us      15.000us           0 b           0 b             2  \n",
      "                                            aten::slice         0.06%     596.000us         0.06%     610.000us     305.000us      12.000us         0.00%      18.000us       9.000us           0 b           0 b             2  \n",
      "                                             aten::view         0.04%     421.000us         0.04%     421.000us     140.333us       9.000us         0.00%       9.000us       3.000us           0 b           0 b             3  \n",
      "                                       aten::pin_memory         0.03%     303.000us         0.91%       8.797ms       4.399ms      20.000us         0.00%      56.000us      28.000us           0 b           0 b             2  \n",
      "                                        aten::is_pinned         0.48%       4.596ms         0.48%       4.596ms       2.298ms       6.000us         0.00%       6.000us       3.000us           0 b           0 b             2  \n",
      "                                      aten::_pin_memory         0.18%       1.736ms         0.40%       3.898ms       1.949ms      18.000us         0.00%      30.000us      15.000us           0 b           0 b             2  \n",
      "                                             aten::set_         0.00%       8.000us         0.00%       8.000us       4.000us       6.000us         0.00%       6.000us       3.000us           0 b           0 b             2  \n",
      "                                            aten::copy_         0.28%       2.715ms         0.28%       2.715ms     678.750us      12.000us         0.00%      12.000us       3.000us           0 b           0 b             4  \n",
      "                                               aten::to         0.00%       5.000us         0.00%       5.000us       2.500us       6.000us         0.00%       6.000us       3.000us           0 b           0 b             2  \n",
      "                                           aten::conv1d         0.17%       1.610ms        15.70%     151.879ms      75.939ms      13.000us         0.00%     161.000us      80.500us     210.95 Mb           0 b             2  \n",
      "                                      aten::convolution         0.08%     781.000us        15.54%     150.269ms      75.135ms      14.000us         0.00%     148.000us      74.000us     210.95 Mb           0 b             2  \n",
      "                                     aten::_convolution         0.25%       2.453ms        15.46%     149.488ms      74.744ms      36.000us         0.00%     134.000us      67.000us     210.95 Mb           0 b             2  \n",
      "                                        aten::unsqueeze         0.06%     538.000us         0.06%     554.000us     138.500us      24.000us         0.00%      36.000us       9.000us           0 b           0 b             4  \n",
      "                               aten::mkldnn_convolution        15.13%     146.294ms        15.14%     146.373ms      73.186ms      26.000us         0.00%      44.000us      22.000us     210.95 Mb           0 b             2  \n",
      "                                      aten::as_strided_         0.00%      18.000us         0.00%      18.000us       9.000us       6.000us         0.00%       6.000us       3.000us           0 b           0 b             2  \n",
      "                                          aten::squeeze         0.01%      98.000us         0.01%     108.000us      54.000us      12.000us         0.00%      18.000us       9.000us           0 b           0 b             2  \n",
      "                                       aten::batch_norm         0.18%       1.739ms         3.78%      36.554ms      18.277ms      13.000us         0.00%     123.000us      61.500us     210.95 Mb           0 b             2  \n",
      "                           aten::_batch_norm_impl_index         0.40%       3.825ms         3.60%      34.815ms      17.407ms      19.000us         0.00%     110.000us      55.000us     210.95 Mb           0 b             2  \n",
      "                                aten::native_batch_norm         3.19%      30.808ms         3.20%      30.979ms      15.489ms      43.000us         0.00%      85.000us      42.500us     210.95 Mb        -768 b             2  \n",
      "                                       aten::empty_like         0.01%      75.000us         0.01%     108.000us      54.000us      12.000us         0.00%      18.000us       9.000us     210.95 Mb           0 b             2  \n",
      "                                             aten::relu         0.12%       1.186ms         3.45%      33.381ms      11.127ms      18.000us         0.00%      27.000us       9.000us     211.79 Mb           0 b             3  \n",
      "                                        aten::clamp_min         3.33%      32.195ms         3.33%      32.195ms      10.732ms       9.000us         0.00%       9.000us       3.000us     211.79 Mb     211.79 Mb             3  \n",
      "                                           aten::linear         0.05%     513.000us         3.48%      33.676ms      16.838ms      20.000us         0.00%     119.000us      59.500us     896.41 Kb           0 b             2  \n",
      "                                                aten::t         0.01%      97.000us         0.06%     576.000us     288.000us      12.000us         0.00%      30.000us      15.000us           0 b           0 b             2  \n",
      "                                        aten::transpose         0.05%     469.000us         0.05%     479.000us     239.500us      12.000us         0.00%      18.000us       9.000us           0 b           0 b             2  \n",
      "                                            aten::addmm         3.30%      31.917ms         3.37%      32.587ms      16.294ms      33.000us         0.00%      69.000us      34.500us     896.41 Kb     896.41 Kb             2  \n",
      "                                           aten::expand         0.01%     105.000us         0.01%     108.000us      54.000us      12.000us         0.00%      18.000us       9.000us           0 b           0 b             2  \n",
      "                                     aten::resolve_conj         0.00%       1.000us         0.00%       1.000us       0.250us      12.000us         0.00%      12.000us       3.000us           0 b           0 b             4  \n",
      "-------------------------------------------------------  ------------  ------------  ------------  ------------  ------------  ------------  ------------  ------------  ------------  ------------  ------------  ------------  \n",
      "Self CPU time total: 967.093ms\n",
      "Self CUDA time total: 1.033s\n",
      "\n"
     ]
    }
   ],
   "source": [
    "res = prof.key_averages().table()\n",
    "print(res)\n",
    "df = results(res)\n",
    "df.to_csv('run_test_cnn_cpu.csv')"
   ]
  },
  {
   "cell_type": "code",
   "execution_count": 28,
   "id": "26609d60-613a-4d02-abe1-74330faf39cc",
   "metadata": {},
   "outputs": [
    {
     "name": "stdout",
     "output_type": "stream",
     "text": [
      "Time Consumtion: 0.8329820000000154 sec\n"
     ]
    }
   ],
   "source": [
    "device = 'cuda'\n",
    "model.to(device)\n",
    "model.eval()\n",
    "with profile(activities=[ProfilerActivity.CPU, ProfilerActivity.CUDA], profile_memory=True) as prof:\n",
    "    with torch.inference_mode():\n",
    "        start_time = timer()\n",
    "        for X, y in valid_dataloader:\n",
    "            # Send the data to the target device\n",
    "            X, y = X.to(device), y.to(device)\n",
    "\n",
    "            test_pred = model(X)\n",
    "            \n",
    "        end_time = timer()\n",
    "print(f'Time Consumtion: {end_time-start_time} sec')"
   ]
  },
  {
   "cell_type": "code",
   "execution_count": 29,
   "id": "71772b1f-ada8-42ef-8edd-349dc1a1e710",
   "metadata": {
    "collapsed": true,
    "jupyter": {
     "outputs_hidden": true
    },
    "tags": []
   },
   "outputs": [
    {
     "name": "stdout",
     "output_type": "stream",
     "text": [
      "-------------------------------------------------------  ------------  ------------  ------------  ------------  ------------  ------------  ------------  ------------  ------------  ------------  ------------  ------------  ------------  ------------  \n",
      "                                                   Name    Self CPU %      Self CPU   CPU total %     CPU total  CPU time avg     Self CUDA   Self CUDA %    CUDA total  CUDA time avg       CPU Mem  Self CPU Mem      CUDA Mem  Self CUDA Mem    # of Calls  \n",
      "-------------------------------------------------------  ------------  ------------  ------------  ------------  ------------  ------------  ------------  ------------  ------------  ------------  ------------  ------------  ------------  ------------  \n",
      "                                            aten::empty         0.05%     385.000us         0.05%     385.000us      25.667us     154.000us         0.02%     154.000us      10.267us         592 b         592 b     318.00 Mb     318.00 Mb            15  \n",
      "                                          aten::random_         0.00%       6.000us         0.00%       6.000us       6.000us       2.000us         0.00%       2.000us       2.000us           0 b           0 b           0 b           0 b             1  \n",
      "                                             aten::item         0.00%      38.000us         0.00%      39.000us      39.000us       5.000us         0.00%       8.000us       8.000us           0 b           0 b           0 b           0 b             1  \n",
      "                              aten::_local_scalar_dense         0.00%       1.000us         0.00%       1.000us       1.000us       3.000us         0.00%       3.000us       3.000us           0 b           0 b           0 b           0 b             1  \n",
      "                                               [memory]         0.00%       0.000us         0.00%       0.000us       0.000us       0.000us         0.00%       0.000us       0.000us     -27.17 Kb     -27.17 Kb    -637.70 Mb    -637.70 Mb            10  \n",
      "                                            aten::zeros         0.02%     170.000us         0.02%     178.000us      89.000us      19.000us         0.00%      29.000us      14.500us           8 b           0 b           0 b           0 b             2  \n",
      "                                            aten::zero_         0.00%       2.000us         0.00%       2.000us       1.000us       4.000us         0.00%       4.000us       2.000us           0 b           0 b           0 b           0 b             2  \n",
      "enumerate(DataLoader)#_SingleProcessDataLoaderIter._...        36.35%     301.625ms        77.64%     644.273ms     322.137ms      22.315ms         2.20%     636.171ms     318.086ms          -8 b     -19.92 Mb           0 b           0 b             2  \n",
      "                                           aten::select        37.70%     312.857ms        37.98%     315.129ms      45.316us     593.593ms        58.60%     613.736ms      88.257us           0 b           0 b           0 b           0 b          6954  \n",
      "                                       aten::as_strided         0.33%       2.723ms         0.33%       2.723ms       0.391us      20.178ms         1.99%      20.178ms       2.897us           0 b           0 b           0 b           0 b          6966  \n",
      "                                            aten::stack         0.10%     792.000us         1.08%       8.925ms       4.463ms      17.000us         0.00%      62.000us      31.000us      19.92 Mb           0 b           0 b           0 b             2  \n",
      "                                              aten::cat         0.95%       7.909ms         0.98%       8.125ms       4.062ms      12.000us         0.00%      39.000us      19.500us      19.92 Mb      19.92 Mb           0 b           0 b             2  \n",
      "                                           aten::narrow         0.01%      96.000us         0.03%     216.000us     108.000us       9.000us         0.00%      27.000us      13.500us           0 b           0 b           0 b           0 b             2  \n",
      "                                            aten::slice         0.01%     117.000us         0.01%     120.000us      60.000us      12.000us         0.00%      18.000us       9.000us           0 b           0 b           0 b           0 b             2  \n",
      "                                             aten::view         0.04%     292.000us         0.04%     292.000us      58.400us      14.000us         0.00%      14.000us       2.800us           0 b           0 b           0 b           0 b             5  \n",
      "                                       aten::pin_memory         0.03%     235.000us         2.24%      18.574ms       9.287ms      18.000us         0.00%      52.000us      26.000us           0 b           0 b           0 b           0 b             2  \n",
      "                                        aten::is_pinned         0.01%      45.000us         0.01%      45.000us      22.500us       6.000us         0.00%       6.000us       3.000us           0 b           0 b           0 b           0 b             2  \n",
      "                                      aten::_pin_memory         1.94%      16.073ms         2.20%      18.294ms       9.147ms      16.000us         0.00%      28.000us      14.000us           0 b           0 b           0 b           0 b             2  \n",
      "                                             aten::set_         0.00%      16.000us         0.00%      16.000us       8.000us       6.000us         0.00%       6.000us       3.000us           0 b           0 b           0 b           0 b             2  \n",
      "                                            aten::copy_         2.24%      18.594ms         2.24%      18.594ms       4.649ms     141.616ms        13.98%     141.616ms      35.404ms           0 b           0 b           0 b           0 b             4  \n",
      "                                               aten::to         0.02%     163.000us         2.07%      17.175ms       8.588ms      12.000us         0.00%     141.752ms      70.876ms           0 b           0 b      20.03 Mb           0 b             2  \n",
      "                                         aten::_to_copy         0.07%     588.000us         2.05%      17.012ms       8.506ms     124.000us         0.01%     141.740ms      70.870ms           0 b           0 b      20.03 Mb           0 b             2  \n",
      "                                    aten::empty_strided         0.00%      35.000us         0.00%      35.000us      17.500us       6.000us         0.00%       6.000us       3.000us           0 b           0 b      20.03 Mb      20.03 Mb             2  \n",
      "                                           aten::conv1d         0.01%      90.000us        13.75%     114.096ms      57.048ms      12.000us         0.00%     115.438ms      57.719ms           0 b           0 b     212.00 Mb           0 b             2  \n",
      "                                      aten::convolution         0.01%      88.000us        13.74%     114.006ms      57.003ms      11.000us         0.00%     115.426ms      57.713ms           0 b           0 b     212.00 Mb           0 b             2  \n",
      "                                     aten::_convolution         0.26%       2.197ms        13.73%     113.918ms      56.959ms      42.000us         0.00%     115.415ms      57.708ms           0 b           0 b     212.00 Mb           0 b             2  \n",
      "                                        aten::unsqueeze         0.03%     229.000us         0.08%     654.000us     163.500us      24.000us         0.00%      36.000us       9.000us           0 b           0 b           0 b           0 b             4  \n",
      "                                aten::cudnn_convolution        12.22%     101.434ms        12.25%     101.683ms      50.842ms      67.326ms         6.65%      67.332ms      33.666ms           0 b           0 b     212.00 Mb     106.00 Mb             2  \n",
      "                                          aten::reshape         0.02%     140.000us         0.02%     167.000us      83.500us      12.000us         0.00%      18.000us       9.000us           0 b           0 b           0 b           0 b             2  \n",
      "                                   aten::_reshape_alias         0.00%      27.000us         0.00%      27.000us      13.500us       6.000us         0.00%       6.000us       3.000us           0 b           0 b           0 b           0 b             2  \n",
      "                                             aten::add_         1.10%       9.114ms         1.10%       9.114ms       4.557ms      47.970ms         4.74%      47.970ms      23.985ms           0 b           0 b           0 b           0 b             2  \n",
      "                                          aten::squeeze         0.01%      94.000us         0.01%     103.000us      51.500us      12.000us         0.00%      17.000us       8.500us           0 b           0 b           0 b           0 b             2  \n",
      "                                       aten::batch_norm         0.02%     187.000us         0.67%       5.527ms       2.764ms      11.000us         0.00%      51.441ms      25.721ms           0 b           0 b     212.00 Mb           0 b             2  \n",
      "                           aten::_batch_norm_impl_index         0.11%     877.000us         0.64%       5.340ms       2.670ms      12.000us         0.00%      51.430ms      25.715ms           0 b           0 b     212.00 Mb           0 b             2  \n",
      "                                 aten::cudnn_batch_norm         0.49%       4.040ms         0.54%       4.463ms       2.232ms      51.292ms         5.06%      51.418ms      25.709ms           0 b           0 b     212.00 Mb           0 b             2  \n",
      "                                       aten::empty_like         0.01%     100.000us         0.02%     132.000us      66.000us      12.000us         0.00%      17.000us       8.500us           0 b           0 b     212.00 Mb           0 b             2  \n",
      "                                             aten::relu         0.03%     269.000us         0.72%       5.996ms       1.999ms      17.000us         0.00%      48.735ms      16.245ms           0 b           0 b     212.85 Mb           0 b             3  \n",
      "                                        aten::clamp_min         0.69%       5.727ms         0.69%       5.727ms       1.909ms      48.718ms         4.81%      48.718ms      16.239ms           0 b           0 b     212.85 Mb     212.85 Mb             3  \n",
      "                                           aten::linear         0.08%     643.000us         5.11%      42.432ms      21.216ms      17.000us         0.00%      19.291ms       9.646ms           0 b           0 b     897.00 Kb           0 b             2  \n",
      "                                                aten::t         0.01%      84.000us         0.02%     176.000us      88.000us      11.000us         0.00%      28.000us      14.000us           0 b           0 b           0 b           0 b             2  \n",
      "                                        aten::transpose         0.01%      87.000us         0.01%      92.000us      46.000us      11.000us         0.00%      17.000us       8.500us           0 b           0 b           0 b           0 b             2  \n",
      "                                            aten::addmm         5.00%      41.511ms         5.01%      41.613ms      20.806ms      19.229ms         1.90%      19.246ms       9.623ms           0 b           0 b     897.00 Kb     897.00 Kb             2  \n",
      "                                           aten::expand         0.01%      93.000us         0.01%     102.000us      51.000us      11.000us         0.00%      17.000us       8.500us           0 b           0 b           0 b           0 b             2  \n",
      "-------------------------------------------------------  ------------  ------------  ------------  ------------  ------------  ------------  ------------  ------------  ------------  ------------  ------------  ------------  ------------  ------------  \n",
      "Self CPU time total: 829.793ms\n",
      "Self CUDA time total: 1.013s\n",
      "\n"
     ]
    }
   ],
   "source": [
    "res = prof.key_averages().table()\n",
    "print(res)\n",
    "df = results(res)\n",
    "df.to_csv('run_test_cnn_gpu.csv')"
   ]
  },
  {
   "cell_type": "code",
   "execution_count": 30,
   "id": "6b49aeae-e9e9-4911-a017-1e19e1dec41c",
   "metadata": {},
   "outputs": [],
   "source": [
    "from sklearn.metrics import precision_recall_fscore_support\n",
    "from sklearn.metrics import confusion_matrix\n",
    "import numpy as np\n",
    "import seaborn as sns\n",
    "import matplotlib.pyplot as plt"
   ]
  },
  {
   "cell_type": "code",
   "execution_count": 31,
   "id": "98e54d33-1d62-451d-aaa9-1ec1534f3337",
   "metadata": {},
   "outputs": [
    {
     "data": {
      "text/plain": [
       "(array([0.9703125 , 0.89422028]),\n",
       " array([0.96241767, 0.91517857]),\n",
       " array([0.96634896, 0.90457805]),\n",
       " array([2581,  896], dtype=int64))"
      ]
     },
     "execution_count": 31,
     "metadata": {},
     "output_type": "execute_result"
    }
   ],
   "source": [
    "y_pred = test_pred.argmax(dim=1).cpu().numpy()\n",
    "y_true = y.argmax(dim=1).cpu().numpy()\n",
    "precision_recall_fscore_support(y_true, y_pred)"
   ]
  },
  {
   "cell_type": "code",
   "execution_count": 32,
   "id": "06fb82fe-88e5-4e80-b7d2-2ecec471f18d",
   "metadata": {},
   "outputs": [],
   "source": [
    "cf_matrix = confusion_matrix(y_true, y_pred)"
   ]
  },
  {
   "cell_type": "code",
   "execution_count": 33,
   "id": "b0238191-59f7-4651-a862-11763789619d",
   "metadata": {},
   "outputs": [
    {
     "data": {
      "image/png": "[encoded data removed]",
      "text/plain": [
       "<Figure size 640x480 with 2 Axes>"
      ]
     },
     "metadata": {},
     "output_type": "display_data"
    }
   ],
   "source": [
    "group_names = ['True Neg','False Pos','False Neg','True Pos']\n",
    "group_counts = [\"{0:0.0f}\".format(value) for value in cf_matrix.flatten()]\n",
    "labels = [f\"{v1}\\n{v2}\" for v1, v2 in zip(group_names, group_counts)]\n",
    "labels = np.asarray(labels).reshape(2,2)\n",
    "\n",
    "categories = [\"weak\", \"strong\"]\n",
    "sns.heatmap(cf_matrix, annot=labels, fmt='', cmap='Blues',xticklabels=categories, yticklabels=categories)\n",
    "plt.savefig('cf_mat_cnn.png')"
   ]
  },
  {
   "cell_type": "code",
   "execution_count": null,
   "id": "f41f596c-0e64-4572-81a4-a32d44231c3f",
   "metadata": {},
   "outputs": [],
   "source": []
  }
 ],
 "metadata": {
  "kernelspec": {
   "display_name": "AIML",
   "language": "python",
   "name": "aiml"
  },
  "language_info": {
   "codemirror_mode": {
    "name": "ipython",
    "version": 3
   },
   "file_extension": ".py",
   "mimetype": "text/x-python",
   "name": "python",
   "nbconvert_exporter": "python",
   "pygments_lexer": "ipython3",
   "version": "3.8.12"
  }
 },
 "nbformat": 4,
 "nbformat_minor": 5
}
