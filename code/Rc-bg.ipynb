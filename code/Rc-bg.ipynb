{
 "cells": [
  {
   "cell_type": "code",
   "execution_count": 1,
   "id": "4ff1c449-a8ec-4714-a6f7-cf1e1d90e7ff",
   "metadata": {},
   "outputs": [],
   "source": [
    "import numpy as np\n",
    "import torch\n",
    "import torch.nn as nn\n",
    "import torch.nn.functional as F\n",
    "from torch.optim import AdamW, Adam, SGD\n",
    "from torch.optim.lr_scheduler import LambdaLR\n",
    "from torch.utils.data import Dataset, DataLoader\n",
    "\n",
    "from torch.autograd import Variable\n",
    "import time\n",
    "from scipy import sparse\n",
    "import joblib"
   ]
  },
  {
   "cell_type": "code",
   "execution_count": 2,
   "id": "129da0a4-e972-499b-ade3-2b060a5bb3ff",
   "metadata": {},
   "outputs": [],
   "source": [
    "import pandas as pd\n",
    "from tqdm.auto import tqdm\n",
    "\n",
    "from timeit import default_timer as timer\n",
    "from torch.profiler import profile, record_function, ProfilerActivity"
   ]
  },
  {
   "cell_type": "code",
   "execution_count": 3,
   "id": "70c17dfc-60e2-496c-adfa-4a7037f9bd2b",
   "metadata": {},
   "outputs": [
    {
     "data": {
      "text/plain": [
       "'cuda'"
      ]
     },
     "execution_count": 3,
     "metadata": {},
     "output_type": "execute_result"
    }
   ],
   "source": [
    "# Check device\n",
    "device = \"cuda\" if torch.cuda.is_available() else \"cpu\"\n",
    "device"
   ]
  },
  {
   "cell_type": "markdown",
   "id": "d07aa200-44ed-4c17-997d-4fcc1fda74c8",
   "metadata": {},
   "source": [
    "# Utils Function"
   ]
  },
  {
   "cell_type": "code",
   "execution_count": 4,
   "id": "1be568cb-17de-46be-aa74-cd58c6eefd19",
   "metadata": {},
   "outputs": [],
   "source": [
    "def print_train_time(start:float, end:float, device: torch.device = None):\n",
    "    \"\"\"print difference between start and end time\"\"\"\n",
    "    total_time = end - start\n",
    "    print(f\"Train time on {device}: {total_time:.3f} seconds\")\n",
    "    return total_time"
   ]
  },
  {
   "cell_type": "code",
   "execution_count": 5,
   "id": "a585967b-6aea-46e8-9cc7-2ade2d6169c0",
   "metadata": {},
   "outputs": [],
   "source": [
    "def accuracy_fn(y_true, y_pred):\n",
    "    correct = torch.eq(y_true, y_pred).sum().item()\n",
    "    acc = (correct / len(y_pred)) * 100\n",
    "    return acc"
   ]
  },
  {
   "cell_type": "code",
   "execution_count": 6,
   "id": "4dd26cfb-c837-48cc-9cff-079bc4394fb9",
   "metadata": {},
   "outputs": [],
   "source": [
    "def results(res: str):\n",
    "    res_lst = res.split('\\n')\n",
    "\n",
    "    data = []\n",
    "    for row in res_lst[3:-4]:\n",
    "        row_split = [sp.strip() for sp in row[57:].split('  ') if sp != '']\n",
    "        data.append(row_split)\n",
    "\n",
    "    index = [l[:57].strip() for l in res_lst[3:-4]]\n",
    "\n",
    "    head = [c.strip() for c in res_lst[1].strip().split('  ') if c != '']\n",
    "\n",
    "    df = pd.DataFrame(data, columns=None)\n",
    "    df.columns = head[1:]\n",
    "    df.index = index\n",
    "\n",
    "    return df"
   ]
  },
  {
   "cell_type": "markdown",
   "id": "714f478a-fc12-43bd-9234-75de53a3daba",
   "metadata": {},
   "source": [
    "# Data"
   ]
  },
  {
   "cell_type": "code",
   "execution_count": 7,
   "id": "29aff02b-3c39-4aad-b42a-abde4c6724a1",
   "metadata": {},
   "outputs": [],
   "source": [
    "import joblib\n",
    "from torch.utils import data"
   ]
  },
  {
   "cell_type": "code",
   "execution_count": 8,
   "id": "961613b9-6f44-4281-8140-dd2dc4b15660",
   "metadata": {},
   "outputs": [],
   "source": [
    "train_data = 'train.jb'\n",
    "valid_data = 'test.jb'"
   ]
  },
  {
   "cell_type": "code",
   "execution_count": 9,
   "id": "48dae27d-431a-4382-aa3f-72bcc3e24c57",
   "metadata": {},
   "outputs": [],
   "source": [
    "n_workers = 0\n",
    "valid_steps = 1\n",
    "save_steps = 50\n",
    "epochs = 25\n",
    "\n",
    "lr = 0.001\n",
    "batch_size = 128"
   ]
  },
  {
   "cell_type": "code",
   "execution_count": 10,
   "id": "f8c20808-d214-4158-a804-5d74e3157d03",
   "metadata": {},
   "outputs": [],
   "source": [
    "train_x, train_y = joblib.load(train_data)\n",
    "val_x, val_y = joblib.load(valid_data)\n",
    "\n",
    "train_x = np.swapaxes(train_x, 1 , 2)\n",
    "val_x = np.swapaxes(val_x, 1 , 2)\n",
    "\n",
    "\n",
    "train_y, val_y = pd.get_dummies(train_y).values, pd.get_dummies(val_y).values\n",
    "\n",
    "train_set = data.TensorDataset(torch.Tensor(train_x), torch.Tensor(train_y))\n",
    "valid_set = data.TensorDataset(torch.Tensor(val_x), torch.Tensor(val_y))"
   ]
  },
  {
   "cell_type": "code",
   "execution_count": 11,
   "id": "e2f01af8-d4f7-41df-afe8-885cb365fa6a",
   "metadata": {},
   "outputs": [],
   "source": [
    "train_dataloader = DataLoader(\n",
    "    train_set,\n",
    "    batch_size=batch_size,\n",
    "    shuffle=True,\n",
    "    drop_last=True,\n",
    "    num_workers=n_workers,\n",
    "    pin_memory=True\n",
    "  )\n",
    "\n",
    "val_dataloader = DataLoader(\n",
    "    valid_set,\n",
    "    batch_size=len(valid_set),\n",
    "    num_workers=n_workers,\n",
    "    drop_last=True,\n",
    "    pin_memory=True\n",
    "  )"
   ]
  },
  {
   "cell_type": "markdown",
   "id": "0eb24e82-7522-49dc-bade-9d0e86236658",
   "metadata": {},
   "source": [
    "# Experiament"
   ]
  },
  {
   "cell_type": "code",
   "execution_count": 12,
   "id": "d5bd1ef3-95bf-4259-ba8e-01f91e3b3e90",
   "metadata": {},
   "outputs": [],
   "source": [
    "from model import RCModel\n",
    "from training_function import train_step, test_step, accuracy_fn"
   ]
  },
  {
   "cell_type": "code",
   "execution_count": 13,
   "id": "8662dc25-533d-429d-8b96-1f4514d248a5",
   "metadata": {},
   "outputs": [],
   "source": [
    "device = 'cpu'"
   ]
  },
  {
   "cell_type": "code",
   "execution_count": 14,
   "id": "152d311a-7bfb-40dd-ad24-f4cabd72104d",
   "metadata": {},
   "outputs": [
    {
     "data": {
      "text/plain": [
       "device(type='cpu')"
      ]
     },
     "execution_count": 14,
     "metadata": {},
     "output_type": "execute_result"
    }
   ],
   "source": [
    "torch.manual_seed(42)\n",
    "model = RCModel(n=20).to(device)\n",
    "next(model.parameters()).device"
   ]
  },
  {
   "cell_type": "markdown",
   "id": "f2b73a7e-e412-4432-8732-5a8dcab39e1b",
   "metadata": {},
   "source": [
    "### Freezing layers"
   ]
  },
  {
   "cell_type": "code",
   "execution_count": 15,
   "id": "902dca1d-00e6-4e1f-90d1-0187c5a6dfa2",
   "metadata": {},
   "outputs": [
    {
     "data": {
      "text/plain": [
       "odict_keys(['L1.internal_weights', 'L1._input_weights', 'lin_output.weight'])"
      ]
     },
     "execution_count": 15,
     "metadata": {},
     "output_type": "execute_result"
    }
   ],
   "source": [
    "params = model.state_dict()\n",
    "params.keys()"
   ]
  },
  {
   "cell_type": "code",
   "execution_count": 16,
   "id": "b3b89f79-2b9b-470e-93ee-9f94ba0a8a59",
   "metadata": {
    "tags": []
   },
   "outputs": [],
   "source": [
    "for name, param in model.named_parameters():  \n",
    "    if param.requires_grad and 'lin_output' not in name:  \n",
    "        param.requires_grad = False"
   ]
  },
  {
   "cell_type": "code",
   "execution_count": 17,
   "id": "9784d02f-e48b-4534-ac80-2fafe438d09d",
   "metadata": {},
   "outputs": [],
   "source": [
    "optimizer = AdamW(model.parameters(), lr=lr)\n",
    "scheduler = LambdaLR(optimizer=optimizer, lr_lambda=lambda epoch:0.9**epoch)\n",
    "loss_fn = nn.CrossEntropyLoss()"
   ]
  },
  {
   "cell_type": "code",
   "execution_count": 18,
   "id": "badb6adb-5eea-4db5-879d-40f9788a75fa",
   "metadata": {
    "tags": []
   },
   "outputs": [
    {
     "data": {
      "application/vnd.jupyter.widget-view+json": {
       "model_id": "ebf6c8f6095d4c35a70c235b3df4f009",
       "version_major": 2,
       "version_minor": 0
      },
      "text/plain": [
       "  0%|          | 0/25 [00:00<?, ?it/s]"
      ]
     },
     "metadata": {},
     "output_type": "display_data"
    },
    {
     "name": "stdout",
     "output_type": "stream",
     "text": [
      "Epoch: 0\n",
      "-------------\n",
      "Train loss: 0.58033 | Train acc: 79.63%\n",
      "Test loss: 0.43356 | Test acc: 89.53 %\n",
      "\n",
      "Epoch: 1\n",
      "-------------\n",
      "Train loss: 0.46131 | Train acc: 81.84%\n",
      "Test loss: 0.34459 | Test acc: 89.85 %\n",
      "\n",
      "Epoch: 2\n",
      "-------------\n",
      "Train loss: 0.41291 | Train acc: 83.00%\n",
      "Test loss: 0.30668 | Test acc: 90.19 %\n",
      "\n",
      "Epoch: 3\n",
      "-------------\n",
      "Train loss: 0.38672 | Train acc: 84.01%\n",
      "Test loss: 0.28314 | Test acc: 90.57 %\n",
      "\n",
      "Epoch: 4\n",
      "-------------\n",
      "Train loss: 0.36955 | Train acc: 84.82%\n",
      "Test loss: 0.27135 | Test acc: 90.68 %\n",
      "\n",
      "Epoch: 5\n",
      "-------------\n",
      "Train loss: 0.35681 | Train acc: 85.45%\n",
      "Test loss: 0.25842 | Test acc: 91.20 %\n",
      "\n",
      "Epoch: 6\n",
      "-------------\n",
      "Train loss: 0.34669 | Train acc: 85.75%\n",
      "Test loss: 0.25088 | Test acc: 91.66 %\n",
      "\n",
      "Epoch: 7\n",
      "-------------\n",
      "Train loss: 0.33773 | Train acc: 86.32%\n",
      "Test loss: 0.24515 | Test acc: 91.46 %\n",
      "\n",
      "Epoch: 8\n",
      "-------------\n",
      "Train loss: 0.33251 | Train acc: 86.66%\n",
      "Test loss: 0.24188 | Test acc: 91.17 %\n",
      "\n",
      "Epoch: 9\n",
      "-------------\n",
      "Train loss: 0.32518 | Train acc: 87.03%\n",
      "Test loss: 0.23531 | Test acc: 91.89 %\n",
      "\n",
      "Epoch: 10\n",
      "-------------\n",
      "Train loss: 0.32165 | Train acc: 87.10%\n",
      "Test loss: 0.23336 | Test acc: 91.40 %\n",
      "\n",
      "Epoch: 11\n",
      "-------------\n",
      "Train loss: 0.31822 | Train acc: 87.38%\n",
      "Test loss: 0.22930 | Test acc: 91.72 %\n",
      "\n",
      "Epoch: 12\n",
      "-------------\n",
      "Train loss: 0.31521 | Train acc: 87.88%\n",
      "Test loss: 0.22899 | Test acc: 91.86 %\n",
      "\n",
      "Epoch: 13\n",
      "-------------\n",
      "Train loss: 0.31126 | Train acc: 87.87%\n",
      "Test loss: 0.22647 | Test acc: 92.06 %\n",
      "\n",
      "Epoch: 14\n",
      "-------------\n",
      "Train loss: 0.30869 | Train acc: 87.81%\n",
      "Test loss: 0.22462 | Test acc: 91.98 %\n",
      "\n",
      "Epoch: 15\n",
      "-------------\n",
      "Train loss: 0.30693 | Train acc: 87.88%\n",
      "Test loss: 0.22179 | Test acc: 92.12 %\n",
      "\n",
      "Epoch: 16\n",
      "-------------\n",
      "Train loss: 0.30462 | Train acc: 88.03%\n",
      "Test loss: 0.22229 | Test acc: 92.00 %\n",
      "\n",
      "Epoch: 17\n",
      "-------------\n",
      "Train loss: 0.30276 | Train acc: 88.24%\n",
      "Test loss: 0.21962 | Test acc: 91.95 %\n",
      "\n",
      "Epoch: 18\n",
      "-------------\n",
      "Train loss: 0.30086 | Train acc: 88.35%\n",
      "Test loss: 0.22025 | Test acc: 92.12 %\n",
      "\n",
      "Epoch: 19\n",
      "-------------\n",
      "Train loss: 0.30052 | Train acc: 88.34%\n",
      "Test loss: 0.21866 | Test acc: 92.12 %\n",
      "\n",
      "Epoch: 20\n",
      "-------------\n",
      "Train loss: 0.29896 | Train acc: 88.50%\n",
      "Test loss: 0.21625 | Test acc: 92.18 %\n",
      "\n",
      "Epoch: 21\n",
      "-------------\n",
      "Train loss: 0.29771 | Train acc: 88.53%\n",
      "Test loss: 0.21589 | Test acc: 92.15 %\n",
      "\n",
      "Epoch: 22\n",
      "-------------\n",
      "Train loss: 0.29672 | Train acc: 88.55%\n",
      "Test loss: 0.21652 | Test acc: 92.21 %\n",
      "\n",
      "Epoch: 23\n",
      "-------------\n",
      "Train loss: 0.29579 | Train acc: 88.43%\n",
      "Test loss: 0.21531 | Test acc: 92.12 %\n",
      "\n",
      "Epoch: 24\n",
      "-------------\n",
      "Train loss: 0.29431 | Train acc: 88.74%\n",
      "Test loss: 0.21424 | Test acc: 92.18 %\n",
      "\n",
      "Time Consumtion: 100.56135230000001 sec\n"
     ]
    }
   ],
   "source": [
    "start_time = timer()\n",
    "for epoch in tqdm(range(epochs)):\n",
    "    print(f\"Epoch: {epoch}\\n-------------\")\n",
    "\n",
    "    train_step(model=model,\n",
    "               data_loader=train_dataloader, \n",
    "               loss_fn=loss_fn,\n",
    "               optimizer=optimizer,\n",
    "               accuracy_fn=accuracy_fn,\n",
    "               device=device)\n",
    "\n",
    "    test_step(model=model,\n",
    "               data_loader=val_dataloader, \n",
    "               loss_fn=loss_fn,\n",
    "               accuracy_fn=accuracy_fn,\n",
    "               device=device)\n",
    "    scheduler.step()\n",
    "end_time = timer()\n",
    "print(f'Time Consumtion: {end_time-start_time} sec')"
   ]
  },
  {
   "cell_type": "markdown",
   "id": "987a0c40-0d53-4065-941c-72c67c8acc6c",
   "metadata": {},
   "source": [
    "# Resource Consumtions of the Model"
   ]
  },
  {
   "cell_type": "code",
   "execution_count": 19,
   "id": "7e3337ba-dbad-45e9-be78-7970d0aa92c1",
   "metadata": {},
   "outputs": [],
   "source": [
    "def count_parameters(model):\n",
    "    return sum(p.numel() for p in model.parameters() if p.requires_grad)"
   ]
  },
  {
   "cell_type": "code",
   "execution_count": 20,
   "id": "c0620814-3e1f-470e-bdf1-1522fc97c529",
   "metadata": {},
   "outputs": [
    {
     "data": {
      "text/plain": [
       "882"
      ]
     },
     "execution_count": 20,
     "metadata": {},
     "output_type": "execute_result"
    }
   ],
   "source": [
    "count_parameters(model)"
   ]
  },
  {
   "cell_type": "code",
   "execution_count": 21,
   "id": "122f085e-ee89-4416-95ce-09a3f63f825e",
   "metadata": {},
   "outputs": [],
   "source": [
    "device = 'cpu'\n",
    "model.to(device)\n",
    "\n",
    "with torch.inference_mode():\n",
    "    for X, y in val_dataloader:\n",
    "        # Send the data to the target device\n",
    "        X, y = X.to(device), y.to(device)\n",
    "\n",
    "        test_pred = model(X)"
   ]
  },
  {
   "cell_type": "code",
   "execution_count": 22,
   "id": "646e3bc1-5667-4f01-9fe6-65e9c8fa143f",
   "metadata": {},
   "outputs": [],
   "source": [
    "from sklearn.metrics import precision_recall_fscore_support\n",
    "from sklearn.metrics import confusion_matrix\n",
    "import numpy as np\n",
    "import seaborn as sns\n",
    "import matplotlib.pyplot as plt"
   ]
  },
  {
   "cell_type": "code",
   "execution_count": 23,
   "id": "6419b585-78a0-44fd-a9ef-0e4555fd9718",
   "metadata": {},
   "outputs": [
    {
     "data": {
      "text/plain": [
       "(array([0.97842324, 0.79100281]),\n",
       " array([0.91359938, 0.94196429]),\n",
       " array([0.94490082, 0.8599083 ]),\n",
       " array([2581,  896], dtype=int64))"
      ]
     },
     "execution_count": 23,
     "metadata": {},
     "output_type": "execute_result"
    }
   ],
   "source": [
    "y_pred = test_pred.argmax(dim=1).cpu().numpy()\n",
    "y_true = y.argmax(dim=1).cpu().numpy()\n",
    "precision_recall_fscore_support(y_true, y_pred)"
   ]
  },
  {
   "cell_type": "code",
   "execution_count": 24,
   "id": "cf5ba6e0-ca26-4ed0-b24b-a9b2d01ae605",
   "metadata": {},
   "outputs": [],
   "source": [
    "cf_matrix = confusion_matrix(y_true, y_pred)"
   ]
  },
  {
   "cell_type": "code",
   "execution_count": 25,
   "id": "1c50bfc3-71ee-40f3-b7e9-0108c24375c6",
   "metadata": {},
   "outputs": [
    {
     "data": {
      "image/png": "[encoded data removed]",
      "text/plain": [
       "<Figure size 640x480 with 2 Axes>"
      ]
     },
     "metadata": {},
     "output_type": "display_data"
    }
   ],
   "source": [
    "group_names = ['True Neg','False Pos','False Neg','True Pos']\n",
    "group_counts = [\"{0:0.0f}\".format(value) for value in cf_matrix.flatten()]\n",
    "labels = [f\"{v1}\\n{v2}\" for v1, v2 in zip(group_names, group_counts)]\n",
    "labels = np.asarray(labels).reshape(2,2)\n",
    "\n",
    "categories = [\"weak\", \"strong\"]\n",
    "sns.heatmap(cf_matrix, annot=labels, fmt='', cmap='Blues',xticklabels=categories, yticklabels=categories)\n",
    "plt.savefig('cf_mat_cnn.png')"
   ]
  },
  {
   "cell_type": "code",
   "execution_count": 1,
   "id": "21f87f39-957b-4ee2-a5c4-a768b5076667",
   "metadata": {},
   "outputs": [],
   "source": [
    "def parameters_to_gb(parameters_count):\n",
    "    # Assuming each parameter is stored as float32 (4 bytes)\n",
    "    bytes_required = parameters_count * 4\n",
    "    # Convert bytes to gigabytes\n",
    "    gb_required = bytes_required / (1024 ** 3)\n",
    "    return gb_required"
   ]
  },
  {
   "cell_type": "code",
   "execution_count": 2,
   "id": "48ddd1e9-531b-4caf-b636-66c42059f745",
   "metadata": {},
   "outputs": [
    {
     "data": {
      "text/plain": [
       "3.285706043243408e-06"
      ]
     },
     "execution_count": 2,
     "metadata": {},
     "output_type": "execute_result"
    }
   ],
   "source": [
    "parameters_to_gb(882)"
   ]
  },
  {
   "cell_type": "code",
   "execution_count": 3,
   "id": "b9760dfd-821f-4b93-90ab-23260919dd02",
   "metadata": {},
   "outputs": [],
   "source": [
    "def parameters_to_mb(parameters_count):\n",
    "    # Assuming each parameter is stored as float32 (4 bytes)\n",
    "    bytes_required = parameters_count * 4\n",
    "    # Convert bytes to megabytes\n",
    "    mb_required = bytes_required / (1024 ** 2)\n",
    "    return mb_required"
   ]
  },
  {
   "cell_type": "code",
   "execution_count": 4,
   "id": "963e903e-f0a7-4c65-bc47-135c4f3afe71",
   "metadata": {},
   "outputs": [
    {
     "data": {
      "text/plain": [
       "0.00336456298828125"
      ]
     },
     "execution_count": 4,
     "metadata": {},
     "output_type": "execute_result"
    }
   ],
   "source": [
    "parameters_to_mb(882)"
   ]
  },
  {
   "cell_type": "code",
   "execution_count": null,
   "id": "ef2a7723-25b2-47f9-88b5-9ea138441c64",
   "metadata": {},
   "outputs": [],
   "source": []
  }
 ],
 "metadata": {
  "kernelspec": {
   "display_name": "AIML",
   "language": "python",
   "name": "aiml"
  },
  "language_info": {
   "codemirror_mode": {
    "name": "ipython",
    "version": 3
   },
   "file_extension": ".py",
   "mimetype": "text/x-python",
   "name": "python",
   "nbconvert_exporter": "python",
   "pygments_lexer": "ipython3",
   "version": "3.8.17"
  }
 },
 "nbformat": 4,
 "nbformat_minor": 5
}
